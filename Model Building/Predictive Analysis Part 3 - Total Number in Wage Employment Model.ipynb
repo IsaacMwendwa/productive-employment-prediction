{
 "cells": [
  {
   "cell_type": "markdown",
   "metadata": {
    "id": "Wy9QWUMM03h0"
   },
   "source": [
    "# Part 4: Exploratory Data Analysis\n",
    "\n",
    "---\n",
    "\n"
   ]
  },
  {
   "cell_type": "markdown",
   "metadata": {
    "id": "sTFit2CVVzbM"
   },
   "source": [
    "1. EDA\n",
    "2. Meanwhile, feature engineering entails employing various techniques to manipulate the data. This may include adding or removing relevant features, handling missing data, encoding variables, and dealing with categorical variables, among other tasks"
   ]
  },
  {
   "cell_type": "markdown",
   "metadata": {
    "id": "PUZLneG_0-hT"
   },
   "source": [
    "### Workflow\n",
    "1. Reading updated dataset\n",
    "2. Performing data exploration to study and extract valuable information and non-obvious insights, which will help in model building\n",
    "3. EDA Steps include general insights regarding the data, analyzing missing values, numerical and categorical features’ distribution, outliers, multicollinearity\n",
    "4. EDA Univariate Analysis"
   ]
  },
  {
   "cell_type": "code",
   "execution_count": 235,
   "metadata": {},
   "outputs": [],
   "source": [
    "#imports\n",
    "import sys \n",
    "import numpy as np # linear algebra\n",
    "from scipy.stats import randint\n",
    "import pandas as pd # data processing, CSV file I/O \n",
    "import matplotlib.pyplot as plt # this is used for the plot the graph \n",
    "import seaborn as sns # used for plot interactive graph. \n",
    "from scipy import stats\n",
    "from sklearn import preprocessing\n",
    "\n",
    "from category_encoders import BinaryEncoder\n",
    "from sklearn.pipeline import Pipeline\n",
    "from sklearn.preprocessing import StandardScaler\n",
    "from sklearn.compose import ColumnTransformer\n",
    "\n",
    "from sklearn.metrics import mean_squared_error\n",
    "from sklearn.model_selection import cross_val_score\n",
    "from pprint import pprint\n",
    "from sklearn.model_selection import RandomizedSearchCV\n",
    "from sklearn.model_selection import GridSearchCV\n",
    "import pickle\n",
    "\n",
    "#to ignore warnings due to deprecated packages \n",
    "import warnings\n",
    "warnings.filterwarnings('ignore')"
   ]
  },
  {
   "cell_type": "markdown",
   "metadata": {
    "id": "ySJSpa8DFXWz"
   },
   "source": [
    "#### Reading updated dataset"
   ]
  },
  {
   "cell_type": "code",
   "execution_count": 22,
   "metadata": {
    "colab": {
     "base_uri": "https://localhost:8080/",
     "height": 466
    },
    "executionInfo": {
     "elapsed": 3793,
     "status": "ok",
     "timestamp": 1612926094688,
     "user": {
      "displayName": "Isaac Mwendwa",
      "photoUrl": "",
      "userId": "14986221937983786022"
     },
     "user_tz": -180
    },
    "id": "BD7rzB4y1F3k",
    "outputId": "7fec0760-4359-4d97-e77f-e3af63bb1af9"
   },
   "outputs": [],
   "source": [
    "pathDataset = 'C:/Users/Isaac.Mwendwa/Documents/Productive_Employment_Prediction/Model Building/Datasets/Wage_Employment_and_GDP_2011_to_2018_Updated.csv'\n",
    "\n",
    "date_cols = ['Year']\n",
    "df = pd.read_csv(pathDataset, header = 0, parse_dates=date_cols)\n",
    "\n",
    "df.drop('Unnamed: 0', axis=1, inplace=True)"
   ]
  },
  {
   "cell_type": "markdown",
   "metadata": {},
   "source": [
    "### Step 1 in EDA: General Insights About Data\n",
    "* Will include finding:\n",
    "    * Number of rows and columns (shape of dataset)\n",
    "    * Viewing observations (head, tail)\n",
    "    * Values in the data and datatypes\n",
    "    * Checking duplicated values\n",
    "    * Viewing Missing values in the dataset\n",
    "    * Checking summary statistics\n",
    "    * Checking number of numerical Features\n",
    "    * Checking Number and Cardinality of Categorical Features"
   ]
  },
  {
   "cell_type": "code",
   "execution_count": 23,
   "metadata": {},
   "outputs": [
    {
     "data": {
      "text/plain": [
       "(168, 13)"
      ]
     },
     "execution_count": 23,
     "metadata": {},
     "output_type": "execute_result"
    }
   ],
   "source": [
    "# Checking Number of rows and columns\n",
    "\n",
    "df.shape"
   ]
  },
  {
   "cell_type": "markdown",
   "metadata": {},
   "source": [
    "* The dataset has 168 observations (rows) and 13 features/variables (columns)"
   ]
  },
  {
   "cell_type": "code",
   "execution_count": 24,
   "metadata": {},
   "outputs": [
    {
     "data": {
      "text/html": [
       "<div>\n",
       "<style scoped>\n",
       "    .dataframe tbody tr th:only-of-type {\n",
       "        vertical-align: middle;\n",
       "    }\n",
       "\n",
       "    .dataframe tbody tr th {\n",
       "        vertical-align: top;\n",
       "    }\n",
       "\n",
       "    .dataframe thead th {\n",
       "        text-align: right;\n",
       "    }\n",
       "</style>\n",
       "<table border=\"1\" class=\"dataframe\">\n",
       "  <thead>\n",
       "    <tr style=\"text-align: right;\">\n",
       "      <th></th>\n",
       "      <th>Year</th>\n",
       "      <th>Industry</th>\n",
       "      <th>Contribution_to_GDP</th>\n",
       "      <th>Growth_of_GDP</th>\n",
       "      <th>Wage_bracket_0_to_9999</th>\n",
       "      <th>Wage_bracket_10000_to_14999</th>\n",
       "      <th>Wage_bracket_15000_to_19999</th>\n",
       "      <th>Wage_bracket_20000_to_24999</th>\n",
       "      <th>Wage_bracket_25000_to_29999</th>\n",
       "      <th>Wage_bracket_30000_to_49999</th>\n",
       "      <th>Wage_bracket_50000_to_99999</th>\n",
       "      <th>Wage_bracket_100000_plus</th>\n",
       "      <th>Total_number_in_wage_employment</th>\n",
       "    </tr>\n",
       "  </thead>\n",
       "  <tbody>\n",
       "    <tr>\n",
       "      <th>0</th>\n",
       "      <td>2011-01-01</td>\n",
       "      <td>Agriculture, Forestry And Fishing</td>\n",
       "      <td>23.8</td>\n",
       "      <td>1.5</td>\n",
       "      <td>12141</td>\n",
       "      <td>36238</td>\n",
       "      <td>111549</td>\n",
       "      <td>100240</td>\n",
       "      <td>37712</td>\n",
       "      <td>23976</td>\n",
       "      <td>12935</td>\n",
       "      <td>6631</td>\n",
       "      <td>341422</td>\n",
       "    </tr>\n",
       "    <tr>\n",
       "      <th>1</th>\n",
       "      <td>2011-01-01</td>\n",
       "      <td>Mining And Quarrying</td>\n",
       "      <td>0.7</td>\n",
       "      <td>7.1</td>\n",
       "      <td>59</td>\n",
       "      <td>101</td>\n",
       "      <td>944</td>\n",
       "      <td>1586</td>\n",
       "      <td>1965</td>\n",
       "      <td>2312</td>\n",
       "      <td>1752</td>\n",
       "      <td>13</td>\n",
       "      <td>8732</td>\n",
       "    </tr>\n",
       "    <tr>\n",
       "      <th>2</th>\n",
       "      <td>2011-01-01</td>\n",
       "      <td>Manufacturing</td>\n",
       "      <td>9.6</td>\n",
       "      <td>3.4</td>\n",
       "      <td>632</td>\n",
       "      <td>1723</td>\n",
       "      <td>17205</td>\n",
       "      <td>50949</td>\n",
       "      <td>54427</td>\n",
       "      <td>76329</td>\n",
       "      <td>70040</td>\n",
       "      <td>5580</td>\n",
       "      <td>276885</td>\n",
       "    </tr>\n",
       "    <tr>\n",
       "      <th>3</th>\n",
       "      <td>2011-01-01</td>\n",
       "      <td>Electricity, Gas, Steam And Air Conditioning S...</td>\n",
       "      <td>0.4</td>\n",
       "      <td>-4.4</td>\n",
       "      <td>1680</td>\n",
       "      <td>101</td>\n",
       "      <td>45</td>\n",
       "      <td>3229</td>\n",
       "      <td>690</td>\n",
       "      <td>1413</td>\n",
       "      <td>6830</td>\n",
       "      <td>30</td>\n",
       "      <td>14018</td>\n",
       "    </tr>\n",
       "    <tr>\n",
       "      <th>4</th>\n",
       "      <td>2011-01-01</td>\n",
       "      <td>Water Supply; Sewerage, Waste Management And R...</td>\n",
       "      <td>0.7</td>\n",
       "      <td>3.0</td>\n",
       "      <td>1680</td>\n",
       "      <td>2498</td>\n",
       "      <td>9143</td>\n",
       "      <td>3036</td>\n",
       "      <td>1983</td>\n",
       "      <td>1970</td>\n",
       "      <td>818</td>\n",
       "      <td>83</td>\n",
       "      <td>21211</td>\n",
       "    </tr>\n",
       "  </tbody>\n",
       "</table>\n",
       "</div>"
      ],
      "text/plain": [
       "        Year                                           Industry  \\\n",
       "0 2011-01-01                  Agriculture, Forestry And Fishing   \n",
       "1 2011-01-01                               Mining And Quarrying   \n",
       "2 2011-01-01                                      Manufacturing   \n",
       "3 2011-01-01  Electricity, Gas, Steam And Air Conditioning S...   \n",
       "4 2011-01-01  Water Supply; Sewerage, Waste Management And R...   \n",
       "\n",
       "   Contribution_to_GDP  Growth_of_GDP  Wage_bracket_0_to_9999  \\\n",
       "0                 23.8            1.5                   12141   \n",
       "1                  0.7            7.1                      59   \n",
       "2                  9.6            3.4                     632   \n",
       "3                  0.4           -4.4                    1680   \n",
       "4                  0.7            3.0                    1680   \n",
       "\n",
       "   Wage_bracket_10000_to_14999  Wage_bracket_15000_to_19999  \\\n",
       "0                        36238                       111549   \n",
       "1                          101                          944   \n",
       "2                         1723                        17205   \n",
       "3                          101                           45   \n",
       "4                         2498                         9143   \n",
       "\n",
       "   Wage_bracket_20000_to_24999  Wage_bracket_25000_to_29999  \\\n",
       "0                       100240                        37712   \n",
       "1                         1586                         1965   \n",
       "2                        50949                        54427   \n",
       "3                         3229                          690   \n",
       "4                         3036                         1983   \n",
       "\n",
       "   Wage_bracket_30000_to_49999  Wage_bracket_50000_to_99999  \\\n",
       "0                        23976                        12935   \n",
       "1                         2312                         1752   \n",
       "2                        76329                        70040   \n",
       "3                         1413                         6830   \n",
       "4                         1970                          818   \n",
       "\n",
       "   Wage_bracket_100000_plus  Total_number_in_wage_employment  \n",
       "0                      6631                           341422  \n",
       "1                        13                             8732  \n",
       "2                      5580                           276885  \n",
       "3                        30                            14018  \n",
       "4                        83                            21211  "
      ]
     },
     "execution_count": 24,
     "metadata": {},
     "output_type": "execute_result"
    }
   ],
   "source": [
    "# Checking head to display top 5 observations\n",
    "\n",
    "df.head()"
   ]
  },
  {
   "cell_type": "code",
   "execution_count": 25,
   "metadata": {},
   "outputs": [
    {
     "data": {
      "text/html": [
       "<div>\n",
       "<style scoped>\n",
       "    .dataframe tbody tr th:only-of-type {\n",
       "        vertical-align: middle;\n",
       "    }\n",
       "\n",
       "    .dataframe tbody tr th {\n",
       "        vertical-align: top;\n",
       "    }\n",
       "\n",
       "    .dataframe thead th {\n",
       "        text-align: right;\n",
       "    }\n",
       "</style>\n",
       "<table border=\"1\" class=\"dataframe\">\n",
       "  <thead>\n",
       "    <tr style=\"text-align: right;\">\n",
       "      <th></th>\n",
       "      <th>Year</th>\n",
       "      <th>Industry</th>\n",
       "      <th>Contribution_to_GDP</th>\n",
       "      <th>Growth_of_GDP</th>\n",
       "      <th>Wage_bracket_0_to_9999</th>\n",
       "      <th>Wage_bracket_10000_to_14999</th>\n",
       "      <th>Wage_bracket_15000_to_19999</th>\n",
       "      <th>Wage_bracket_20000_to_24999</th>\n",
       "      <th>Wage_bracket_25000_to_29999</th>\n",
       "      <th>Wage_bracket_30000_to_49999</th>\n",
       "      <th>Wage_bracket_50000_to_99999</th>\n",
       "      <th>Wage_bracket_100000_plus</th>\n",
       "      <th>Total_number_in_wage_employment</th>\n",
       "    </tr>\n",
       "  </thead>\n",
       "  <tbody>\n",
       "    <tr>\n",
       "      <th>163</th>\n",
       "      <td>2018-01-01</td>\n",
       "      <td>Human Health And Social Work Activities</td>\n",
       "      <td>1.5</td>\n",
       "      <td>4.5</td>\n",
       "      <td>1680</td>\n",
       "      <td>960</td>\n",
       "      <td>6108</td>\n",
       "      <td>17810</td>\n",
       "      <td>36788</td>\n",
       "      <td>65229</td>\n",
       "      <td>17572</td>\n",
       "      <td>4287</td>\n",
       "      <td>150434</td>\n",
       "    </tr>\n",
       "    <tr>\n",
       "      <th>164</th>\n",
       "      <td>2018-01-01</td>\n",
       "      <td>Arts, Entertainment And Recreation</td>\n",
       "      <td>0.1</td>\n",
       "      <td>6.4</td>\n",
       "      <td>1680</td>\n",
       "      <td>46</td>\n",
       "      <td>857</td>\n",
       "      <td>1446</td>\n",
       "      <td>2277</td>\n",
       "      <td>1188</td>\n",
       "      <td>878</td>\n",
       "      <td>550</td>\n",
       "      <td>8922</td>\n",
       "    </tr>\n",
       "    <tr>\n",
       "      <th>165</th>\n",
       "      <td>2018-01-01</td>\n",
       "      <td>Other Service Activities</td>\n",
       "      <td>0.6</td>\n",
       "      <td>6.7</td>\n",
       "      <td>1680</td>\n",
       "      <td>552</td>\n",
       "      <td>1735</td>\n",
       "      <td>4490</td>\n",
       "      <td>11270</td>\n",
       "      <td>11251</td>\n",
       "      <td>6312</td>\n",
       "      <td>722</td>\n",
       "      <td>38012</td>\n",
       "    </tr>\n",
       "    <tr>\n",
       "      <th>166</th>\n",
       "      <td>2018-01-01</td>\n",
       "      <td>Activities Of Households As Employers; Undiffe...</td>\n",
       "      <td>0.4</td>\n",
       "      <td>1.6</td>\n",
       "      <td>1680</td>\n",
       "      <td>316</td>\n",
       "      <td>911</td>\n",
       "      <td>17245</td>\n",
       "      <td>15082</td>\n",
       "      <td>53200</td>\n",
       "      <td>29083</td>\n",
       "      <td>4186</td>\n",
       "      <td>121703</td>\n",
       "    </tr>\n",
       "    <tr>\n",
       "      <th>167</th>\n",
       "      <td>2018-01-01</td>\n",
       "      <td>Activities Of Extraterritorial Organizations A...</td>\n",
       "      <td>-1.9</td>\n",
       "      <td>1.1</td>\n",
       "      <td>1680</td>\n",
       "      <td>2498</td>\n",
       "      <td>9143</td>\n",
       "      <td>17074</td>\n",
       "      <td>20948</td>\n",
       "      <td>34258</td>\n",
       "      <td>28868</td>\n",
       "      <td>4186</td>\n",
       "      <td>118655</td>\n",
       "    </tr>\n",
       "  </tbody>\n",
       "</table>\n",
       "</div>"
      ],
      "text/plain": [
       "          Year                                           Industry  \\\n",
       "163 2018-01-01            Human Health And Social Work Activities   \n",
       "164 2018-01-01                 Arts, Entertainment And Recreation   \n",
       "165 2018-01-01                           Other Service Activities   \n",
       "166 2018-01-01  Activities Of Households As Employers; Undiffe...   \n",
       "167 2018-01-01  Activities Of Extraterritorial Organizations A...   \n",
       "\n",
       "     Contribution_to_GDP  Growth_of_GDP  Wage_bracket_0_to_9999  \\\n",
       "163                  1.5            4.5                    1680   \n",
       "164                  0.1            6.4                    1680   \n",
       "165                  0.6            6.7                    1680   \n",
       "166                  0.4            1.6                    1680   \n",
       "167                 -1.9            1.1                    1680   \n",
       "\n",
       "     Wage_bracket_10000_to_14999  Wage_bracket_15000_to_19999  \\\n",
       "163                          960                         6108   \n",
       "164                           46                          857   \n",
       "165                          552                         1735   \n",
       "166                          316                          911   \n",
       "167                         2498                         9143   \n",
       "\n",
       "     Wage_bracket_20000_to_24999  Wage_bracket_25000_to_29999  \\\n",
       "163                        17810                        36788   \n",
       "164                         1446                         2277   \n",
       "165                         4490                        11270   \n",
       "166                        17245                        15082   \n",
       "167                        17074                        20948   \n",
       "\n",
       "     Wage_bracket_30000_to_49999  Wage_bracket_50000_to_99999  \\\n",
       "163                        65229                        17572   \n",
       "164                         1188                          878   \n",
       "165                        11251                         6312   \n",
       "166                        53200                        29083   \n",
       "167                        34258                        28868   \n",
       "\n",
       "     Wage_bracket_100000_plus  Total_number_in_wage_employment  \n",
       "163                      4287                           150434  \n",
       "164                       550                             8922  \n",
       "165                       722                            38012  \n",
       "166                      4186                           121703  \n",
       "167                      4186                           118655  "
      ]
     },
     "execution_count": 25,
     "metadata": {},
     "output_type": "execute_result"
    }
   ],
   "source": [
    "# Checking tail to display last 5 observations\n",
    "\n",
    "df.tail()"
   ]
  },
  {
   "cell_type": "code",
   "execution_count": 26,
   "metadata": {},
   "outputs": [
    {
     "name": "stdout",
     "output_type": "stream",
     "text": [
      "<class 'pandas.core.frame.DataFrame'>\n",
      "RangeIndex: 168 entries, 0 to 167\n",
      "Data columns (total 13 columns):\n",
      " #   Column                           Non-Null Count  Dtype         \n",
      "---  ------                           --------------  -----         \n",
      " 0   Year                             168 non-null    datetime64[ns]\n",
      " 1   Industry                         168 non-null    object        \n",
      " 2   Contribution_to_GDP              168 non-null    float64       \n",
      " 3   Growth_of_GDP                    168 non-null    float64       \n",
      " 4   Wage_bracket_0_to_9999           168 non-null    int64         \n",
      " 5   Wage_bracket_10000_to_14999      168 non-null    int64         \n",
      " 6   Wage_bracket_15000_to_19999      168 non-null    int64         \n",
      " 7   Wage_bracket_20000_to_24999      168 non-null    int64         \n",
      " 8   Wage_bracket_25000_to_29999      168 non-null    int64         \n",
      " 9   Wage_bracket_30000_to_49999      168 non-null    int64         \n",
      " 10  Wage_bracket_50000_to_99999      168 non-null    int64         \n",
      " 11  Wage_bracket_100000_plus         168 non-null    int64         \n",
      " 12  Total_number_in_wage_employment  168 non-null    int64         \n",
      "dtypes: datetime64[ns](1), float64(2), int64(9), object(1)\n",
      "memory usage: 17.2+ KB\n"
     ]
    }
   ],
   "source": [
    "# checking information about data\n",
    "\n",
    "df.info()"
   ]
  },
  {
   "cell_type": "markdown",
   "metadata": {},
   "source": [
    "* The table shows that we have 168 number of records in each column (rows)\n",
    "* The dataset contains 168 non-null observations in each column \n",
    "* The table also displays the columns' Data type as follows: \n",
    "    * We have 1 categorical variable of datatype object: Industry\n",
    "    * We have 1 datetime column: Year\n",
    "    * The numerical variables of datatype float64 include: Contribution_to_GDP and Growth_of_GDP\n",
    "    * The numerical variables of datatype int64 include: Total_number_in_wage_employment, Wage_bracket_10000_to_14999, Wage_bracket_15000_to_19999, Wage_bracket_20000_to_24999, Wage_bracket_25000_to_29999, Wage_bracket_30000_to_49999, Wage_bracket_50000_to_99999, Wage_bracket_100000_plus, Total_number_in_wage_employment\n",
    "* The memory usage of the dataset is 17.2 KB"
   ]
  },
  {
   "cell_type": "code",
   "execution_count": 27,
   "metadata": {},
   "outputs": [
    {
     "data": {
      "text/plain": [
       "Year                                 8\n",
       "Industry                            21\n",
       "Contribution_to_GDP                 78\n",
       "Growth_of_GDP                       95\n",
       "Wage_bracket_0_to_9999              82\n",
       "Wage_bracket_10000_to_14999        123\n",
       "Wage_bracket_15000_to_19999        133\n",
       "Wage_bracket_20000_to_24999        146\n",
       "Wage_bracket_25000_to_29999        147\n",
       "Wage_bracket_30000_to_49999        146\n",
       "Wage_bracket_50000_to_99999        147\n",
       "Wage_bracket_100000_plus           134\n",
       "Total_number_in_wage_employment    147\n",
       "dtype: int64"
      ]
     },
     "execution_count": 27,
     "metadata": {},
     "output_type": "execute_result"
    }
   ],
   "source": [
    "# Checking for Duplication\n",
    "\n",
    "df.nunique()"
   ]
  },
  {
   "cell_type": "markdown",
   "metadata": {},
   "source": [
    "* The data shows that we have 8 unique Year values, and 21 unique Industry values"
   ]
  },
  {
   "cell_type": "code",
   "execution_count": 28,
   "metadata": {},
   "outputs": [
    {
     "data": {
      "text/plain": [
       "Year                               0\n",
       "Industry                           0\n",
       "Contribution_to_GDP                0\n",
       "Growth_of_GDP                      0\n",
       "Wage_bracket_0_to_9999             0\n",
       "Wage_bracket_10000_to_14999        0\n",
       "Wage_bracket_15000_to_19999        0\n",
       "Wage_bracket_20000_to_24999        0\n",
       "Wage_bracket_25000_to_29999        0\n",
       "Wage_bracket_30000_to_49999        0\n",
       "Wage_bracket_50000_to_99999        0\n",
       "Wage_bracket_100000_plus           0\n",
       "Total_number_in_wage_employment    0\n",
       "dtype: int64"
      ]
     },
     "execution_count": 28,
     "metadata": {},
     "output_type": "execute_result"
    }
   ],
   "source": [
    "# Checking number of missing values in each column\n",
    "\n",
    "df.isnull().sum()"
   ]
  },
  {
   "cell_type": "code",
   "execution_count": 29,
   "metadata": {},
   "outputs": [
    {
     "data": {
      "text/plain": [
       "Year                               0.0\n",
       "Industry                           0.0\n",
       "Contribution_to_GDP                0.0\n",
       "Growth_of_GDP                      0.0\n",
       "Wage_bracket_0_to_9999             0.0\n",
       "Wage_bracket_10000_to_14999        0.0\n",
       "Wage_bracket_15000_to_19999        0.0\n",
       "Wage_bracket_20000_to_24999        0.0\n",
       "Wage_bracket_25000_to_29999        0.0\n",
       "Wage_bracket_30000_to_49999        0.0\n",
       "Wage_bracket_50000_to_99999        0.0\n",
       "Wage_bracket_100000_plus           0.0\n",
       "Total_number_in_wage_employment    0.0\n",
       "dtype: float64"
      ]
     },
     "execution_count": 29,
     "metadata": {},
     "output_type": "execute_result"
    }
   ],
   "source": [
    "# Checking percentage of missing values in each column\n",
    "\n",
    "(df.isnull().sum()/(len(df)))*100"
   ]
  },
  {
   "cell_type": "code",
   "execution_count": 30,
   "metadata": {},
   "outputs": [
    {
     "data": {
      "text/html": [
       "<div>\n",
       "<style scoped>\n",
       "    .dataframe tbody tr th:only-of-type {\n",
       "        vertical-align: middle;\n",
       "    }\n",
       "\n",
       "    .dataframe tbody tr th {\n",
       "        vertical-align: top;\n",
       "    }\n",
       "\n",
       "    .dataframe thead th {\n",
       "        text-align: right;\n",
       "    }\n",
       "</style>\n",
       "<table border=\"1\" class=\"dataframe\">\n",
       "  <thead>\n",
       "    <tr style=\"text-align: right;\">\n",
       "      <th></th>\n",
       "      <th>Contribution_to_GDP</th>\n",
       "      <th>Growth_of_GDP</th>\n",
       "      <th>Wage_bracket_0_to_9999</th>\n",
       "      <th>Wage_bracket_10000_to_14999</th>\n",
       "      <th>Wage_bracket_15000_to_19999</th>\n",
       "      <th>Wage_bracket_20000_to_24999</th>\n",
       "      <th>Wage_bracket_25000_to_29999</th>\n",
       "      <th>Wage_bracket_30000_to_49999</th>\n",
       "      <th>Wage_bracket_50000_to_99999</th>\n",
       "      <th>Wage_bracket_100000_plus</th>\n",
       "      <th>Total_number_in_wage_employment</th>\n",
       "    </tr>\n",
       "  </thead>\n",
       "  <tbody>\n",
       "    <tr>\n",
       "      <th>count</th>\n",
       "      <td>168.000000</td>\n",
       "      <td>168.000000</td>\n",
       "      <td>168.000000</td>\n",
       "      <td>168.000000</td>\n",
       "      <td>168.000000</td>\n",
       "      <td>168.000000</td>\n",
       "      <td>168.000000</td>\n",
       "      <td>168.000000</td>\n",
       "      <td>168.000000</td>\n",
       "      <td>168.000000</td>\n",
       "      <td>168.000000</td>\n",
       "    </tr>\n",
       "    <tr>\n",
       "      <th>mean</th>\n",
       "      <td>4.403012</td>\n",
       "      <td>5.354037</td>\n",
       "      <td>1680.553571</td>\n",
       "      <td>2498.755952</td>\n",
       "      <td>9143.380952</td>\n",
       "      <td>17074.642857</td>\n",
       "      <td>20948.005952</td>\n",
       "      <td>34258.625000</td>\n",
       "      <td>28868.702381</td>\n",
       "      <td>4186.000000</td>\n",
       "      <td>118658.666667</td>\n",
       "    </tr>\n",
       "    <tr>\n",
       "      <th>std</th>\n",
       "      <td>6.463415</td>\n",
       "      <td>4.126909</td>\n",
       "      <td>2308.034773</td>\n",
       "      <td>5485.628377</td>\n",
       "      <td>19421.986836</td>\n",
       "      <td>22994.028045</td>\n",
       "      <td>27002.516428</td>\n",
       "      <td>40714.966114</td>\n",
       "      <td>38148.329144</td>\n",
       "      <td>6741.704946</td>\n",
       "      <td>126191.119148</td>\n",
       "    </tr>\n",
       "    <tr>\n",
       "      <th>min</th>\n",
       "      <td>-2.800000</td>\n",
       "      <td>-16.700000</td>\n",
       "      <td>23.000000</td>\n",
       "      <td>35.000000</td>\n",
       "      <td>45.000000</td>\n",
       "      <td>195.000000</td>\n",
       "      <td>71.000000</td>\n",
       "      <td>236.000000</td>\n",
       "      <td>275.000000</td>\n",
       "      <td>13.000000</td>\n",
       "      <td>2328.000000</td>\n",
       "    </tr>\n",
       "    <tr>\n",
       "      <th>25%</th>\n",
       "      <td>0.800000</td>\n",
       "      <td>3.000000</td>\n",
       "      <td>406.000000</td>\n",
       "      <td>249.500000</td>\n",
       "      <td>800.000000</td>\n",
       "      <td>3144.750000</td>\n",
       "      <td>2233.000000</td>\n",
       "      <td>2380.750000</td>\n",
       "      <td>2009.750000</td>\n",
       "      <td>540.000000</td>\n",
       "      <td>19352.500000</td>\n",
       "    </tr>\n",
       "    <tr>\n",
       "      <th>50%</th>\n",
       "      <td>1.700000</td>\n",
       "      <td>5.354037</td>\n",
       "      <td>1680.000000</td>\n",
       "      <td>889.000000</td>\n",
       "      <td>1773.000000</td>\n",
       "      <td>8038.000000</td>\n",
       "      <td>14603.000000</td>\n",
       "      <td>22798.000000</td>\n",
       "      <td>18818.000000</td>\n",
       "      <td>2585.000000</td>\n",
       "      <td>77797.500000</td>\n",
       "    </tr>\n",
       "    <tr>\n",
       "      <th>75%</th>\n",
       "      <td>6.725000</td>\n",
       "      <td>7.025000</td>\n",
       "      <td>1680.000000</td>\n",
       "      <td>2498.000000</td>\n",
       "      <td>9143.000000</td>\n",
       "      <td>21628.750000</td>\n",
       "      <td>29698.000000</td>\n",
       "      <td>50732.000000</td>\n",
       "      <td>36935.250000</td>\n",
       "      <td>5052.750000</td>\n",
       "      <td>165884.000000</td>\n",
       "    </tr>\n",
       "    <tr>\n",
       "      <th>max</th>\n",
       "      <td>34.800000</td>\n",
       "      <td>19.000000</td>\n",
       "      <td>13312.000000</td>\n",
       "      <td>36797.000000</td>\n",
       "      <td>113270.000000</td>\n",
       "      <td>101786.000000</td>\n",
       "      <td>140233.000000</td>\n",
       "      <td>265031.000000</td>\n",
       "      <td>282385.000000</td>\n",
       "      <td>56221.000000</td>\n",
       "      <td>576831.000000</td>\n",
       "    </tr>\n",
       "  </tbody>\n",
       "</table>\n",
       "</div>"
      ],
      "text/plain": [
       "       Contribution_to_GDP  Growth_of_GDP  Wage_bracket_0_to_9999  \\\n",
       "count           168.000000     168.000000              168.000000   \n",
       "mean              4.403012       5.354037             1680.553571   \n",
       "std               6.463415       4.126909             2308.034773   \n",
       "min              -2.800000     -16.700000               23.000000   \n",
       "25%               0.800000       3.000000              406.000000   \n",
       "50%               1.700000       5.354037             1680.000000   \n",
       "75%               6.725000       7.025000             1680.000000   \n",
       "max              34.800000      19.000000            13312.000000   \n",
       "\n",
       "       Wage_bracket_10000_to_14999  Wage_bracket_15000_to_19999  \\\n",
       "count                   168.000000                   168.000000   \n",
       "mean                   2498.755952                  9143.380952   \n",
       "std                    5485.628377                 19421.986836   \n",
       "min                      35.000000                    45.000000   \n",
       "25%                     249.500000                   800.000000   \n",
       "50%                     889.000000                  1773.000000   \n",
       "75%                    2498.000000                  9143.000000   \n",
       "max                   36797.000000                113270.000000   \n",
       "\n",
       "       Wage_bracket_20000_to_24999  Wage_bracket_25000_to_29999  \\\n",
       "count                   168.000000                   168.000000   \n",
       "mean                  17074.642857                 20948.005952   \n",
       "std                   22994.028045                 27002.516428   \n",
       "min                     195.000000                    71.000000   \n",
       "25%                    3144.750000                  2233.000000   \n",
       "50%                    8038.000000                 14603.000000   \n",
       "75%                   21628.750000                 29698.000000   \n",
       "max                  101786.000000                140233.000000   \n",
       "\n",
       "       Wage_bracket_30000_to_49999  Wage_bracket_50000_to_99999  \\\n",
       "count                   168.000000                   168.000000   \n",
       "mean                  34258.625000                 28868.702381   \n",
       "std                   40714.966114                 38148.329144   \n",
       "min                     236.000000                   275.000000   \n",
       "25%                    2380.750000                  2009.750000   \n",
       "50%                   22798.000000                 18818.000000   \n",
       "75%                   50732.000000                 36935.250000   \n",
       "max                  265031.000000                282385.000000   \n",
       "\n",
       "       Wage_bracket_100000_plus  Total_number_in_wage_employment  \n",
       "count                168.000000                       168.000000  \n",
       "mean                4186.000000                    118658.666667  \n",
       "std                 6741.704946                    126191.119148  \n",
       "min                   13.000000                      2328.000000  \n",
       "25%                  540.000000                     19352.500000  \n",
       "50%                 2585.000000                     77797.500000  \n",
       "75%                 5052.750000                    165884.000000  \n",
       "max                56221.000000                    576831.000000  "
      ]
     },
     "execution_count": 30,
     "metadata": {},
     "output_type": "execute_result"
    }
   ],
   "source": [
    "# Checking Summary Statistics\n",
    "\n",
    "df.describe()"
   ]
  },
  {
   "cell_type": "markdown",
   "metadata": {},
   "source": [
    "* The output shows that most of the features are on different scales (e.g Contribution_to_GDP is a percentage, while the Wage columns are numerical counts)\n",
    "* Because of this, the ranges of values and the standard deviations for each are very different from one another\n",
    "* We can see here that Contribution_to_GDP has a standard deviation of about 6.46, while Total_number_in_wage_employment has a standard deviation of about 126191.11\n",
    "* When working with features with largely differing scales, it is often a good idea to standardize the features so that they all have a mean of 0 and a standard deviation of 1\n",
    "* A feature without any values close to zero may also make it more difficult to estimate and interpret the intercept of a regression model\n",
    "* Standardizing or otherwise re-scaling the feature can fix this issue, which will be done in Feature Engineering Step"
   ]
  },
  {
   "cell_type": "code",
   "execution_count": 31,
   "metadata": {},
   "outputs": [
    {
     "name": "stdout",
     "output_type": "stream",
     "text": [
      "Numerical Variables Count: 11\n",
      "['Contribution_to_GDP', 'Growth_of_GDP', 'Wage_bracket_0_to_9999', 'Wage_bracket_10000_to_14999', 'Wage_bracket_15000_to_19999', 'Wage_bracket_20000_to_24999', 'Wage_bracket_25000_to_29999', 'Wage_bracket_30000_to_49999', 'Wage_bracket_50000_to_99999', 'Wage_bracket_100000_plus', 'Total_number_in_wage_employment']\n"
     ]
    }
   ],
   "source": [
    "# Checking Numerical Features\n",
    "\n",
    "num_cols = df.select_dtypes(include=np.number).columns.tolist()\n",
    "\n",
    "print(\"Numerical Variables Count: {}\".format(len(num_cols)))\n",
    "print(num_cols)"
   ]
  },
  {
   "cell_type": "code",
   "execution_count": 32,
   "metadata": {},
   "outputs": [
    {
     "name": "stdout",
     "output_type": "stream",
     "text": [
      "Categorical Variables Count: 1\n",
      "['Industry']\n"
     ]
    }
   ],
   "source": [
    "# Checking Categorical Variables\n",
    "\n",
    "cat_cols=df.select_dtypes(include=['object']).columns.tolist()\n",
    "\n",
    "print(\"Categorical Variables Count: {}\".format(len(cat_cols)))\n",
    "print(cat_cols)"
   ]
  },
  {
   "cell_type": "code",
   "execution_count": 33,
   "metadata": {},
   "outputs": [
    {
     "name": "stdout",
     "output_type": "stream",
     "text": [
      "The feature is: Industry and number of categories are: 21\n"
     ]
    }
   ],
   "source": [
    "# Checking Cardinality of Categorical Features\n",
    "\n",
    "for feature in cat_cols:\n",
    "    print('The feature is: {} and number of categories are: {}'.format(feature, len(df[feature].unique())))"
   ]
  },
  {
   "cell_type": "markdown",
   "metadata": {},
   "source": [
    "* We generally convert the categorical values of a feature into dummy variables so that our algorithm understands (called One hot encoding)\n",
    "* If the cardinality of a particular category is very high, then we do not use one-hot encoding as it might lead to a Curse of Dimensionality (CoD)\n",
    "* CoD is defined as **\"as the number of dimensions or features increases, the amount of data needed to generalize the machine learning model accurately increases exponentially\"**\n",
    "* The increase in dimensions makes the data sparse, and it increases the difficulty of generalizing the model. More training data is needed to generalize that model better\n",
    "* The threshold value of categories that I have chosen for this case to perform one-hot encoding is 10, which will be effected in the Feature Engineering Phase"
   ]
  },
  {
   "cell_type": "markdown",
   "metadata": {},
   "source": [
    "### Step 2 of EDA: EDA Univariate Analysis\n",
    "* Univariate analysis involves analyzing/visualizing the dataset by taking one variable at a time\n",
    "* "
   ]
  },
  {
   "cell_type": "code",
   "execution_count": 34,
   "metadata": {
    "scrolled": false
   },
   "outputs": [
    {
     "name": "stdout",
     "output_type": "stream",
     "text": [
      "Contribution_to_GDP\n",
      "Skew : 2.87\n"
     ]
    },
    {
     "data": {
      "image/png": "[encoded data removed]",
      "text/plain": [
       "<Figure size 1080x288 with 2 Axes>"
      ]
     },
     "metadata": {
      "needs_background": "light"
     },
     "output_type": "display_data"
    },
    {
     "name": "stdout",
     "output_type": "stream",
     "text": [
      "Growth_of_GDP\n",
      "Skew : -0.47\n"
     ]
    },
    {
     "data": {
      "image/png": "[encoded data removed]",
      "text/plain": [
       "<Figure size 1080x288 with 2 Axes>"
      ]
     },
     "metadata": {
      "needs_background": "light"
     },
     "output_type": "display_data"
    },
    {
     "name": "stdout",
     "output_type": "stream",
     "text": [
      "Wage_bracket_0_to_9999\n",
      "Skew : 3.7\n"
     ]
    },
    {
     "data": {
      "image/png": "[encoded data removed]",
      "text/plain": [
       "<Figure size 1080x288 with 2 Axes>"
      ]
     },
     "metadata": {
      "needs_background": "light"
     },
     "output_type": "display_data"
    },
    {
     "name": "stdout",
     "output_type": "stream",
     "text": [
      "Wage_bracket_10000_to_14999\n",
      "Skew : 4.81\n"
     ]
    },
    {
     "data": {
      "image/png": "[encoded data removed]",
      "text/plain": [
       "<Figure size 1080x288 with 2 Axes>"
      ]
     },
     "metadata": {
      "needs_background": "light"
     },
     "output_type": "display_data"
    },
    {
     "name": "stdout",
     "output_type": "stream",
     "text": [
      "Wage_bracket_15000_to_19999\n",
      "Skew : 3.86\n"
     ]
    },
    {
     "data": {
      "image/png": "[encoded data removed]",
      "text/plain": [
       "<Figure size 1080x288 with 2 Axes>"
      ]
     },
     "metadata": {
      "needs_background": "light"
     },
     "output_type": "display_data"
    },
    {
     "name": "stdout",
     "output_type": "stream",
     "text": [
      "Wage_bracket_20000_to_24999\n",
      "Skew : 2.13\n"
     ]
    },
    {
     "data": {
      "image/png": "[encoded data removed]",
      "text/plain": [
       "<Figure size 1080x288 with 2 Axes>"
      ]
     },
     "metadata": {
      "needs_background": "light"
     },
     "output_type": "display_data"
    },
    {
     "name": "stdout",
     "output_type": "stream",
     "text": [
      "Wage_bracket_25000_to_29999\n",
      "Skew : 2.55\n"
     ]
    },
    {
     "data": {
      "image/png": "[encoded data removed]",
      "text/plain": [
       "<Figure size 1080x288 with 2 Axes>"
      ]
     },
     "metadata": {
      "needs_background": "light"
     },
     "output_type": "display_data"
    },
    {
     "name": "stdout",
     "output_type": "stream",
     "text": [
      "Wage_bracket_30000_to_49999\n",
      "Skew : 2.12\n"
     ]
    },
    {
     "data": {
      "image/png": "[encoded data removed]",
      "text/plain": [
       "<Figure size 1080x288 with 2 Axes>"
      ]
     },
     "metadata": {
      "needs_background": "light"
     },
     "output_type": "display_data"
    },
    {
     "name": "stdout",
     "output_type": "stream",
     "text": [
      "Wage_bracket_50000_to_99999\n",
      "Skew : 3.12\n"
     ]
    },
    {
     "data": {
      "image/png": "[encoded data removed]",
      "text/plain": [
       "<Figure size 1080x288 with 2 Axes>"
      ]
     },
     "metadata": {
      "needs_background": "light"
     },
     "output_type": "display_data"
    },
    {
     "name": "stdout",
     "output_type": "stream",
     "text": [
      "Wage_bracket_100000_plus\n",
      "Skew : 4.99\n"
     ]
    },
    {
     "data": {
      "image/png": "[encoded data removed]",
      "text/plain": [
       "<Figure size 1080x288 with 2 Axes>"
      ]
     },
     "metadata": {
      "needs_background": "light"
     },
     "output_type": "display_data"
    },
    {
     "name": "stdout",
     "output_type": "stream",
     "text": [
      "Total_number_in_wage_employment\n",
      "Skew : 1.49\n"
     ]
    },
    {
     "data": {
      "image/png": "[encoded data removed]",
      "text/plain": [
       "<Figure size 1080x288 with 2 Axes>"
      ]
     },
     "metadata": {
      "needs_background": "light"
     },
     "output_type": "display_data"
    }
   ],
   "source": [
    "# EDA of Numerical Columns\n",
    "for col in num_cols:\n",
    "    print(col)\n",
    "    print('Skew :', round(df[col].skew(), 2))\n",
    "    plt.figure(figsize = (15, 4))\n",
    "    plt.subplot(1, 2, 1)\n",
    "    df[col].hist(grid=False)\n",
    "    plt.ylabel('count')\n",
    "    plt.subplot(1, 2, 2)\n",
    "    sns.boxplot(x=df[col])\n",
    "    plt.show()"
   ]
  },
  {
   "cell_type": "markdown",
   "metadata": {},
   "source": [
    "* The plots show the histograms and skewness metrics for the numerical columns\n",
    "* Majority of the feature columns are highly positively skewed (skewness greater than 1)\n",
    "* We will handle this in feature engineering"
   ]
  },
  {
   "cell_type": "code",
   "execution_count": 35,
   "metadata": {
    "colab": {
     "base_uri": "https://localhost:8080/",
     "height": 274
    },
    "executionInfo": {
     "elapsed": 5959,
     "status": "ok",
     "timestamp": 1603442498469,
     "user": {
      "displayName": "Isaac Mwendwa",
      "photoUrl": "",
      "userId": "14986221937983786022"
     },
     "user_tz": -180
    },
    "id": "B8dPS71gGLrm",
    "outputId": "196a4884-a68c-43cc-f9f8-2662afd2b176"
   },
   "outputs": [],
   "source": [
    "# Function to plot horizontal bar chart\n",
    "\n",
    "def draw_horizontal_bar(df_column, title):\n",
    "  data_series = df_column.value_counts().sort_values()\n",
    "  ax = data_series.plot(kind=\"barh\", figsize=(10, 6), color='#6495ED', zorder=2, width=0.85)\n",
    "  ax.set_title(title, weight='bold', size=12)\n",
    "  # Draw vertical axis lines\n",
    "  vals = ax.get_xticks()\n",
    "  for tick in vals:\n",
    "    ax.axvline(x=tick, linestyle='dashed', alpha=0.4, color='#eeeeee', zorder=1)"
   ]
  },
  {
   "cell_type": "code",
   "execution_count": 36,
   "metadata": {},
   "outputs": [
    {
     "data": {
      "image/png": "[encoded data removed]",
      "text/plain": [
       "<Figure size 720x432 with 1 Axes>"
      ]
     },
     "metadata": {
      "needs_background": "light"
     },
     "output_type": "display_data"
    }
   ],
   "source": [
    "# Count of Industry\n",
    "df_column = df['Industry']\n",
    "title = 'Count of Industry'\n",
    "\n",
    "# calling horizontal bar function\n",
    "draw_horizontal_bar(df_column, title)"
   ]
  },
  {
   "cell_type": "code",
   "execution_count": 37,
   "metadata": {},
   "outputs": [
    {
     "data": {
      "image/png": "[encoded data removed]",
      "text/plain": [
       "<Figure size 720x432 with 1 Axes>"
      ]
     },
     "metadata": {
      "needs_background": "light"
     },
     "output_type": "display_data"
    }
   ],
   "source": [
    "# Count of Year\n",
    "df_column = df['Year']\n",
    "title = 'Count of Year'\n",
    "\n",
    "# calling horizontal bar function\n",
    "draw_horizontal_bar(df_column, title)"
   ]
  },
  {
   "cell_type": "markdown",
   "metadata": {},
   "source": [
    "* The above two plots for categorical features show that we have 8 unique observations of a particular industry, and 21 observations in a year (hence 8*21=168 observations)"
   ]
  },
  {
   "cell_type": "markdown",
   "metadata": {},
   "source": [
    "#### Checking Correlations of Features"
   ]
  },
  {
   "cell_type": "code",
   "execution_count": 38,
   "metadata": {},
   "outputs": [
    {
     "data": {
      "text/plain": [
       "dtype('float64')"
      ]
     },
     "execution_count": 38,
     "metadata": {},
     "output_type": "execute_result"
    }
   ],
   "source": [
    "# converting Year (datetime) to float \n",
    "df['Year'] = df['Year'].values.astype(\"float64\")\n",
    "df['Year'].dtype"
   ]
  },
  {
   "cell_type": "code",
   "execution_count": 39,
   "metadata": {
    "scrolled": true
   },
   "outputs": [
    {
     "data": {
      "image/png": "[encoded data removed]",
      "text/plain": [
       "<Figure size 864x720 with 2 Axes>"
      ]
     },
     "metadata": {
      "needs_background": "light"
     },
     "output_type": "display_data"
    }
   ],
   "source": [
    "#Using Pearson Correlation\n",
    "plt.figure(figsize=(12,10))\n",
    "cor = df.corr()\n",
    "sns.heatmap(cor, annot=True, cmap='coolwarm')\n",
    "plt.show()"
   ]
  },
  {
   "cell_type": "markdown",
   "metadata": {},
   "source": [
    "* The matrix above shows correlations among the features such that darker shades of red imply high positive correlation; and darker shades of blue imply high negative correlations.\n",
    "* As correlations between the predictor variables is predominantly high (note red shades), this implies that there is significant multicollinearity between our features\n",
    "* Thus, we will need to do feature engineering in our variables, to ensure there is no multicollinearity between our predictors"
   ]
  },
  {
   "cell_type": "markdown",
   "metadata": {},
   "source": [
    "## Feature Engineering\n",
    "\n",
    "* Feature Engineering improves the performance of the model, as model performance is dependent on data preprocessing and data handling\n",
    "\n",
    "* The processes here will include: \n",
    "    * Feature Selection\n",
    "    * Handling missing values\n",
    "    * Handling imbalanced data\n",
    "    * Handling outliers\n",
    "    * Binning\n",
    "    * Encoding\n",
    "    * Feature Scaling\n"
   ]
  },
  {
   "cell_type": "markdown",
   "metadata": {},
   "source": [
    "### 1. Feature Selection (FS)\n",
    "* FS is a selection of required and important independent features, which have more relation with the dependent features, thus building a good model\n",
    "* Methods in FS include:\n",
    "    * Correlation Matrix with Heatmap\n",
    "    * Univariate Selection\n",
    "    * ExtraTreesClassifier method\n",
    "* We will use the first method in this project"
   ]
  },
  {
   "cell_type": "code",
   "execution_count": 40,
   "metadata": {},
   "outputs": [
    {
     "data": {
      "text/html": [
       "<div>\n",
       "<style scoped>\n",
       "    .dataframe tbody tr th:only-of-type {\n",
       "        vertical-align: middle;\n",
       "    }\n",
       "\n",
       "    .dataframe tbody tr th {\n",
       "        vertical-align: top;\n",
       "    }\n",
       "\n",
       "    .dataframe thead th {\n",
       "        text-align: right;\n",
       "    }\n",
       "</style>\n",
       "<table border=\"1\" class=\"dataframe\">\n",
       "  <thead>\n",
       "    <tr style=\"text-align: right;\">\n",
       "      <th></th>\n",
       "      <th>Year</th>\n",
       "      <th>Industry</th>\n",
       "      <th>Contribution_to_GDP</th>\n",
       "      <th>Growth_of_GDP</th>\n",
       "      <th>Wage_bracket_0_to_9999</th>\n",
       "      <th>Wage_bracket_10000_to_14999</th>\n",
       "      <th>Wage_bracket_15000_to_19999</th>\n",
       "      <th>Wage_bracket_20000_to_24999</th>\n",
       "      <th>Wage_bracket_25000_to_29999</th>\n",
       "      <th>Wage_bracket_30000_to_49999</th>\n",
       "      <th>Wage_bracket_50000_to_99999</th>\n",
       "      <th>Wage_bracket_100000_plus</th>\n",
       "      <th>Total_number_in_wage_employment</th>\n",
       "    </tr>\n",
       "  </thead>\n",
       "  <tbody>\n",
       "    <tr>\n",
       "      <th>0</th>\n",
       "      <td>1.293840e+18</td>\n",
       "      <td>Agriculture, Forestry And Fishing</td>\n",
       "      <td>23.8</td>\n",
       "      <td>1.5</td>\n",
       "      <td>12141</td>\n",
       "      <td>36238</td>\n",
       "      <td>111549</td>\n",
       "      <td>100240</td>\n",
       "      <td>37712</td>\n",
       "      <td>23976</td>\n",
       "      <td>12935</td>\n",
       "      <td>6631</td>\n",
       "      <td>341422</td>\n",
       "    </tr>\n",
       "    <tr>\n",
       "      <th>1</th>\n",
       "      <td>1.293840e+18</td>\n",
       "      <td>Mining And Quarrying</td>\n",
       "      <td>0.7</td>\n",
       "      <td>7.1</td>\n",
       "      <td>59</td>\n",
       "      <td>101</td>\n",
       "      <td>944</td>\n",
       "      <td>1586</td>\n",
       "      <td>1965</td>\n",
       "      <td>2312</td>\n",
       "      <td>1752</td>\n",
       "      <td>13</td>\n",
       "      <td>8732</td>\n",
       "    </tr>\n",
       "    <tr>\n",
       "      <th>2</th>\n",
       "      <td>1.293840e+18</td>\n",
       "      <td>Manufacturing</td>\n",
       "      <td>9.6</td>\n",
       "      <td>3.4</td>\n",
       "      <td>632</td>\n",
       "      <td>1723</td>\n",
       "      <td>17205</td>\n",
       "      <td>50949</td>\n",
       "      <td>54427</td>\n",
       "      <td>76329</td>\n",
       "      <td>70040</td>\n",
       "      <td>5580</td>\n",
       "      <td>276885</td>\n",
       "    </tr>\n",
       "    <tr>\n",
       "      <th>3</th>\n",
       "      <td>1.293840e+18</td>\n",
       "      <td>Electricity, Gas, Steam And Air Conditioning S...</td>\n",
       "      <td>0.4</td>\n",
       "      <td>-4.4</td>\n",
       "      <td>1680</td>\n",
       "      <td>101</td>\n",
       "      <td>45</td>\n",
       "      <td>3229</td>\n",
       "      <td>690</td>\n",
       "      <td>1413</td>\n",
       "      <td>6830</td>\n",
       "      <td>30</td>\n",
       "      <td>14018</td>\n",
       "    </tr>\n",
       "    <tr>\n",
       "      <th>4</th>\n",
       "      <td>1.293840e+18</td>\n",
       "      <td>Water Supply; Sewerage, Waste Management And R...</td>\n",
       "      <td>0.7</td>\n",
       "      <td>3.0</td>\n",
       "      <td>1680</td>\n",
       "      <td>2498</td>\n",
       "      <td>9143</td>\n",
       "      <td>3036</td>\n",
       "      <td>1983</td>\n",
       "      <td>1970</td>\n",
       "      <td>818</td>\n",
       "      <td>83</td>\n",
       "      <td>21211</td>\n",
       "    </tr>\n",
       "  </tbody>\n",
       "</table>\n",
       "</div>"
      ],
      "text/plain": [
       "           Year                                           Industry  \\\n",
       "0  1.293840e+18                  Agriculture, Forestry And Fishing   \n",
       "1  1.293840e+18                               Mining And Quarrying   \n",
       "2  1.293840e+18                                      Manufacturing   \n",
       "3  1.293840e+18  Electricity, Gas, Steam And Air Conditioning S...   \n",
       "4  1.293840e+18  Water Supply; Sewerage, Waste Management And R...   \n",
       "\n",
       "   Contribution_to_GDP  Growth_of_GDP  Wage_bracket_0_to_9999  \\\n",
       "0                 23.8            1.5                   12141   \n",
       "1                  0.7            7.1                      59   \n",
       "2                  9.6            3.4                     632   \n",
       "3                  0.4           -4.4                    1680   \n",
       "4                  0.7            3.0                    1680   \n",
       "\n",
       "   Wage_bracket_10000_to_14999  Wage_bracket_15000_to_19999  \\\n",
       "0                        36238                       111549   \n",
       "1                          101                          944   \n",
       "2                         1723                        17205   \n",
       "3                          101                           45   \n",
       "4                         2498                         9143   \n",
       "\n",
       "   Wage_bracket_20000_to_24999  Wage_bracket_25000_to_29999  \\\n",
       "0                       100240                        37712   \n",
       "1                         1586                         1965   \n",
       "2                        50949                        54427   \n",
       "3                         3229                          690   \n",
       "4                         3036                         1983   \n",
       "\n",
       "   Wage_bracket_30000_to_49999  Wage_bracket_50000_to_99999  \\\n",
       "0                        23976                        12935   \n",
       "1                         2312                         1752   \n",
       "2                        76329                        70040   \n",
       "3                         1413                         6830   \n",
       "4                         1970                          818   \n",
       "\n",
       "   Wage_bracket_100000_plus  Total_number_in_wage_employment  \n",
       "0                      6631                           341422  \n",
       "1                        13                             8732  \n",
       "2                      5580                           276885  \n",
       "3                        30                            14018  \n",
       "4                        83                            21211  "
      ]
     },
     "execution_count": 40,
     "metadata": {},
     "output_type": "execute_result"
    }
   ],
   "source": [
    "df.head()"
   ]
  },
  {
   "cell_type": "code",
   "execution_count": 41,
   "metadata": {},
   "outputs": [],
   "source": [
    "X = df.drop('Total_number_in_wage_employment', 1)  # Feature Matrix\n",
    "y = df['Total_number_in_wage_employment']          # Target Variable"
   ]
  },
  {
   "cell_type": "code",
   "execution_count": 42,
   "metadata": {},
   "outputs": [
    {
     "data": {
      "image/png": "[encoded data removed]",
      "text/plain": [
       "<Figure size 864x720 with 2 Axes>"
      ]
     },
     "metadata": {
      "needs_background": "light"
     },
     "output_type": "display_data"
    }
   ],
   "source": [
    "#Using Pearson Correlation\n",
    "plt.figure(figsize=(12,10))\n",
    "cor = df.corr()\n",
    "sns.heatmap(cor, annot=True, cmap='coolwarm')\n",
    "plt.show()"
   ]
  },
  {
   "cell_type": "code",
   "execution_count": 43,
   "metadata": {},
   "outputs": [
    {
     "data": {
      "text/plain": [
       "Contribution_to_GDP                0.529690\n",
       "Wage_bracket_15000_to_19999        0.588454\n",
       "Wage_bracket_20000_to_24999        0.790571\n",
       "Wage_bracket_25000_to_29999        0.831915\n",
       "Wage_bracket_30000_to_49999        0.876645\n",
       "Wage_bracket_50000_to_99999        0.799403\n",
       "Wage_bracket_100000_plus           0.666937\n",
       "Total_number_in_wage_employment    1.000000\n",
       "Name: Total_number_in_wage_employment, dtype: float64"
      ]
     },
     "execution_count": 43,
     "metadata": {},
     "output_type": "execute_result"
    }
   ],
   "source": [
    "#Correlation with output variable\n",
    "cor_target = abs(cor[\"Total_number_in_wage_employment\"])\n",
    "\n",
    "#Selecting highly correlated features\n",
    "relevant_features = cor_target[cor_target>0.5]\n",
    "relevant_features"
   ]
  },
  {
   "cell_type": "markdown",
   "metadata": {},
   "source": [
    "* As we can see, only the features **'Contribution_to_GDP', 'Wage_bracket_15000_to_19999', 'Wage_bracket_20000_to_24999', 'Wage_bracket_25000_to_29999', 'Wage_bracket_30000_to_49999', 'Wage_bracket_50000_to_99999', and 'Wage_bracket_100000_plus'  are highly correlated with the output variable \"Total_number_in_wage_employment\"**\n",
    "* Hence we will drop all other features apart from these\n",
    "* One of the assumptions of linear regression is that the independent variables need to be uncorrelated with each other (no collinearity)\n",
    "* If these variables are correlated with each other, then we need to keep only one of them and drop the rest\n",
    "* So let us check the correlation of selected features with each other\n",
    "* This can be done by visually checking it from the below correlation matrix"
   ]
  },
  {
   "cell_type": "markdown",
   "metadata": {},
   "source": [
    "#### Checking if Multicollinearity is present\n",
    "\n",
    "#### 1. Using Correlations Matrix of features"
   ]
  },
  {
   "cell_type": "code",
   "execution_count": 44,
   "metadata": {},
   "outputs": [
    {
     "data": {
      "image/png": "[encoded data removed]",
      "text/plain": [
       "<Figure size 432x288 with 2 Axes>"
      ]
     },
     "metadata": {
      "needs_background": "light"
     },
     "output_type": "display_data"
    }
   ],
   "source": [
    "df_predictors = df[['Contribution_to_GDP', 'Wage_bracket_15000_to_19999', 'Wage_bracket_20000_to_24999', \n",
    "                    'Wage_bracket_25000_to_29999', 'Wage_bracket_30000_to_49999', 'Wage_bracket_50000_to_99999', \n",
    "                    'Wage_bracket_100000_plus']]\n",
    "\n",
    "\n",
    "#Using Pearson Correlation\n",
    "# plt.figure(figsize=(12,10))\n",
    "cor = df_predictors.corr()\n",
    "sns.heatmap(cor, annot=True, cmap='coolwarm')\n",
    "plt.show()"
   ]
  },
  {
   "cell_type": "markdown",
   "metadata": {},
   "source": [
    "* Some of the features have significant collinearity (>0.5) to the target_variable\n",
    "* We will confirm the features with lowest collinearity using the VIF method below\n",
    "\n"
   ]
  },
  {
   "cell_type": "markdown",
   "metadata": {},
   "source": [
    "#### 2. Checking Multicollinearity using Variance Inflation Factor (VIF)"
   ]
  },
  {
   "cell_type": "code",
   "execution_count": 46,
   "metadata": {},
   "outputs": [
    {
     "name": "stdout",
     "output_type": "stream",
     "text": [
      "                       feature        VIF\n",
      "0          Contribution_to_GDP   3.498510\n",
      "1  Wage_bracket_15000_to_19999   7.545384\n",
      "2  Wage_bracket_20000_to_24999  16.778802\n",
      "3  Wage_bracket_25000_to_29999   8.581564\n",
      "4  Wage_bracket_30000_to_49999   6.417601\n",
      "5  Wage_bracket_50000_to_99999   8.484782\n",
      "6     Wage_bracket_100000_plus   4.300821\n"
     ]
    }
   ],
   "source": [
    "# Checking VIF\n",
    "from statsmodels.stats.outliers_influence import variance_inflation_factor\n",
    "  \n",
    "# the independent variables set \n",
    "#X = df_predictors\n",
    "\n",
    "X = df[['Contribution_to_GDP', 'Wage_bracket_15000_to_19999', 'Wage_bracket_20000_to_24999', \n",
    "        'Wage_bracket_25000_to_29999', 'Wage_bracket_30000_to_49999', 'Wage_bracket_50000_to_99999', \n",
    "        'Wage_bracket_100000_plus']]\n",
    "  \n",
    "# VIF dataframe \n",
    "vif_data = pd.DataFrame() \n",
    "vif_data[\"feature\"] = X.columns \n",
    "  \n",
    "# calculating VIF for each feature \n",
    "vif_data[\"VIF\"] = [variance_inflation_factor(X.values, i) \n",
    "                          for i in range(len(X.columns))] \n",
    "  \n",
    "print(vif_data)"
   ]
  },
  {
   "cell_type": "markdown",
   "metadata": {},
   "source": [
    "* Confirming our results above, **Contribution_to_GDP has the lowest VIF (3.498), which is below 5), hence selected as a feature to our model**"
   ]
  },
  {
   "cell_type": "markdown",
   "metadata": {},
   "source": [
    "#### Dropping Non-important features"
   ]
  },
  {
   "cell_type": "code",
   "execution_count": 47,
   "metadata": {},
   "outputs": [
    {
     "data": {
      "text/plain": [
       "(168, 13)"
      ]
     },
     "execution_count": 47,
     "metadata": {},
     "output_type": "execute_result"
    }
   ],
   "source": [
    "df.shape"
   ]
  },
  {
   "cell_type": "code",
   "execution_count": 369,
   "metadata": {},
   "outputs": [
    {
     "data": {
      "text/plain": [
       "Index(['Year', 'Industry', 'Contribution_to_GDP', 'Growth_of_GDP',\n",
       "       'Wage_bracket_0_to_9999', 'Wage_bracket_10000_to_14999',\n",
       "       'Wage_bracket_15000_to_19999', 'Wage_bracket_20000_to_24999',\n",
       "       'Wage_bracket_25000_to_29999', 'Wage_bracket_30000_to_49999',\n",
       "       'Wage_bracket_50000_to_99999', 'Wage_bracket_100000_plus',\n",
       "       'Total_number_in_wage_employment'],\n",
       "      dtype='object')"
      ]
     },
     "execution_count": 369,
     "metadata": {},
     "output_type": "execute_result"
    }
   ],
   "source": [
    "df.columns"
   ]
  },
  {
   "cell_type": "code",
   "execution_count": 52,
   "metadata": {},
   "outputs": [
    {
     "data": {
      "text/plain": [
       "Index(['Growth_of_GDP', 'Wage_bracket_0_to_9999',\n",
       "       'Wage_bracket_10000_to_14999', 'Wage_bracket_15000_to_19999',\n",
       "       'Wage_bracket_20000_to_24999', 'Wage_bracket_25000_to_29999',\n",
       "       'Wage_bracket_30000_to_49999', 'Wage_bracket_50000_to_99999',\n",
       "       'Wage_bracket_100000_plus'],\n",
       "      dtype='object')"
      ]
     },
     "execution_count": 52,
     "metadata": {},
     "output_type": "execute_result"
    }
   ],
   "source": [
    "# selecting non-important columns to drop\n",
    "df.columns[3:12]"
   ]
  },
  {
   "cell_type": "code",
   "execution_count": 53,
   "metadata": {},
   "outputs": [
    {
     "data": {
      "text/plain": [
       "Index(['Year', 'Industry', 'Contribution_to_GDP',\n",
       "       'Total_number_in_wage_employment'],\n",
       "      dtype='object')"
      ]
     },
     "execution_count": 53,
     "metadata": {},
     "output_type": "execute_result"
    }
   ],
   "source": [
    "# drop columns not used for modelling\n",
    "df_cleaned = df.drop(df.columns[3:12], axis=1)\n",
    "\n",
    "df_cleaned.columns"
   ]
  },
  {
   "cell_type": "code",
   "execution_count": 55,
   "metadata": {},
   "outputs": [
    {
     "data": {
      "text/plain": [
       "Index(['Industry', 'Contribution_to_GDP', 'Total_number_in_wage_employment'], dtype='object')"
      ]
     },
     "execution_count": 55,
     "metadata": {},
     "output_type": "execute_result"
    }
   ],
   "source": [
    "# dropping Year column, as it has low correlation and not selected as a feature\n",
    "df_cleaned = df_cleaned.drop(columns=['Year'], axis=1)\n",
    "\n",
    "df_cleaned.columns"
   ]
  },
  {
   "cell_type": "markdown",
   "metadata": {},
   "source": [
    "* Our model will have **2 features (Industry and Contribution to GDP) and 1 target variable (Total_number_in_wage_employment')**.\n",
    "* This is in accordance to the 'Parsimony' Principle in modeling, which dictates that a simpler model with fewer variables is always preferred to a more complex model with too many features\n",
    "* This will ensure the model does not overfit due to coefficient estimates having a high variance."
   ]
  },
  {
   "cell_type": "markdown",
   "metadata": {},
   "source": [
    "### Removing Outliers in Numerical Columns\n",
    "* Skewness is a statistical measure that assesses the asymmetry of a probability distribution. It quantifies the extent to which the data is skewed or shifted to one side.\n",
    "* Positive skewness indicates a longer tail on the right side of the distribution, while negative skewness indicates a longer tail on the left side. \n",
    "* Skewness helps in understanding the shape and outliers in a dataset."
   ]
  },
  {
   "cell_type": "markdown",
   "metadata": {},
   "source": [
    "#### Checking Distributions and Skewness of Features"
   ]
  },
  {
   "cell_type": "code",
   "execution_count": 56,
   "metadata": {},
   "outputs": [
    {
     "data": {
      "text/plain": [
       "<matplotlib.legend.Legend at 0x1a3288fbcc0>"
      ]
     },
     "execution_count": 56,
     "metadata": {},
     "output_type": "execute_result"
    },
    {
     "data": {
      "image/png": "[encoded data removed]",
      "text/plain": [
       "<Figure size 432x288 with 2 Axes>"
      ]
     },
     "metadata": {
      "needs_background": "light"
     },
     "output_type": "display_data"
    }
   ],
   "source": [
    "# creating subplots\n",
    "fig, ax =plt.subplots(1,2)\n",
    "\n",
    "# plotting distribution of \"Contribution_to_GDP\"\n",
    "t = sns.distplot(df_cleaned[\"Contribution_to_GDP\"],\n",
    "               label=\"Skewness: %.2f\"%(df_cleaned[\"Contribution_to_GDP\"].skew()), ax=ax[0])\n",
    "t.legend()\n",
    "\n",
    "# plotting distribution of \"Total_number_in_wage_employment\"\n",
    "s = sns.distplot(df_cleaned[\"Total_number_in_wage_employment\"],\n",
    "               label=\"Skewness: %.2f\"%(df_cleaned[\"Total_number_in_wage_employment\"].skew()), ax=ax[1])\n",
    "s.legend()\n"
   ]
  },
  {
   "cell_type": "code",
   "execution_count": 57,
   "metadata": {},
   "outputs": [
    {
     "data": {
      "text/plain": [
       "(168, 3)"
      ]
     },
     "execution_count": 57,
     "metadata": {},
     "output_type": "execute_result"
    }
   ],
   "source": [
    "df_cleaned.shape"
   ]
  },
  {
   "cell_type": "code",
   "execution_count": 58,
   "metadata": {
    "scrolled": true
   },
   "outputs": [
    {
     "data": {
      "text/html": [
       "<div>\n",
       "<style scoped>\n",
       "    .dataframe tbody tr th:only-of-type {\n",
       "        vertical-align: middle;\n",
       "    }\n",
       "\n",
       "    .dataframe tbody tr th {\n",
       "        vertical-align: top;\n",
       "    }\n",
       "\n",
       "    .dataframe thead th {\n",
       "        text-align: right;\n",
       "    }\n",
       "</style>\n",
       "<table border=\"1\" class=\"dataframe\">\n",
       "  <thead>\n",
       "    <tr style=\"text-align: right;\">\n",
       "      <th></th>\n",
       "      <th>Industry</th>\n",
       "      <th>Contribution_to_GDP</th>\n",
       "      <th>Total_number_in_wage_employment</th>\n",
       "    </tr>\n",
       "  </thead>\n",
       "  <tbody>\n",
       "    <tr>\n",
       "      <th>0</th>\n",
       "      <td>Agriculture, Forestry And Fishing</td>\n",
       "      <td>23.8</td>\n",
       "      <td>341422</td>\n",
       "    </tr>\n",
       "    <tr>\n",
       "      <th>1</th>\n",
       "      <td>Mining And Quarrying</td>\n",
       "      <td>0.7</td>\n",
       "      <td>8732</td>\n",
       "    </tr>\n",
       "    <tr>\n",
       "      <th>2</th>\n",
       "      <td>Manufacturing</td>\n",
       "      <td>9.6</td>\n",
       "      <td>276885</td>\n",
       "    </tr>\n",
       "    <tr>\n",
       "      <th>3</th>\n",
       "      <td>Electricity, Gas, Steam And Air Conditioning S...</td>\n",
       "      <td>0.4</td>\n",
       "      <td>14018</td>\n",
       "    </tr>\n",
       "    <tr>\n",
       "      <th>4</th>\n",
       "      <td>Water Supply; Sewerage, Waste Management And R...</td>\n",
       "      <td>0.7</td>\n",
       "      <td>21211</td>\n",
       "    </tr>\n",
       "  </tbody>\n",
       "</table>\n",
       "</div>"
      ],
      "text/plain": [
       "                                            Industry  Contribution_to_GDP  \\\n",
       "0                  Agriculture, Forestry And Fishing                 23.8   \n",
       "1                               Mining And Quarrying                  0.7   \n",
       "2                                      Manufacturing                  9.6   \n",
       "3  Electricity, Gas, Steam And Air Conditioning S...                  0.4   \n",
       "4  Water Supply; Sewerage, Waste Management And R...                  0.7   \n",
       "\n",
       "   Total_number_in_wage_employment  \n",
       "0                           341422  \n",
       "1                             8732  \n",
       "2                           276885  \n",
       "3                            14018  \n",
       "4                            21211  "
      ]
     },
     "execution_count": 58,
     "metadata": {},
     "output_type": "execute_result"
    }
   ],
   "source": [
    "df_cleaned.head()"
   ]
  },
  {
   "cell_type": "markdown",
   "metadata": {},
   "source": [
    "#### Exporting Cleaned DataFrame to Disk"
   ]
  },
  {
   "cell_type": "code",
   "execution_count": 59,
   "metadata": {},
   "outputs": [],
   "source": [
    "# path\n",
    "path = 'C:/Users/Isaac.Mwendwa/Documents/Productive_Employment_Prediction/Model Building/Datasets/'\n",
    "\n",
    "#export\n",
    "df_cleaned.to_csv(path +'Total Number in Wage Employment Model Dataset.csv', header=True, index=False)"
   ]
  },
  {
   "cell_type": "markdown",
   "metadata": {},
   "source": [
    "#### Removing Skewness of Features Using a Log Transform"
   ]
  },
  {
   "cell_type": "code",
   "execution_count": 60,
   "metadata": {},
   "outputs": [],
   "source": [
    "log_gdp_col = df_cleaned[\"Contribution_to_GDP\"].map(lambda i: np.log(i) if i > 0 else 0)\n",
    "\n",
    "log_wage_col = df_cleaned[\"Total_number_in_wage_employment\"].map(lambda i: np.log(i) if i > 0 else 0)\n",
    "\n",
    "#t=sns.distplot(log_gdp_col,label=\"Skewness: %.2f\"%(log_gdp_col.skew()) )\n",
    "#t.legend()"
   ]
  },
  {
   "cell_type": "code",
   "execution_count": 61,
   "metadata": {},
   "outputs": [
    {
     "data": {
      "text/plain": [
       "0    3.169686\n",
       "1   -0.356675\n",
       "2    2.261763\n",
       "3   -0.916291\n",
       "4   -0.356675\n",
       "Name: Contribution_to_GDP, dtype: float64"
      ]
     },
     "execution_count": 61,
     "metadata": {},
     "output_type": "execute_result"
    }
   ],
   "source": [
    "log_gdp_col.head()"
   ]
  },
  {
   "cell_type": "code",
   "execution_count": 62,
   "metadata": {},
   "outputs": [
    {
     "data": {
      "text/plain": [
       "<matplotlib.legend.Legend at 0x1a3287a42b0>"
      ]
     },
     "execution_count": 62,
     "metadata": {},
     "output_type": "execute_result"
    },
    {
     "data": {
      "image/png": "[encoded data removed]",
      "text/plain": [
       "<Figure size 432x288 with 4 Axes>"
      ]
     },
     "metadata": {
      "needs_background": "light"
     },
     "output_type": "display_data"
    }
   ],
   "source": [
    "# creating subplots\n",
    "fig, ax =plt.subplots(2,2)\n",
    "\n",
    "\n",
    "# set the spacing between subplots\n",
    "plt.subplots_adjust(left=0.1,\n",
    "                    bottom=0.1, \n",
    "                    right=0.9, \n",
    "                    top=0.9, \n",
    "                    wspace=0.4, \n",
    "                    hspace=0.4)\n",
    "\n",
    "\n",
    "# plotting distribution of \"Contribution_to_GDP\": With Outliers\n",
    "a = sns.distplot(df_cleaned[\"Contribution_to_GDP\"],\n",
    "               label=\"Skewness: %.2f\"%(df_cleaned[\"Contribution_to_GDP\"].skew()), ax=ax[0, 0])\n",
    "a.set_title('With Outliers')\n",
    "a.legend()\n",
    "\n",
    "# plotting distribution of \"Contribution_to_GDP\": Without Outliers\n",
    "b = sns.distplot(log_gdp_col,\n",
    "                 label=\"Skewness: %.2f\"%(log_gdp_col.skew()), ax=ax[0, 1])\n",
    "b.set_title('Without Outliers')\n",
    "b.legend()\n",
    "\n",
    "# plotting distribution of \"Total_number_in_wage_employment\": With Outliers\n",
    "c = sns.distplot(df_cleaned[\"Total_number_in_wage_employment\"],\n",
    "               label=\"Skewness: %.2f\"%(df_cleaned[\"Total_number_in_wage_employment\"].skew()), ax=ax[1, 0])\n",
    "c.legend()\n",
    "\n",
    "\n",
    "# plotting distribution of \"Total_number_in_wage_employment\": Without Outliers\n",
    "d = sns.distplot(log_wage_col,\n",
    "                 label=\"Skewness: %.2f\"%(log_wage_col.skew()), ax=ax[1, 1])\n",
    "d.legend()"
   ]
  },
  {
   "cell_type": "markdown",
   "metadata": {},
   "source": [
    "* The plots show that by using a log transform, we have been able to reduce skewness as follows:\n",
    "    * Contribution_to_GDP from 2.87 to -0.14\n",
    "    * Total_number_in_wage_employment from 1.49 to -0.45\n",
    "* These skewness values exhibit approximate symmetry in the data distributions (-0.5 to 0.5), thus the log transform was successful in the operation"
   ]
  },
  {
   "cell_type": "code",
   "execution_count": 63,
   "metadata": {},
   "outputs": [
    {
     "data": {
      "text/html": [
       "<div>\n",
       "<style scoped>\n",
       "    .dataframe tbody tr th:only-of-type {\n",
       "        vertical-align: middle;\n",
       "    }\n",
       "\n",
       "    .dataframe tbody tr th {\n",
       "        vertical-align: top;\n",
       "    }\n",
       "\n",
       "    .dataframe thead th {\n",
       "        text-align: right;\n",
       "    }\n",
       "</style>\n",
       "<table border=\"1\" class=\"dataframe\">\n",
       "  <thead>\n",
       "    <tr style=\"text-align: right;\">\n",
       "      <th></th>\n",
       "      <th>Industry</th>\n",
       "      <th>Contribution_to_GDP</th>\n",
       "      <th>Total_number_in_wage_employment</th>\n",
       "    </tr>\n",
       "  </thead>\n",
       "  <tbody>\n",
       "    <tr>\n",
       "      <th>0</th>\n",
       "      <td>Agriculture, Forestry And Fishing</td>\n",
       "      <td>3.169686</td>\n",
       "      <td>12.740875</td>\n",
       "    </tr>\n",
       "    <tr>\n",
       "      <th>1</th>\n",
       "      <td>Mining And Quarrying</td>\n",
       "      <td>-0.356675</td>\n",
       "      <td>9.074750</td>\n",
       "    </tr>\n",
       "    <tr>\n",
       "      <th>2</th>\n",
       "      <td>Manufacturing</td>\n",
       "      <td>2.261763</td>\n",
       "      <td>12.531358</td>\n",
       "    </tr>\n",
       "    <tr>\n",
       "      <th>3</th>\n",
       "      <td>Electricity, Gas, Steam And Air Conditioning S...</td>\n",
       "      <td>-0.916291</td>\n",
       "      <td>9.548097</td>\n",
       "    </tr>\n",
       "    <tr>\n",
       "      <th>4</th>\n",
       "      <td>Water Supply; Sewerage, Waste Management And R...</td>\n",
       "      <td>-0.356675</td>\n",
       "      <td>9.962275</td>\n",
       "    </tr>\n",
       "  </tbody>\n",
       "</table>\n",
       "</div>"
      ],
      "text/plain": [
       "                                            Industry  Contribution_to_GDP  \\\n",
       "0                  Agriculture, Forestry And Fishing             3.169686   \n",
       "1                               Mining And Quarrying            -0.356675   \n",
       "2                                      Manufacturing             2.261763   \n",
       "3  Electricity, Gas, Steam And Air Conditioning S...            -0.916291   \n",
       "4  Water Supply; Sewerage, Waste Management And R...            -0.356675   \n",
       "\n",
       "   Total_number_in_wage_employment  \n",
       "0                        12.740875  \n",
       "1                         9.074750  \n",
       "2                        12.531358  \n",
       "3                         9.548097  \n",
       "4                         9.962275  "
      ]
     },
     "execution_count": 63,
     "metadata": {},
     "output_type": "execute_result"
    }
   ],
   "source": [
    "# Assigning log transformed columns back to df\n",
    "\n",
    "df_cleaned['Contribution_to_GDP'] = log_gdp_col\n",
    "df_cleaned['Total_number_in_wage_employment'] = log_wage_col\n",
    "\n",
    "df_cleaned.head()"
   ]
  },
  {
   "cell_type": "code",
   "execution_count": 64,
   "metadata": {},
   "outputs": [
    {
     "data": {
      "text/plain": [
       "(168, 3)"
      ]
     },
     "execution_count": 64,
     "metadata": {},
     "output_type": "execute_result"
    }
   ],
   "source": [
    "df_cleaned.shape"
   ]
  },
  {
   "cell_type": "code",
   "execution_count": 65,
   "metadata": {},
   "outputs": [
    {
     "data": {
      "text/plain": [
       "['Agriculture, Forestry And Fishing',\n",
       " 'Mining And Quarrying',\n",
       " 'Manufacturing',\n",
       " 'Electricity, Gas, Steam And Air Conditioning Supply',\n",
       " 'Water Supply; Sewerage, Waste Management And Remediation Activities',\n",
       " 'Construction',\n",
       " 'Wholesale And Retail Trade; Repair Of Motor Vehicles And Motorcycles',\n",
       " 'Transportation And Storage',\n",
       " 'Accommodation And Food Service Activities',\n",
       " 'Information And Communication',\n",
       " 'Financial And Insurance Activities',\n",
       " 'Real Estate Activities',\n",
       " 'Professional, Scientific And Technical Activities',\n",
       " 'Administrative And Support Service Activities',\n",
       " 'Public Administration And Defence; Compulsory Social Security',\n",
       " 'Education',\n",
       " 'Human Health And Social Work Activities',\n",
       " 'Arts, Entertainment And Recreation',\n",
       " 'Other Service Activities',\n",
       " 'Activities Of Households As Employers; Undifferentiated Goods- And Services-Producing Activities Of Households For Own Use',\n",
       " 'Activities Of Extraterritorial Organizations And Bodies']"
      ]
     },
     "execution_count": 65,
     "metadata": {},
     "output_type": "execute_result"
    }
   ],
   "source": [
    "# converting industry series to list\n",
    "industry_cols = df_cleaned['Industry'].head(21).tolist()\n",
    "industry_cols"
   ]
  },
  {
   "cell_type": "markdown",
   "metadata": {},
   "source": [
    "### Encoding of Features\n",
    "* Datasets may contain object datatypes, but for building a model we need to have all features are in integer datatypes\n",
    "* Encoding methods e.g. Label Encoder and OneHotEncoder are used to convert object datatype to integer datatype\n",
    "* To determine which method we use, we will borrow from our EDA step of checking cardinality:"
   ]
  },
  {
   "cell_type": "code",
   "execution_count": 66,
   "metadata": {},
   "outputs": [
    {
     "name": "stdout",
     "output_type": "stream",
     "text": [
      "The feature is: Industry and number of categories are: 21\n"
     ]
    }
   ],
   "source": [
    "# Checking Cardinality of Categorical Features\n",
    "\n",
    "for feature in cat_cols:\n",
    "    print('The feature is: {} and number of categories are: {}'.format(feature, len(df_cleaned[feature].unique())))"
   ]
  },
  {
   "attachments": {
    "image.png": {
     "image/png": "[encoded data removed]"
    }
   },
   "cell_type": "markdown",
   "metadata": {},
   "source": [
    "* To avoid the curse of dimensionality, we will use binary encoding, as our categories are more than 10\n",
    "* Binary encoding is an alternative method to one-hot encoding where we do not lose information about the variable, yet we obtain fewer features/dimensions after the encoding. \n",
    "* This is particularly useful when we have highly cardinal variables. For example, if a variable contains 128 unique categories, with one-hot encoding, we would need 127 features to encode the variable, whereas with binary encoding, we would only need 7 (log2(128)=7)\n",
    "* ![image.png](attachment:image.png)"
   ]
  },
  {
   "cell_type": "code",
   "execution_count": 69,
   "metadata": {},
   "outputs": [
    {
     "data": {
      "text/plain": [
       "Index(['Industry_0', 'Industry_1', 'Industry_2', 'Industry_3', 'Industry_4',\n",
       "       'Contribution_to_GDP', 'Total_number_in_wage_employment'],\n",
       "      dtype='object')"
      ]
     },
     "execution_count": 69,
     "metadata": {},
     "output_type": "execute_result"
    }
   ],
   "source": [
    "# Using Binary Encoding for Categorical Industry Column\n",
    "\n",
    "# encode Industry column\n",
    "encoder = BinaryEncoder(cols = ['Industry'], drop_invariant=True)\n",
    "\n",
    "# create mapping from category to set of binary columns\n",
    "encoder.fit(df_cleaned)\n",
    "\n",
    "# encode the Industry variable in our dataframe\n",
    "encoded_df = encoder.transform(df_cleaned)\n",
    "\n",
    "encoded_df.columns"
   ]
  },
  {
   "cell_type": "code",
   "execution_count": 70,
   "metadata": {},
   "outputs": [
    {
     "data": {
      "text/html": [
       "<div>\n",
       "<style scoped>\n",
       "    .dataframe tbody tr th:only-of-type {\n",
       "        vertical-align: middle;\n",
       "    }\n",
       "\n",
       "    .dataframe tbody tr th {\n",
       "        vertical-align: top;\n",
       "    }\n",
       "\n",
       "    .dataframe thead th {\n",
       "        text-align: right;\n",
       "    }\n",
       "</style>\n",
       "<table border=\"1\" class=\"dataframe\">\n",
       "  <thead>\n",
       "    <tr style=\"text-align: right;\">\n",
       "      <th></th>\n",
       "      <th>Industry_0</th>\n",
       "      <th>Industry_1</th>\n",
       "      <th>Industry_2</th>\n",
       "      <th>Industry_3</th>\n",
       "      <th>Industry_4</th>\n",
       "      <th>Contribution_to_GDP</th>\n",
       "      <th>Total_number_in_wage_employment</th>\n",
       "    </tr>\n",
       "  </thead>\n",
       "  <tbody>\n",
       "    <tr>\n",
       "      <th>0</th>\n",
       "      <td>0</td>\n",
       "      <td>0</td>\n",
       "      <td>0</td>\n",
       "      <td>0</td>\n",
       "      <td>1</td>\n",
       "      <td>3.169686</td>\n",
       "      <td>12.740875</td>\n",
       "    </tr>\n",
       "    <tr>\n",
       "      <th>1</th>\n",
       "      <td>0</td>\n",
       "      <td>0</td>\n",
       "      <td>0</td>\n",
       "      <td>1</td>\n",
       "      <td>0</td>\n",
       "      <td>-0.356675</td>\n",
       "      <td>9.074750</td>\n",
       "    </tr>\n",
       "    <tr>\n",
       "      <th>2</th>\n",
       "      <td>0</td>\n",
       "      <td>0</td>\n",
       "      <td>0</td>\n",
       "      <td>1</td>\n",
       "      <td>1</td>\n",
       "      <td>2.261763</td>\n",
       "      <td>12.531358</td>\n",
       "    </tr>\n",
       "    <tr>\n",
       "      <th>3</th>\n",
       "      <td>0</td>\n",
       "      <td>0</td>\n",
       "      <td>1</td>\n",
       "      <td>0</td>\n",
       "      <td>0</td>\n",
       "      <td>-0.916291</td>\n",
       "      <td>9.548097</td>\n",
       "    </tr>\n",
       "    <tr>\n",
       "      <th>4</th>\n",
       "      <td>0</td>\n",
       "      <td>0</td>\n",
       "      <td>1</td>\n",
       "      <td>0</td>\n",
       "      <td>1</td>\n",
       "      <td>-0.356675</td>\n",
       "      <td>9.962275</td>\n",
       "    </tr>\n",
       "  </tbody>\n",
       "</table>\n",
       "</div>"
      ],
      "text/plain": [
       "   Industry_0  Industry_1  Industry_2  Industry_3  Industry_4  \\\n",
       "0           0           0           0           0           1   \n",
       "1           0           0           0           1           0   \n",
       "2           0           0           0           1           1   \n",
       "3           0           0           1           0           0   \n",
       "4           0           0           1           0           1   \n",
       "\n",
       "   Contribution_to_GDP  Total_number_in_wage_employment  \n",
       "0             3.169686                        12.740875  \n",
       "1            -0.356675                         9.074750  \n",
       "2             2.261763                        12.531358  \n",
       "3            -0.916291                         9.548097  \n",
       "4            -0.356675                         9.962275  "
      ]
     },
     "execution_count": 70,
     "metadata": {},
     "output_type": "execute_result"
    }
   ],
   "source": [
    "encoded_df.head()"
   ]
  },
  {
   "cell_type": "markdown",
   "metadata": {},
   "source": [
    "### Feature Scaling\n",
    "* Feature Scaling helps to reduce the variance effect (features are not on same scale) and to overcome the fitting problem. \n",
    "* If features are not on the same scale, our model will give more weightage to the ones that have bigger values which is not the ideal scenario as the other columns are important for building the model\n",
    "* There are two main types of scaling methods:\n",
    "1. Standardization - is a technique to standardize the independent features that present in a fixed range to bring all values to the same magnitudes (standard normal distribution). In standardization, the mean of the independent features is 0 and the standard deviation is 1\n",
    "    * Useful in algorithms that assume data is normally distributed, e.g., linear regression and logistic regression\n",
    "2. Normalization - is a technique used to scale numerical data in the range of 0 to 1. This technique is useful when the distribution of the data is not known or when the data is not normally distributed\n",
    "    * Useful in algorithms that are sensitive to the magnitude of values, e.g., neural networks, k-nearest neighbours\n",
    "* However, in our scenario, we do not need feature scaling because we do not have different features that may bring different scales (only 1 numerical feature - Contribution_to_GDP) "
   ]
  },
  {
   "cell_type": "markdown",
   "metadata": {
    "id": "Eow43W5XSiPV"
   },
   "source": [
    "### --------------------------------------------------- End of Part 4( Exploratory Data Analysis) -----------------------------------\n",
    "\n",
    "\n",
    "---\n",
    "\n"
   ]
  },
  {
   "cell_type": "markdown",
   "metadata": {
    "id": "d-4vbTezS5ds"
   },
   "source": [
    "# Part 5: Modeling"
   ]
  },
  {
   "cell_type": "markdown",
   "metadata": {
    "id": "fXLdcbP_MNyu"
   },
   "source": [
    "* In this section, I develop ML models to give a predictive analysis of the working poor (Wage_bracket_0_to_9999)\n",
    "* We will test 4 regressors, then pick the best performing regressor \n",
    "* We will then fine tune the hyperparameters of the best performing regressor, to get our final model"
   ]
  },
  {
   "cell_type": "markdown",
   "metadata": {
    "id": "HV3Oi4k-Lw92"
   },
   "source": [
    "## Modeling: Predictive Analysis of the Total Number in Wage Employment (Total_number_in_wage_employment) \n"
   ]
  },
  {
   "cell_type": "markdown",
   "metadata": {
    "id": "YToIUZZMPSwL"
   },
   "source": [
    "### Defination of Problem"
   ]
  },
  {
   "cell_type": "markdown",
   "metadata": {
    "id": "FJNGcmsOM-av"
   },
   "source": [
    "> I define the Supervised Learning Regression problem as **\"Given the GDP indicators per Industry, predict the total number of people in wage employment: Total_number_in_wage_employment\"**"
   ]
  },
  {
   "cell_type": "markdown",
   "metadata": {
    "id": "jLoRsKD-lnvn"
   },
   "source": [
    "### Loading Dataset"
   ]
  },
  {
   "cell_type": "code",
   "execution_count": 141,
   "metadata": {
    "colab": {
     "base_uri": "https://localhost:8080/"
    },
    "executionInfo": {
     "elapsed": 1065,
     "status": "ok",
     "timestamp": 1628614420272,
     "user": {
      "displayName": "Isaac Mwendwa",
      "photoUrl": "https://lh3.googleusercontent.com/a-/AOh14Gik6eW-t_ttT93CxBiHADNOLtLhMyJGtlZTYPwGBQ=s64",
      "userId": "14986221937983786022"
     },
     "user_tz": -180
    },
    "id": "nHxq5W-SfYry",
    "outputId": "3d5201a3-0a2d-4837-fecf-0c655e7e653b"
   },
   "outputs": [
    {
     "name": "stdout",
     "output_type": "stream",
     "text": [
      "Index(['Industry', 'Contribution_to_GDP', 'Total_number_in_wage_employment'], dtype='object')\n"
     ]
    }
   ],
   "source": [
    "# load dataset\n",
    "path = 'C:/Users/Isaac.Mwendwa/Documents/Productive_Employment_Prediction/Model Building/Datasets/'\n",
    "\n",
    "final_df = pd.read_csv(path + 'Total Number in Wage Employment Model Dataset.csv', header=0, index_col=None)\n",
    "\n",
    "dataset = final_df.copy()\n",
    "print(dataset.columns)"
   ]
  },
  {
   "cell_type": "code",
   "execution_count": 142,
   "metadata": {
    "colab": {
     "base_uri": "https://localhost:8080/"
    },
    "executionInfo": {
     "elapsed": 7,
     "status": "ok",
     "timestamp": 1628595977895,
     "user": {
      "displayName": "Isaac Mwendwa",
      "photoUrl": "https://lh3.googleusercontent.com/a-/AOh14Gik6eW-t_ttT93CxBiHADNOLtLhMyJGtlZTYPwGBQ=s64",
      "userId": "14986221937983786022"
     },
     "user_tz": -180
    },
    "id": "Vj_e1BDSUH82",
    "outputId": "f78a49f9-f8ef-46ff-ccd5-d07d1d4d41cb"
   },
   "outputs": [
    {
     "data": {
      "text/plain": [
       "(168, 3)"
      ]
     },
     "execution_count": 142,
     "metadata": {},
     "output_type": "execute_result"
    }
   ],
   "source": [
    "dataset.shape"
   ]
  },
  {
   "cell_type": "code",
   "execution_count": 143,
   "metadata": {},
   "outputs": [
    {
     "data": {
      "text/html": [
       "<div>\n",
       "<style scoped>\n",
       "    .dataframe tbody tr th:only-of-type {\n",
       "        vertical-align: middle;\n",
       "    }\n",
       "\n",
       "    .dataframe tbody tr th {\n",
       "        vertical-align: top;\n",
       "    }\n",
       "\n",
       "    .dataframe thead th {\n",
       "        text-align: right;\n",
       "    }\n",
       "</style>\n",
       "<table border=\"1\" class=\"dataframe\">\n",
       "  <thead>\n",
       "    <tr style=\"text-align: right;\">\n",
       "      <th></th>\n",
       "      <th>Industry</th>\n",
       "      <th>Contribution_to_GDP</th>\n",
       "      <th>Total_number_in_wage_employment</th>\n",
       "    </tr>\n",
       "  </thead>\n",
       "  <tbody>\n",
       "    <tr>\n",
       "      <th>0</th>\n",
       "      <td>Agriculture, Forestry And Fishing</td>\n",
       "      <td>23.8</td>\n",
       "      <td>341422</td>\n",
       "    </tr>\n",
       "    <tr>\n",
       "      <th>1</th>\n",
       "      <td>Mining And Quarrying</td>\n",
       "      <td>0.7</td>\n",
       "      <td>8732</td>\n",
       "    </tr>\n",
       "    <tr>\n",
       "      <th>2</th>\n",
       "      <td>Manufacturing</td>\n",
       "      <td>9.6</td>\n",
       "      <td>276885</td>\n",
       "    </tr>\n",
       "    <tr>\n",
       "      <th>3</th>\n",
       "      <td>Electricity, Gas, Steam And Air Conditioning S...</td>\n",
       "      <td>0.4</td>\n",
       "      <td>14018</td>\n",
       "    </tr>\n",
       "    <tr>\n",
       "      <th>4</th>\n",
       "      <td>Water Supply; Sewerage, Waste Management And R...</td>\n",
       "      <td>0.7</td>\n",
       "      <td>21211</td>\n",
       "    </tr>\n",
       "  </tbody>\n",
       "</table>\n",
       "</div>"
      ],
      "text/plain": [
       "                                            Industry  Contribution_to_GDP  \\\n",
       "0                  Agriculture, Forestry And Fishing                 23.8   \n",
       "1                               Mining And Quarrying                  0.7   \n",
       "2                                      Manufacturing                  9.6   \n",
       "3  Electricity, Gas, Steam And Air Conditioning S...                  0.4   \n",
       "4  Water Supply; Sewerage, Waste Management And R...                  0.7   \n",
       "\n",
       "   Total_number_in_wage_employment  \n",
       "0                           341422  \n",
       "1                             8732  \n",
       "2                           276885  \n",
       "3                            14018  \n",
       "4                            21211  "
      ]
     },
     "execution_count": 143,
     "metadata": {},
     "output_type": "execute_result"
    }
   ],
   "source": [
    "dataset.head()"
   ]
  },
  {
   "cell_type": "code",
   "execution_count": 144,
   "metadata": {},
   "outputs": [
    {
     "data": {
      "text/html": [
       "<div>\n",
       "<style scoped>\n",
       "    .dataframe tbody tr th:only-of-type {\n",
       "        vertical-align: middle;\n",
       "    }\n",
       "\n",
       "    .dataframe tbody tr th {\n",
       "        vertical-align: top;\n",
       "    }\n",
       "\n",
       "    .dataframe thead th {\n",
       "        text-align: right;\n",
       "    }\n",
       "</style>\n",
       "<table border=\"1\" class=\"dataframe\">\n",
       "  <thead>\n",
       "    <tr style=\"text-align: right;\">\n",
       "      <th></th>\n",
       "      <th>Contribution_to_GDP</th>\n",
       "      <th>Total_number_in_wage_employment</th>\n",
       "    </tr>\n",
       "  </thead>\n",
       "  <tbody>\n",
       "    <tr>\n",
       "      <th>count</th>\n",
       "      <td>168.000000</td>\n",
       "      <td>168.000000</td>\n",
       "    </tr>\n",
       "    <tr>\n",
       "      <th>mean</th>\n",
       "      <td>4.403012</td>\n",
       "      <td>118658.666667</td>\n",
       "    </tr>\n",
       "    <tr>\n",
       "      <th>std</th>\n",
       "      <td>6.463415</td>\n",
       "      <td>126191.119148</td>\n",
       "    </tr>\n",
       "    <tr>\n",
       "      <th>min</th>\n",
       "      <td>-2.800000</td>\n",
       "      <td>2328.000000</td>\n",
       "    </tr>\n",
       "    <tr>\n",
       "      <th>25%</th>\n",
       "      <td>0.800000</td>\n",
       "      <td>19352.500000</td>\n",
       "    </tr>\n",
       "    <tr>\n",
       "      <th>50%</th>\n",
       "      <td>1.700000</td>\n",
       "      <td>77797.500000</td>\n",
       "    </tr>\n",
       "    <tr>\n",
       "      <th>75%</th>\n",
       "      <td>6.725000</td>\n",
       "      <td>165884.000000</td>\n",
       "    </tr>\n",
       "    <tr>\n",
       "      <th>max</th>\n",
       "      <td>34.800000</td>\n",
       "      <td>576831.000000</td>\n",
       "    </tr>\n",
       "  </tbody>\n",
       "</table>\n",
       "</div>"
      ],
      "text/plain": [
       "       Contribution_to_GDP  Total_number_in_wage_employment\n",
       "count           168.000000                       168.000000\n",
       "mean              4.403012                    118658.666667\n",
       "std               6.463415                    126191.119148\n",
       "min              -2.800000                      2328.000000\n",
       "25%               0.800000                     19352.500000\n",
       "50%               1.700000                     77797.500000\n",
       "75%               6.725000                    165884.000000\n",
       "max              34.800000                    576831.000000"
      ]
     },
     "execution_count": 144,
     "metadata": {},
     "output_type": "execute_result"
    }
   ],
   "source": [
    "dataset.describe()"
   ]
  },
  {
   "cell_type": "code",
   "execution_count": 75,
   "metadata": {},
   "outputs": [
    {
     "data": {
      "text/html": [
       "<div>\n",
       "<style scoped>\n",
       "    .dataframe tbody tr th:only-of-type {\n",
       "        vertical-align: middle;\n",
       "    }\n",
       "\n",
       "    .dataframe tbody tr th {\n",
       "        vertical-align: top;\n",
       "    }\n",
       "\n",
       "    .dataframe thead th {\n",
       "        text-align: right;\n",
       "    }\n",
       "</style>\n",
       "<table border=\"1\" class=\"dataframe\">\n",
       "  <thead>\n",
       "    <tr style=\"text-align: right;\">\n",
       "      <th></th>\n",
       "      <th>Industry</th>\n",
       "      <th>Contribution_to_GDP</th>\n",
       "      <th>Total_number_in_wage_employment</th>\n",
       "    </tr>\n",
       "  </thead>\n",
       "  <tbody>\n",
       "    <tr>\n",
       "      <th>0</th>\n",
       "      <td>Agriculture, Forestry And Fishing</td>\n",
       "      <td>3.169686</td>\n",
       "      <td>12.740875</td>\n",
       "    </tr>\n",
       "    <tr>\n",
       "      <th>1</th>\n",
       "      <td>Mining And Quarrying</td>\n",
       "      <td>-0.356675</td>\n",
       "      <td>9.074750</td>\n",
       "    </tr>\n",
       "    <tr>\n",
       "      <th>2</th>\n",
       "      <td>Manufacturing</td>\n",
       "      <td>2.261763</td>\n",
       "      <td>12.531358</td>\n",
       "    </tr>\n",
       "    <tr>\n",
       "      <th>3</th>\n",
       "      <td>Electricity, Gas, Steam And Air Conditioning S...</td>\n",
       "      <td>-0.916291</td>\n",
       "      <td>9.548097</td>\n",
       "    </tr>\n",
       "    <tr>\n",
       "      <th>4</th>\n",
       "      <td>Water Supply; Sewerage, Waste Management And R...</td>\n",
       "      <td>-0.356675</td>\n",
       "      <td>9.962275</td>\n",
       "    </tr>\n",
       "  </tbody>\n",
       "</table>\n",
       "</div>"
      ],
      "text/plain": [
       "                                            Industry  Contribution_to_GDP  \\\n",
       "0                  Agriculture, Forestry And Fishing             3.169686   \n",
       "1                               Mining And Quarrying            -0.356675   \n",
       "2                                      Manufacturing             2.261763   \n",
       "3  Electricity, Gas, Steam And Air Conditioning S...            -0.916291   \n",
       "4  Water Supply; Sewerage, Waste Management And R...            -0.356675   \n",
       "\n",
       "   Total_number_in_wage_employment  \n",
       "0                        12.740875  \n",
       "1                         9.074750  \n",
       "2                        12.531358  \n",
       "3                         9.548097  \n",
       "4                         9.962275  "
      ]
     },
     "execution_count": 75,
     "metadata": {},
     "output_type": "execute_result"
    }
   ],
   "source": [
    "# Removing Skewness/Outliers using a Log Transform\n",
    "\n",
    "dataset[\"Contribution_to_GDP\"] = dataset[\"Contribution_to_GDP\"].map(lambda i: np.log(i) if i > 0 else 0)\n",
    "\n",
    "dataset[\"Total_number_in_wage_employment\"] = dataset[\"Total_number_in_wage_employment\"].map(lambda i: np.log(i) if i > 0 else 0)\n",
    "\n",
    "dataset.head()"
   ]
  },
  {
   "cell_type": "code",
   "execution_count": 78,
   "metadata": {},
   "outputs": [
    {
     "data": {
      "text/plain": [
       "0    23.8\n",
       "1     0.7\n",
       "2     9.6\n",
       "3     0.4\n",
       "4     0.7\n",
       "Name: Contribution_to_GDP, dtype: float64"
      ]
     },
     "execution_count": 78,
     "metadata": {},
     "output_type": "execute_result"
    }
   ],
   "source": [
    "# Checking if log transform reversed gives original data\n",
    "log_transform_reversed = np.exp(dataset[\"Contribution_to_GDP\"])\n",
    "\n",
    "log_transform_reversed.head()"
   ]
  },
  {
   "cell_type": "markdown",
   "metadata": {
    "id": "QPYrNm5-LcK4"
   },
   "source": [
    "### Split data into train and test sets"
   ]
  },
  {
   "cell_type": "code",
   "execution_count": 79,
   "metadata": {
    "id": "alTGDMQnsMMm"
   },
   "outputs": [],
   "source": [
    "# Setting training data to be the first 7 years of data\n",
    "n_train_years = 7*21\n",
    "\n",
    "# split into train and test sets\n",
    "train_set = dataset[:n_train_years]\n",
    "test_set = dataset[n_train_years:]"
   ]
  },
  {
   "cell_type": "code",
   "execution_count": 80,
   "metadata": {
    "colab": {
     "base_uri": "https://localhost:8080/"
    },
    "executionInfo": {
     "elapsed": 689,
     "status": "ok",
     "timestamp": 1628454701957,
     "user": {
      "displayName": "Isaac Mwendwa",
      "photoUrl": "https://lh3.googleusercontent.com/a-/AOh14Gik6eW-t_ttT93CxBiHADNOLtLhMyJGtlZTYPwGBQ=s64",
      "userId": "14986221937983786022"
     },
     "user_tz": -180
    },
    "id": "zYQZrEd8qYru",
    "outputId": "1f4e837e-e22b-4c74-863d-ef780b667ea7"
   },
   "outputs": [
    {
     "data": {
      "text/plain": [
       "(147, 3)"
      ]
     },
     "execution_count": 80,
     "metadata": {},
     "output_type": "execute_result"
    }
   ],
   "source": [
    "train_set.shape"
   ]
  },
  {
   "cell_type": "code",
   "execution_count": 81,
   "metadata": {
    "id": "gJlZ6ePKL5Rm"
   },
   "outputs": [
    {
     "data": {
      "text/plain": [
       "(21, 3)"
      ]
     },
     "execution_count": 81,
     "metadata": {},
     "output_type": "execute_result"
    }
   ],
   "source": [
    "test_set.shape"
   ]
  },
  {
   "cell_type": "markdown",
   "metadata": {
    "id": "M6bnGGw4L_3J"
   },
   "source": [
    "### Segregating Target and Feature Variables"
   ]
  },
  {
   "cell_type": "code",
   "execution_count": 82,
   "metadata": {
    "colab": {
     "base_uri": "https://localhost:8080/"
    },
    "executionInfo": {
     "elapsed": 614,
     "status": "ok",
     "timestamp": 1628536032008,
     "user": {
      "displayName": "Isaac Mwendwa",
      "photoUrl": "https://lh3.googleusercontent.com/a-/AOh14Gik6eW-t_ttT93CxBiHADNOLtLhMyJGtlZTYPwGBQ=s64",
      "userId": "14986221937983786022"
     },
     "user_tz": -180
    },
    "id": "oBtaHS91MF-6",
    "outputId": "4be3ae29-11f2-4af1-b590-1da7332f796f"
   },
   "outputs": [
    {
     "data": {
      "text/plain": [
       "(147, 2)"
      ]
     },
     "execution_count": 82,
     "metadata": {},
     "output_type": "execute_result"
    }
   ],
   "source": [
    "data_train = train_set.drop(\"Total_number_in_wage_employment\", axis=1)\n",
    "data_train_labels = train_set[\"Total_number_in_wage_employment\"].copy()\n",
    "data_train.shape"
   ]
  },
  {
   "cell_type": "code",
   "execution_count": 83,
   "metadata": {},
   "outputs": [
    {
     "data": {
      "text/html": [
       "<div>\n",
       "<style scoped>\n",
       "    .dataframe tbody tr th:only-of-type {\n",
       "        vertical-align: middle;\n",
       "    }\n",
       "\n",
       "    .dataframe tbody tr th {\n",
       "        vertical-align: top;\n",
       "    }\n",
       "\n",
       "    .dataframe thead th {\n",
       "        text-align: right;\n",
       "    }\n",
       "</style>\n",
       "<table border=\"1\" class=\"dataframe\">\n",
       "  <thead>\n",
       "    <tr style=\"text-align: right;\">\n",
       "      <th></th>\n",
       "      <th>Industry</th>\n",
       "      <th>Contribution_to_GDP</th>\n",
       "    </tr>\n",
       "  </thead>\n",
       "  <tbody>\n",
       "    <tr>\n",
       "      <th>0</th>\n",
       "      <td>Agriculture, Forestry And Fishing</td>\n",
       "      <td>3.169686</td>\n",
       "    </tr>\n",
       "    <tr>\n",
       "      <th>1</th>\n",
       "      <td>Mining And Quarrying</td>\n",
       "      <td>-0.356675</td>\n",
       "    </tr>\n",
       "    <tr>\n",
       "      <th>2</th>\n",
       "      <td>Manufacturing</td>\n",
       "      <td>2.261763</td>\n",
       "    </tr>\n",
       "    <tr>\n",
       "      <th>3</th>\n",
       "      <td>Electricity, Gas, Steam And Air Conditioning S...</td>\n",
       "      <td>-0.916291</td>\n",
       "    </tr>\n",
       "    <tr>\n",
       "      <th>4</th>\n",
       "      <td>Water Supply; Sewerage, Waste Management And R...</td>\n",
       "      <td>-0.356675</td>\n",
       "    </tr>\n",
       "  </tbody>\n",
       "</table>\n",
       "</div>"
      ],
      "text/plain": [
       "                                            Industry  Contribution_to_GDP\n",
       "0                  Agriculture, Forestry And Fishing             3.169686\n",
       "1                               Mining And Quarrying            -0.356675\n",
       "2                                      Manufacturing             2.261763\n",
       "3  Electricity, Gas, Steam And Air Conditioning S...            -0.916291\n",
       "4  Water Supply; Sewerage, Waste Management And R...            -0.356675"
      ]
     },
     "execution_count": 83,
     "metadata": {},
     "output_type": "execute_result"
    }
   ],
   "source": [
    "data_train.head()"
   ]
  },
  {
   "cell_type": "code",
   "execution_count": 84,
   "metadata": {
    "colab": {
     "base_uri": "https://localhost:8080/"
    },
    "executionInfo": {
     "elapsed": 737,
     "status": "ok",
     "timestamp": 1628454719197,
     "user": {
      "displayName": "Isaac Mwendwa",
      "photoUrl": "https://lh3.googleusercontent.com/a-/AOh14Gik6eW-t_ttT93CxBiHADNOLtLhMyJGtlZTYPwGBQ=s64",
      "userId": "14986221937983786022"
     },
     "user_tz": -180
    },
    "id": "hrgdO8RlhL_i",
    "outputId": "6695f269-d7b8-402b-f917-c319274bbf51"
   },
   "outputs": [
    {
     "data": {
      "text/plain": [
       "(147,)"
      ]
     },
     "execution_count": 84,
     "metadata": {},
     "output_type": "execute_result"
    }
   ],
   "source": [
    "data_train_labels.shape"
   ]
  },
  {
   "cell_type": "code",
   "execution_count": 85,
   "metadata": {},
   "outputs": [
    {
     "data": {
      "text/plain": [
       "0    12.740875\n",
       "1     9.074750\n",
       "2    12.531358\n",
       "3     9.548097\n",
       "4     9.962275\n",
       "Name: Total_number_in_wage_employment, dtype: float64"
      ]
     },
     "execution_count": 85,
     "metadata": {},
     "output_type": "execute_result"
    }
   ],
   "source": [
    "data_train_labels.head()"
   ]
  },
  {
   "cell_type": "code",
   "execution_count": null,
   "metadata": {},
   "outputs": [],
   "source": []
  },
  {
   "cell_type": "markdown",
   "metadata": {
    "id": "3rgPLWf2B_8_"
   },
   "source": [
    "### Pipelines for Transforming Data"
   ]
  },
  {
   "cell_type": "code",
   "execution_count": 86,
   "metadata": {},
   "outputs": [
    {
     "data": {
      "text/plain": [
       "Industry                object\n",
       "Contribution_to_GDP    float64\n",
       "dtype: object"
      ]
     },
     "execution_count": 86,
     "metadata": {},
     "output_type": "execute_result"
    }
   ],
   "source": [
    "# Checking dtypes of data columns\n",
    "data_train.dtypes"
   ]
  },
  {
   "cell_type": "markdown",
   "metadata": {},
   "source": [
    "#### Full Pipeline Transformer for Numerical and Categorical Data"
   ]
  },
  {
   "cell_type": "code",
   "execution_count": 87,
   "metadata": {
    "id": "vJgI3Ahy0cyB"
   },
   "outputs": [],
   "source": [
    "def pipeline_transformer(data):\n",
    "    '''\n",
    "    Complete transformation pipeline for both\n",
    "    categorical data (Binary Encoding) and \n",
    "    numerical data (Passthrough - no transformation)\n",
    "    \n",
    "    Argument:\n",
    "        data: original dataframe \n",
    "    Returns:\n",
    "        data: transformed data, ready to use\n",
    "    '''\n",
    "    cat_attrs = [\"Industry\"]\n",
    "    \n",
    "    full_pipeline = ColumnTransformer([\n",
    "        # transform the categorical data and pass through the numerical columns unchanged\n",
    "        (\"cat\", BinaryEncoder(), cat_attrs)], remainder = 'passthrough')    #\n",
    "    \n",
    "    data = full_pipeline.fit_transform(data)\n",
    "    \n",
    "    return data"
   ]
  },
  {
   "cell_type": "markdown",
   "metadata": {
    "id": "q8QUPS5q0fwy"
   },
   "source": [
    "#### Calling Pipelines for Transforming Data"
   ]
  },
  {
   "cell_type": "code",
   "execution_count": 88,
   "metadata": {
    "id": "BVXkGDif0lGz"
   },
   "outputs": [
    {
     "data": {
      "text/plain": [
       "array([[ 0.        ,  0.        ,  0.        ,  0.        ,  1.        ,\n",
       "         3.16968558],\n",
       "       [ 0.        ,  0.        ,  0.        ,  1.        ,  0.        ,\n",
       "        -0.35667494],\n",
       "       [ 0.        ,  0.        ,  0.        ,  1.        ,  1.        ,\n",
       "         2.2617631 ],\n",
       "       [ 0.        ,  0.        ,  1.        ,  0.        ,  0.        ,\n",
       "        -0.91629073],\n",
       "       [ 0.        ,  0.        ,  1.        ,  0.        ,  1.        ,\n",
       "        -0.35667494],\n",
       "       [ 0.        ,  0.        ,  1.        ,  1.        ,  0.        ,\n",
       "         1.41098697],\n",
       "       [ 0.        ,  0.        ,  1.        ,  1.        ,  1.        ,\n",
       "         2.35137526],\n",
       "       [ 0.        ,  1.        ,  0.        ,  0.        ,  0.        ,\n",
       "         2.05412373],\n",
       "       [ 0.        ,  1.        ,  0.        ,  0.        ,  1.        ,\n",
       "         0.53062825],\n",
       "       [ 0.        ,  1.        ,  0.        ,  1.        ,  0.        ,\n",
       "         0.78845736],\n",
       "       [ 0.        ,  1.        ,  0.        ,  1.        ,  1.        ,\n",
       "         1.84054963],\n",
       "       [ 0.        ,  1.        ,  1.        ,  0.        ,  0.        ,\n",
       "         1.48160454],\n",
       "       [ 0.        ,  1.        ,  1.        ,  0.        ,  1.        ,\n",
       "         0.74193734],\n",
       "       [ 0.        ,  1.        ,  1.        ,  1.        ,  0.        ,\n",
       "         0.83290912],\n",
       "       [ 0.        ,  1.        ,  1.        ,  1.        ,  1.        ,\n",
       "         1.60943791],\n",
       "       [ 1.        ,  0.        ,  0.        ,  0.        ,  0.        ,\n",
       "         1.75785792],\n",
       "       [ 1.        ,  0.        ,  0.        ,  0.        ,  1.        ,\n",
       "         0.87546874],\n",
       "       [ 1.        ,  0.        ,  0.        ,  1.        ,  0.        ,\n",
       "         1.16315081],\n",
       "       [ 1.        ,  0.        ,  0.        ,  1.        ,  1.        ,\n",
       "        -0.91629073],\n",
       "       [ 1.        ,  0.        ,  1.        ,  0.        ,  0.        ,\n",
       "         1.48228886],\n",
       "       [ 1.        ,  0.        ,  1.        ,  0.        ,  1.        ,\n",
       "         1.48228886],\n",
       "       [ 0.        ,  0.        ,  0.        ,  0.        ,  1.        ,\n",
       "         3.26575941],\n",
       "       [ 0.        ,  0.        ,  0.        ,  1.        ,  0.        ,\n",
       "         0.09531018],\n",
       "       [ 0.        ,  0.        ,  0.        ,  1.        ,  1.        ,\n",
       "         2.39789527],\n",
       "       [ 0.        ,  0.        ,  1.        ,  0.        ,  0.        ,\n",
       "         0.09531018],\n",
       "       [ 0.        ,  0.        ,  1.        ,  0.        ,  1.        ,\n",
       "        -0.10536052],\n",
       "       [ 0.        ,  0.        ,  1.        ,  1.        ,  0.        ,\n",
       "         1.5040774 ],\n",
       "       [ 0.        ,  0.        ,  1.        ,  1.        ,  1.        ,\n",
       "         2.05412373],\n",
       "       [ 0.        ,  1.        ,  0.        ,  0.        ,  0.        ,\n",
       "         2.07944154],\n",
       "       [ 0.        ,  1.        ,  0.        ,  0.        ,  1.        ,\n",
       "         0.26236426],\n",
       "       [ 0.        ,  1.        ,  0.        ,  1.        ,  0.        ,\n",
       "         0.47000363],\n",
       "       [ 0.        ,  1.        ,  0.        ,  1.        ,  1.        ,\n",
       "         1.77495235],\n",
       "       [ 0.        ,  1.        ,  1.        ,  0.        ,  0.        ,\n",
       "         2.07944154],\n",
       "       [ 0.        ,  1.        ,  1.        ,  0.        ,  1.        ,\n",
       "         0.        ],\n",
       "       [ 0.        ,  1.        ,  1.        ,  1.        ,  0.        ,\n",
       "         0.26236426],\n",
       "       [ 0.        ,  1.        ,  1.        ,  1.        ,  1.        ,\n",
       "         1.48160454],\n",
       "       [ 1.        ,  0.        ,  0.        ,  0.        ,  0.        ,\n",
       "         1.68639895],\n",
       "       [ 1.        ,  0.        ,  0.        ,  0.        ,  1.        ,\n",
       "         0.53062825],\n",
       "       [ 1.        ,  0.        ,  0.        ,  1.        ,  0.        ,\n",
       "        -2.30258509],\n",
       "       [ 1.        ,  0.        ,  0.        ,  1.        ,  1.        ,\n",
       "        -0.51082562],\n",
       "       [ 1.        ,  0.        ,  1.        ,  0.        ,  0.        ,\n",
       "        -0.51082562],\n",
       "       [ 1.        ,  0.        ,  1.        ,  0.        ,  1.        ,\n",
       "         0.        ],\n",
       "       [ 0.        ,  0.        ,  0.        ,  0.        ,  1.        ,\n",
       "         3.27336401],\n",
       "       [ 0.        ,  0.        ,  0.        ,  1.        ,  0.        ,\n",
       "        -0.10536052],\n",
       "       [ 0.        ,  0.        ,  0.        ,  1.        ,  1.        ,\n",
       "         2.37024374],\n",
       "       [ 0.        ,  0.        ,  1.        ,  0.        ,  0.        ,\n",
       "         0.09531018],\n",
       "       [ 0.        ,  0.        ,  1.        ,  0.        ,  1.        ,\n",
       "        -0.10536052],\n",
       "       [ 0.        ,  0.        ,  1.        ,  1.        ,  0.        ,\n",
       "         1.5040774 ],\n",
       "       [ 0.        ,  0.        ,  1.        ,  1.        ,  1.        ,\n",
       "         2.07944154],\n",
       "       [ 0.        ,  1.        ,  0.        ,  0.        ,  0.        ,\n",
       "         2.07944154],\n",
       "       [ 0.        ,  1.        ,  0.        ,  0.        ,  1.        ,\n",
       "         0.18232156],\n",
       "       [ 0.        ,  1.        ,  0.        ,  1.        ,  0.        ,\n",
       "         0.33647224],\n",
       "       [ 0.        ,  1.        ,  0.        ,  1.        ,  1.        ,\n",
       "         1.88706965],\n",
       "       [ 0.        ,  1.        ,  1.        ,  0.        ,  0.        ,\n",
       "         2.06686276],\n",
       "       [ 0.        ,  1.        ,  1.        ,  0.        ,  1.        ,\n",
       "         0.        ],\n",
       "       [ 0.        ,  1.        ,  1.        ,  1.        ,  0.        ,\n",
       "         0.18232156],\n",
       "       [ 0.        ,  1.        ,  1.        ,  1.        ,  1.        ,\n",
       "         1.48160454],\n",
       "       [ 1.        ,  0.        ,  0.        ,  0.        ,  0.        ,\n",
       "         1.66770682],\n",
       "       [ 1.        ,  0.        ,  0.        ,  0.        ,  1.        ,\n",
       "         0.47000363],\n",
       "       [ 1.        ,  0.        ,  0.        ,  1.        ,  0.        ,\n",
       "        -2.30258509],\n",
       "       [ 1.        ,  0.        ,  0.        ,  1.        ,  1.        ,\n",
       "        -0.51082562],\n",
       "       [ 1.        ,  0.        ,  1.        ,  0.        ,  0.        ,\n",
       "        -0.69314718],\n",
       "       [ 1.        ,  0.        ,  1.        ,  0.        ,  1.        ,\n",
       "         0.        ],\n",
       "       [ 0.        ,  0.        ,  0.        ,  0.        ,  1.        ,\n",
       "         3.314186  ],\n",
       "       [ 0.        ,  0.        ,  0.        ,  1.        ,  0.        ,\n",
       "        -0.22314355],\n",
       "       [ 0.        ,  0.        ,  0.        ,  1.        ,  1.        ,\n",
       "         2.30258509],\n",
       "       [ 0.        ,  0.        ,  1.        ,  0.        ,  0.        ,\n",
       "         0.        ],\n",
       "       [ 0.        ,  0.        ,  1.        ,  0.        ,  1.        ,\n",
       "        -0.22314355],\n",
       "       [ 0.        ,  0.        ,  1.        ,  1.        ,  0.        ,\n",
       "         1.58923521],\n",
       "       [ 0.        ,  0.        ,  1.        ,  1.        ,  1.        ,\n",
       "         2.07944154],\n",
       "       [ 0.        ,  1.        ,  0.        ,  0.        ,  0.        ,\n",
       "         2.1517622 ],\n",
       "       [ 0.        ,  1.        ,  0.        ,  0.        ,  1.        ,\n",
       "        -0.10536052],\n",
       "       [ 0.        ,  1.        ,  0.        ,  1.        ,  0.        ,\n",
       "         0.18232156],\n",
       "       [ 0.        ,  1.        ,  0.        ,  1.        ,  1.        ,\n",
       "         1.91692261],\n",
       "       [ 0.        ,  1.        ,  1.        ,  0.        ,  0.        ,\n",
       "         2.04122033],\n",
       "       [ 0.        ,  1.        ,  1.        ,  0.        ,  1.        ,\n",
       "         0.        ],\n",
       "       [ 0.        ,  1.        ,  1.        ,  1.        ,  0.        ,\n",
       "         0.09531018],\n",
       "       [ 0.        ,  1.        ,  1.        ,  1.        ,  1.        ,\n",
       "         1.5040774 ],\n",
       "       [ 1.        ,  0.        ,  0.        ,  0.        ,  0.        ,\n",
       "         1.64865863],\n",
       "       [ 1.        ,  0.        ,  0.        ,  0.        ,  1.        ,\n",
       "         0.53062825],\n",
       "       [ 1.        ,  0.        ,  0.        ,  1.        ,  0.        ,\n",
       "        -2.30258509],\n",
       "       [ 1.        ,  0.        ,  0.        ,  1.        ,  1.        ,\n",
       "        -0.51082562],\n",
       "       [ 1.        ,  0.        ,  1.        ,  0.        ,  0.        ,\n",
       "        -0.69314718],\n",
       "       [ 1.        ,  0.        ,  1.        ,  0.        ,  1.        ,\n",
       "         0.        ],\n",
       "       [ 0.        ,  0.        ,  0.        ,  0.        ,  1.        ,\n",
       "         3.40784192],\n",
       "       [ 0.        ,  0.        ,  0.        ,  1.        ,  0.        ,\n",
       "        -0.10536052],\n",
       "       [ 0.        ,  0.        ,  0.        ,  1.        ,  1.        ,\n",
       "         2.24070969],\n",
       "       [ 0.        ,  0.        ,  1.        ,  0.        ,  0.        ,\n",
       "         0.33647224],\n",
       "       [ 0.        ,  0.        ,  1.        ,  0.        ,  1.        ,\n",
       "        -0.35667494],\n",
       "       [ 0.        ,  0.        ,  1.        ,  1.        ,  0.        ,\n",
       "         1.58923521],\n",
       "       [ 0.        ,  0.        ,  1.        ,  1.        ,  1.        ,\n",
       "         2.01490302],\n",
       "       [ 0.        ,  1.        ,  0.        ,  0.        ,  0.        ,\n",
       "         2.09186406],\n",
       "       [ 0.        ,  1.        ,  0.        ,  0.        ,  1.        ,\n",
       "        -0.22314355],\n",
       "       [ 0.        ,  1.        ,  0.        ,  1.        ,  0.        ,\n",
       "         0.40546511],\n",
       "       [ 0.        ,  1.        ,  0.        ,  1.        ,  1.        ,\n",
       "         1.90210753],\n",
       "       [ 0.        ,  1.        ,  1.        ,  0.        ,  0.        ,\n",
       "         2.01490302],\n",
       "       [ 0.        ,  1.        ,  1.        ,  0.        ,  1.        ,\n",
       "        -0.10536052],\n",
       "       [ 0.        ,  1.        ,  1.        ,  1.        ,  0.        ,\n",
       "         0.        ],\n",
       "       [ 0.        ,  1.        ,  1.        ,  1.        ,  1.        ,\n",
       "         1.45861502],\n",
       "       [ 1.        ,  0.        ,  0.        ,  0.        ,  0.        ,\n",
       "         1.58923521],\n",
       "       [ 1.        ,  0.        ,  0.        ,  0.        ,  1.        ,\n",
       "         0.53062825],\n",
       "       [ 1.        ,  0.        ,  0.        ,  1.        ,  0.        ,\n",
       "        -2.30258509],\n",
       "       [ 1.        ,  0.        ,  0.        ,  1.        ,  1.        ,\n",
       "        -0.51082562],\n",
       "       [ 1.        ,  0.        ,  1.        ,  0.        ,  0.        ,\n",
       "        -0.69314718],\n",
       "       [ 1.        ,  0.        ,  1.        ,  0.        ,  1.        ,\n",
       "         0.        ],\n",
       "       [ 0.        ,  0.        ,  0.        ,  0.        ,  1.        ,\n",
       "         3.43720782],\n",
       "       [ 0.        ,  0.        ,  0.        ,  1.        ,  0.        ,\n",
       "        -0.22314355],\n",
       "       [ 0.        ,  0.        ,  0.        ,  1.        ,  1.        ,\n",
       "         2.2300144 ],\n",
       "       [ 0.        ,  0.        ,  1.        ,  0.        ,  0.        ,\n",
       "         0.64185389],\n",
       "       [ 0.        ,  0.        ,  1.        ,  0.        ,  1.        ,\n",
       "        -0.35667494],\n",
       "       [ 0.        ,  0.        ,  1.        ,  1.        ,  0.        ,\n",
       "         1.62924054],\n",
       "       [ 0.        ,  0.        ,  1.        ,  1.        ,  1.        ,\n",
       "         1.97408103],\n",
       "       [ 0.        ,  1.        ,  0.        ,  0.        ,  0.        ,\n",
       "         2.09186406],\n",
       "       [ 0.        ,  1.        ,  0.        ,  0.        ,  1.        ,\n",
       "        -0.35667494],\n",
       "       [ 0.        ,  1.        ,  0.        ,  1.        ,  0.        ,\n",
       "         0.40546511],\n",
       "       [ 0.        ,  1.        ,  0.        ,  1.        ,  1.        ,\n",
       "         1.96009478],\n",
       "       [ 0.        ,  1.        ,  1.        ,  0.        ,  0.        ,\n",
       "         2.02814825],\n",
       "       [ 0.        ,  1.        ,  1.        ,  0.        ,  1.        ,\n",
       "        -0.10536052],\n",
       "       [ 0.        ,  1.        ,  1.        ,  1.        ,  0.        ,\n",
       "         0.        ],\n",
       "       [ 0.        ,  1.        ,  1.        ,  1.        ,  1.        ,\n",
       "         1.36097655],\n",
       "       [ 1.        ,  0.        ,  0.        ,  0.        ,  0.        ,\n",
       "         1.48160454],\n",
       "       [ 1.        ,  0.        ,  0.        ,  0.        ,  1.        ,\n",
       "         0.53062825],\n",
       "       [ 1.        ,  0.        ,  0.        ,  1.        ,  0.        ,\n",
       "        -2.30258509],\n",
       "       [ 1.        ,  0.        ,  0.        ,  1.        ,  1.        ,\n",
       "        -0.51082562],\n",
       "       [ 1.        ,  0.        ,  1.        ,  0.        ,  0.        ,\n",
       "        -0.69314718],\n",
       "       [ 1.        ,  0.        ,  1.        ,  0.        ,  1.        ,\n",
       "         0.        ],\n",
       "       [ 0.        ,  0.        ,  0.        ,  0.        ,  1.        ,\n",
       "         3.54961739],\n",
       "       [ 0.        ,  0.        ,  0.        ,  1.        ,  0.        ,\n",
       "        -0.22314355],\n",
       "       [ 0.        ,  0.        ,  0.        ,  1.        ,  1.        ,\n",
       "         2.07944154],\n",
       "       [ 0.        ,  0.        ,  1.        ,  0.        ,  0.        ,\n",
       "         0.58778666],\n",
       "       [ 0.        ,  0.        ,  1.        ,  0.        ,  1.        ,\n",
       "        -0.35667494],\n",
       "       [ 0.        ,  0.        ,  1.        ,  1.        ,  0.        ,\n",
       "         1.7227666 ],\n",
       "       [ 0.        ,  0.        ,  1.        ,  1.        ,  1.        ,\n",
       "         2.00148   ],\n",
       "       [ 0.        ,  1.        ,  0.        ,  0.        ,  0.        ,\n",
       "         2.01490302],\n",
       "       [ 0.        ,  1.        ,  0.        ,  0.        ,  1.        ,\n",
       "        -0.35667494],\n",
       "       [ 0.        ,  1.        ,  0.        ,  1.        ,  0.        ,\n",
       "         0.26236426],\n",
       "       [ 0.        ,  1.        ,  0.        ,  1.        ,  1.        ,\n",
       "         1.96009478],\n",
       "       [ 0.        ,  1.        ,  1.        ,  0.        ,  0.        ,\n",
       "        -0.22314355],\n",
       "       [ 0.        ,  1.        ,  1.        ,  0.        ,  1.        ,\n",
       "        -0.10536052],\n",
       "       [ 0.        ,  1.        ,  1.        ,  1.        ,  0.        ,\n",
       "         1.28093385],\n",
       "       [ 0.        ,  1.        ,  1.        ,  1.        ,  1.        ,\n",
       "         1.38629436],\n",
       "       [ 1.        ,  0.        ,  0.        ,  0.        ,  0.        ,\n",
       "         0.40546511],\n",
       "       [ 1.        ,  0.        ,  0.        ,  0.        ,  1.        ,\n",
       "        -2.30258509],\n",
       "       [ 1.        ,  0.        ,  0.        ,  1.        ,  0.        ,\n",
       "        -0.51082562],\n",
       "       [ 1.        ,  0.        ,  0.        ,  1.        ,  1.        ,\n",
       "        -0.91629073],\n",
       "       [ 1.        ,  0.        ,  1.        ,  0.        ,  0.        ,\n",
       "         0.        ],\n",
       "       [ 1.        ,  0.        ,  1.        ,  0.        ,  1.        ,\n",
       "         2.11625551]])"
      ]
     },
     "execution_count": 88,
     "metadata": {},
     "output_type": "execute_result"
    }
   ],
   "source": [
    "# Preparing data using pipeline_transformer()\n",
    "prepared_data_train = pipeline_transformer(data_train)\n",
    "\n",
    "prepared_data_train"
   ]
  },
  {
   "cell_type": "code",
   "execution_count": 89,
   "metadata": {
    "colab": {
     "base_uri": "https://localhost:8080/"
    },
    "executionInfo": {
     "elapsed": 430,
     "status": "ok",
     "timestamp": 1628454756004,
     "user": {
      "displayName": "Isaac Mwendwa",
      "photoUrl": "https://lh3.googleusercontent.com/a-/AOh14Gik6eW-t_ttT93CxBiHADNOLtLhMyJGtlZTYPwGBQ=s64",
      "userId": "14986221937983786022"
     },
     "user_tz": -180
    },
    "id": "oUkrEIcWjLIo",
    "outputId": "bee5ddb3-aa2f-4cc2-f5da-d7a13c094a24"
   },
   "outputs": [
    {
     "data": {
      "text/plain": [
       "(147, 6)"
      ]
     },
     "execution_count": 89,
     "metadata": {},
     "output_type": "execute_result"
    }
   ],
   "source": [
    "# shape of train data\n",
    "prepared_data_train.shape"
   ]
  },
  {
   "cell_type": "markdown",
   "metadata": {},
   "source": [
    "#### Preparing Test Data"
   ]
  },
  {
   "cell_type": "code",
   "execution_count": 158,
   "metadata": {},
   "outputs": [],
   "source": [
    "# Preparing Test Data\n",
    "X_test = test_set.drop(\"Total_number_in_wage_employment\", axis=1)\n",
    "y_test = test_set[\"Total_number_in_wage_employment\"].copy()\n",
    "\n",
    "# Preparing data using pipeline_transformer()\n",
    "prepared_X_test = pipeline_transformer(X_test)"
   ]
  },
  {
   "cell_type": "markdown",
   "metadata": {
    "id": "vlsG9pJ0CcI0"
   },
   "source": [
    "\n",
    "\n",
    "## Training ML Models"
   ]
  },
  {
   "cell_type": "markdown",
   "metadata": {
    "id": "WHry7ovDFqcy"
   },
   "source": [
    "I will train the following models:\n",
    "1. Linear Regression\n",
    "2. Decision Tree Regressor\n",
    "3. Random Forest Regressor\n",
    "4. SVM Regressor"
   ]
  },
  {
   "cell_type": "markdown",
   "metadata": {
    "id": "I50LjAA4F9-q"
   },
   "source": [
    "### 1. Linear Regression"
   ]
  },
  {
   "cell_type": "code",
   "execution_count": 90,
   "metadata": {
    "colab": {
     "base_uri": "https://localhost:8080/"
    },
    "executionInfo": {
     "elapsed": 546,
     "status": "ok",
     "timestamp": 1628454791977,
     "user": {
      "displayName": "Isaac Mwendwa",
      "photoUrl": "https://lh3.googleusercontent.com/a-/AOh14Gik6eW-t_ttT93CxBiHADNOLtLhMyJGtlZTYPwGBQ=s64",
      "userId": "14986221937983786022"
     },
     "user_tz": -180
    },
    "id": "_bv86AflFmSE",
    "outputId": "6e6f9cb4-da0a-43bb-f94d-efee4a218794"
   },
   "outputs": [
    {
     "data": {
      "text/plain": [
       "LinearRegression(copy_X=True, fit_intercept=True, n_jobs=None, normalize=False)"
      ]
     },
     "execution_count": 90,
     "metadata": {},
     "output_type": "execute_result"
    }
   ],
   "source": [
    "# Fitting Model\n",
    "from sklearn.linear_model import LinearRegression\n",
    "\n",
    "lin_reg = LinearRegression()\n",
    "lin_reg.fit(prepared_data_train, data_train_labels)"
   ]
  },
  {
   "cell_type": "code",
   "execution_count": 91,
   "metadata": {
    "colab": {
     "base_uri": "https://localhost:8080/"
    },
    "executionInfo": {
     "elapsed": 600,
     "status": "ok",
     "timestamp": 1628343503721,
     "user": {
      "displayName": "Isaac Mwendwa",
      "photoUrl": "https://lh3.googleusercontent.com/a-/AOh14Gik6eW-t_ttT93CxBiHADNOLtLhMyJGtlZTYPwGBQ=s64",
      "userId": "14986221937983786022"
     },
     "user_tz": -180
    },
    "id": "FBGZcNVBNd0y",
    "outputId": "6451ad78-fa17-4ed8-c195-ed7fceef7ad3"
   },
   "outputs": [
    {
     "data": {
      "text/plain": [
       "(21, 2)"
      ]
     },
     "execution_count": 91,
     "metadata": {},
     "output_type": "execute_result"
    }
   ],
   "source": [
    "##testing the predictions with first year of data (21 rows)\n",
    "sample_data = data_train.iloc[:21]\n",
    "sample_labels = data_train_labels.iloc[:21]\n",
    "sample_data.shape"
   ]
  },
  {
   "cell_type": "code",
   "execution_count": 92,
   "metadata": {},
   "outputs": [
    {
     "data": {
      "text/plain": [
       "(21, 6)"
      ]
     },
     "execution_count": 92,
     "metadata": {},
     "output_type": "execute_result"
    }
   ],
   "source": [
    "# Prepare test data\n",
    "sample_data_prepared = pipeline_transformer(sample_data)\n",
    "\n",
    "sample_data_prepared.shape"
   ]
  },
  {
   "cell_type": "markdown",
   "metadata": {
    "id": "QfsqCoJ-wwHj"
   },
   "source": [
    "#### Linear Regression Model Evaluation "
   ]
  },
  {
   "cell_type": "code",
   "execution_count": 110,
   "metadata": {},
   "outputs": [],
   "source": [
    "# Function for getting RMSE in Log Transform Values\n",
    "def get_rmse_log_transformed (model, sample_data_prepared, sample_labels, model_name):\n",
    "    \n",
    "    log_predictions = model.predict(sample_data_prepared)\n",
    "    print(\"Prediction of samples: \", log_predictions)\n",
    "    \n",
    "    print(\"Actual Labels of samples: \", list(sample_labels))\n",
    "    \n",
    "    mse = mean_squared_error(sample_labels, log_predictions)\n",
    "    rmse = np.sqrt(mse)\n",
    "    \n",
    "    print(\"RMSE in Log Transform Values of: \" + model_name + \" is: \" + str(rmse))"
   ]
  },
  {
   "cell_type": "code",
   "execution_count": 113,
   "metadata": {},
   "outputs": [],
   "source": [
    "# function for reversing log transform to get actual values\n",
    "def get_actual_predictions(model, sample_data_prepared, sample_labels, model_name):\n",
    "    \n",
    "    # Reversing log transform applied to get actual predictions\n",
    "    actual_predictions = np.exp(model.predict(sample_data_prepared))\n",
    "    print(\"Prediction of samples: \", actual_predictions)\n",
    "\n",
    "    # Reversing log transform applied to get actual test labels\n",
    "    actual_sample_labels  = np.exp(list(sample_labels))\n",
    "    print(\"Actual Labels of samples: \", actual_sample_labels)\n",
    "\n",
    "    # Getting Actual RMSE (Log Transform Reversed)\n",
    "    actual_mse = mean_squared_error(actual_sample_labels, actual_predictions)\n",
    "    actual_rmse = np.sqrt(actual_mse)\n",
    "    print(\"Actual RMSE (Log Transform Reversed) of: \" + model_name + \" is: \" + str(actual_rmse))\n",
    "    \n",
    "    return actual_predictions, actual_sample_labels\n"
   ]
  },
  {
   "cell_type": "code",
   "execution_count": 119,
   "metadata": {},
   "outputs": [
    {
     "name": "stdout",
     "output_type": "stream",
     "text": [
      "Prediction of samples:  [12.90734001 10.349667   12.40868033  9.47469991 10.46415673 10.65672413\n",
      " 11.84399196 11.18664803 11.09393021 10.50214069 11.74743864 10.27798295\n",
      " 10.5924633   9.91399152 11.01613447 11.70391275 11.94424914 11.3679682\n",
      " 10.98643686 10.94951303 11.64824989]\n",
      "Actual Labels of samples:  [12.740874527805232, 9.074749717669835, 12.53135753651081, 9.54809749706027, 9.962275194019217, 11.598414850985643, 12.047551596202045, 11.244496849440335, 11.167741390246988, 11.267434049992112, 10.887343470572707, 8.184513753033722, 10.999479745081548, 7.752764808851328, 12.052455156864575, 12.859543008937221, 11.544395061839623, 8.416267272826277, 10.880101684393388, 11.621564600076658, 9.570110520822217]\n",
      "RMSE in Log Transform Values of: Linear Regression Model is: 1.184634981480246\n"
     ]
    }
   ],
   "source": [
    "# Getting Predictions and RMSE in Log Transform Values\n",
    "get_rmse_log_transformed(lin_reg, sample_data_prepared, sample_labels, \"Linear Regression Model\")"
   ]
  },
  {
   "cell_type": "code",
   "execution_count": 120,
   "metadata": {},
   "outputs": [
    {
     "name": "stdout",
     "output_type": "stream",
     "text": [
      "Prediction of samples:  [403261.29583561  31246.63602432 244918.3895601   13025.96446368\n",
      "  35036.88807743  42477.25920429 139245.23796391  72160.49588407\n",
      "  65770.73183227  36393.32599634 126429.31335739  29085.1481613\n",
      "  39833.49031612  20211.18665276  60848.01486814 121044.40562065\n",
      " 153929.37033309  86505.92641747  59067.54268167  56926.31709549\n",
      " 114490.81666621]\n",
      "Actual Labels of samples:  [341422.   8732. 276885.  14018.  21211. 108925. 170681.  76458.  70809.\n",
      "  78232.  53495.   3585.  59843.   2328. 171520. 384440. 103197.   4520.\n",
      "  53109. 111476.  14330.]\n",
      "Actual RMSE (Log Transform Reversed) of: Linear Regression Model is: 76655.40154972332\n"
     ]
    }
   ],
   "source": [
    "# Getting Predictions and RMSE in Actual Values (Log Transformed Inversed)\n",
    "rmse_actual = get_actual_predictions(lin_reg, sample_data_prepared, sample_labels, \"Linear Regression Model\")"
   ]
  },
  {
   "cell_type": "markdown",
   "metadata": {
    "id": "QwYywP-00BPJ"
   },
   "source": [
    "### 2. Decision Tree Regressor"
   ]
  },
  {
   "cell_type": "code",
   "execution_count": 121,
   "metadata": {
    "colab": {
     "base_uri": "https://localhost:8080/"
    },
    "executionInfo": {
     "elapsed": 21,
     "status": "ok",
     "timestamp": 1628454818337,
     "user": {
      "displayName": "Isaac Mwendwa",
      "photoUrl": "https://lh3.googleusercontent.com/a-/AOh14Gik6eW-t_ttT93CxBiHADNOLtLhMyJGtlZTYPwGBQ=s64",
      "userId": "14986221937983786022"
     },
     "user_tz": -180
    },
    "id": "mVjpfInw0Ai-",
    "outputId": "e610188f-61a1-4bcf-a6db-933e0da9edb4"
   },
   "outputs": [
    {
     "data": {
      "text/plain": [
       "DecisionTreeRegressor(criterion='mse', max_depth=None, max_features=None,\n",
       "                      max_leaf_nodes=None, min_impurity_decrease=0.0,\n",
       "                      min_impurity_split=None, min_samples_leaf=1,\n",
       "                      min_samples_split=2, min_weight_fraction_leaf=0.0,\n",
       "                      presort=False, random_state=None, splitter='best')"
      ]
     },
     "execution_count": 121,
     "metadata": {},
     "output_type": "execute_result"
    }
   ],
   "source": [
    "from sklearn.tree import DecisionTreeRegressor\n",
    "\n",
    "tree_reg = DecisionTreeRegressor()\n",
    "tree_reg.fit(prepared_data_train, data_train_labels)"
   ]
  },
  {
   "cell_type": "code",
   "execution_count": 122,
   "metadata": {},
   "outputs": [
    {
     "name": "stdout",
     "output_type": "stream",
     "text": [
      "Prediction of samples:  [12.74087453  9.07474972 12.53135754  9.5480975  10.13287097 11.59841485\n",
      " 12.0475516  11.24449685 11.16774139 11.26743405 10.88734347  8.18451375\n",
      " 10.99947975  7.75276481 12.05245516 12.85954301 11.54439506  8.41626727\n",
      " 10.69081436 11.6215646   9.57011052]\n",
      "Actual Labels of samples:  [12.740874527805232, 9.074749717669835, 12.53135753651081, 9.54809749706027, 9.962275194019217, 11.598414850985643, 12.047551596202045, 11.244496849440335, 11.167741390246988, 11.267434049992112, 10.887343470572707, 8.184513753033722, 10.999479745081548, 7.752764808851328, 12.052455156864575, 12.859543008937221, 11.544395061839623, 8.416267272826277, 10.880101684393388, 11.621564600076658, 9.570110520822217]\n",
      "RMSE in Log Transform Values of: Decision Tree Regressor Model is: 0.0556060163184952\n"
     ]
    }
   ],
   "source": [
    "# Getting Predictions and RMSE in Log Transform Values\n",
    "get_rmse_log_transformed(tree_reg, sample_data_prepared, sample_labels, \"Decision Tree Regressor Model\")"
   ]
  },
  {
   "cell_type": "code",
   "execution_count": 124,
   "metadata": {},
   "outputs": [
    {
     "name": "stdout",
     "output_type": "stream",
     "text": [
      "Prediction of samples:  [341422.           8732.         276885.          14018.\n",
      "  25156.48433547 108925.         170681.          76458.\n",
      "  70809.          78232.          53495.           3585.\n",
      "  59843.           2328.         171520.         384440.\n",
      " 103197.           4520.          43950.28371922 111476.\n",
      "  14330.        ]\n",
      "Actual Labels of samples:  [341422.   8732. 276885.  14018.  21211. 108925. 170681.  76458.  70809.\n",
      "  78232.  53495.   3585.  59843.   2328. 171520. 384440. 103197.   4520.\n",
      "  53109. 111476.  14330.]\n",
      "Actual RMSE (Log Transform Reversed) of: Decision Tree Regressor Model is: 2176.1579353710713\n"
     ]
    }
   ],
   "source": [
    "# Getting Predictions and RMSE in Actual Values (Log Transformed Inversed)\n",
    "rmse_actual = get_actual_predictions(tree_reg, sample_data_prepared, sample_labels, \"Decision Tree Regressor Model\")"
   ]
  },
  {
   "cell_type": "markdown",
   "metadata": {
    "id": "y0J9hrlp2tkv"
   },
   "source": [
    "**The Decison Tree Regressor above has a very low RMSE as compared to range of data and other model's RMSE, which means that it overfitted the data greatly, as no model is perfect (Decision Trees are prone to overfitting).**"
   ]
  },
  {
   "cell_type": "markdown",
   "metadata": {
    "id": "qt3gAaU4297m"
   },
   "source": [
    "#### Model Evaluation of the Decision Tree and Linear Regressors using Cross Validation"
   ]
  },
  {
   "cell_type": "markdown",
   "metadata": {
    "id": "mjWZBqf138Fa"
   },
   "source": [
    "Scikit-Learn’s K-fold cross-validation feature randomly splits the training set into `K` distinct subsets called folds, then it trains and evaluates the model `K` times, picking a different fold for evaluation every time and training on the other `K-1` folds.\n",
    "\n",
    "The result is an array containing the `K` evaluation scores:"
   ]
  },
  {
   "cell_type": "code",
   "execution_count": 125,
   "metadata": {
    "id": "ava7LeTM3Ogp"
   },
   "outputs": [
    {
     "data": {
      "text/plain": [
       "array([1.00545265, 1.15499786, 1.15924249, 1.00321407, 1.04209771,\n",
       "       0.99480584, 1.15905936, 0.94441099, 1.02376336, 1.4713039 ])"
      ]
     },
     "execution_count": 125,
     "metadata": {},
     "output_type": "execute_result"
    }
   ],
   "source": [
    "# Cross Validation in Linear Regression\n",
    "\n",
    "scores = cross_val_score(lin_reg, \n",
    "                         prepared_data_train, \n",
    "                         data_train_labels, \n",
    "                         scoring=\"neg_mean_squared_error\", \n",
    "                         cv = 10) # k is chosen as 10/5 ,as these values lead to low bias and variance\n",
    "\n",
    "lin_reg_rmse_scores = np.sqrt(-scores)\n",
    "lin_reg_rmse_scores"
   ]
  },
  {
   "cell_type": "code",
   "execution_count": 126,
   "metadata": {
    "colab": {
     "base_uri": "https://localhost:8080/"
    },
    "executionInfo": {
     "elapsed": 618,
     "status": "ok",
     "timestamp": 1628455012842,
     "user": {
      "displayName": "Isaac Mwendwa",
      "photoUrl": "https://lh3.googleusercontent.com/a-/AOh14Gik6eW-t_ttT93CxBiHADNOLtLhMyJGtlZTYPwGBQ=s64",
      "userId": "14986221937983786022"
     },
     "user_tz": -180
    },
    "id": "hCmpMLAA5Qf2",
    "outputId": "583302ee-9a08-4fb0-f1b0-7aa324a9dc0d"
   },
   "outputs": [
    {
     "data": {
      "text/plain": [
       "1.0958348234212256"
      ]
     },
     "execution_count": 126,
     "metadata": {},
     "output_type": "execute_result"
    }
   ],
   "source": [
    "lin_reg_rmse_scores.mean()"
   ]
  },
  {
   "cell_type": "code",
   "execution_count": 127,
   "metadata": {
    "colab": {
     "base_uri": "https://localhost:8080/"
    },
    "executionInfo": {
     "elapsed": 874,
     "status": "ok",
     "timestamp": 1628454930945,
     "user": {
      "displayName": "Isaac Mwendwa",
      "photoUrl": "https://lh3.googleusercontent.com/a-/AOh14Gik6eW-t_ttT93CxBiHADNOLtLhMyJGtlZTYPwGBQ=s64",
      "userId": "14986221937983786022"
     },
     "user_tz": -180
    },
    "id": "1DxR4e2a51-n",
    "outputId": "7b5f2568-9d87-46a6-dad9-04d40fa38d1c"
   },
   "outputs": [
    {
     "data": {
      "text/plain": [
       "array([0.84728294, 1.45351508, 0.21523306, 0.07335842, 0.5138756 ,\n",
       "       0.19823684, 0.06565681, 0.04110152, 0.0863205 , 1.44915796])"
      ]
     },
     "execution_count": 127,
     "metadata": {},
     "output_type": "execute_result"
    }
   ],
   "source": [
    "# Cross Validation in Decision Tree\n",
    "\n",
    "scores = cross_val_score(tree_reg,\n",
    "                         prepared_data_train,\n",
    "                         data_train_labels,\n",
    "                         scoring='neg_mean_squared_error',\n",
    "                         cv=10) \n",
    "tree_reg_rmse_scores = np.sqrt(-scores)\n",
    "tree_reg_rmse_scores"
   ]
  },
  {
   "cell_type": "code",
   "execution_count": 128,
   "metadata": {
    "colab": {
     "base_uri": "https://localhost:8080/"
    },
    "executionInfo": {
     "elapsed": 366,
     "status": "ok",
     "timestamp": 1628454934210,
     "user": {
      "displayName": "Isaac Mwendwa",
      "photoUrl": "https://lh3.googleusercontent.com/a-/AOh14Gik6eW-t_ttT93CxBiHADNOLtLhMyJGtlZTYPwGBQ=s64",
      "userId": "14986221937983786022"
     },
     "user_tz": -180
    },
    "id": "ZW653ygM57Nq",
    "outputId": "3a0ea92d-3407-4ea7-f7b0-d76b9414e9ac"
   },
   "outputs": [
    {
     "data": {
      "text/plain": [
       "0.49437387233220764"
      ]
     },
     "execution_count": 128,
     "metadata": {},
     "output_type": "execute_result"
    }
   ],
   "source": [
    "tree_reg_rmse_scores.mean()"
   ]
  },
  {
   "cell_type": "markdown",
   "metadata": {
    "id": "DDiugnx06hZz"
   },
   "source": [
    "### 3. Random Forest Regressor"
   ]
  },
  {
   "cell_type": "code",
   "execution_count": 129,
   "metadata": {
    "colab": {
     "base_uri": "https://localhost:8080/"
    },
    "executionInfo": {
     "elapsed": 2288,
     "status": "ok",
     "timestamp": 1628454955184,
     "user": {
      "displayName": "Isaac Mwendwa",
      "photoUrl": "https://lh3.googleusercontent.com/a-/AOh14Gik6eW-t_ttT93CxBiHADNOLtLhMyJGtlZTYPwGBQ=s64",
      "userId": "14986221937983786022"
     },
     "user_tz": -180
    },
    "id": "ZaF5R2S-6bNf",
    "outputId": "d47d6a13-7c2f-4789-ec83-1f62e6727bf5"
   },
   "outputs": [
    {
     "data": {
      "text/plain": [
       "RandomForestRegressor(bootstrap=True, criterion='mse', max_depth=None,\n",
       "                      max_features='auto', max_leaf_nodes=None,\n",
       "                      min_impurity_decrease=0.0, min_impurity_split=None,\n",
       "                      min_samples_leaf=1, min_samples_split=2,\n",
       "                      min_weight_fraction_leaf=0.0, n_estimators=10,\n",
       "                      n_jobs=None, oob_score=False, random_state=None,\n",
       "                      verbose=0, warm_start=False)"
      ]
     },
     "execution_count": 129,
     "metadata": {},
     "output_type": "execute_result"
    }
   ],
   "source": [
    "from sklearn.ensemble import RandomForestRegressor\n",
    "\n",
    "forest_reg = RandomForestRegressor()\n",
    "forest_reg.fit(prepared_data_train, data_train_labels)"
   ]
  },
  {
   "cell_type": "code",
   "execution_count": 130,
   "metadata": {},
   "outputs": [
    {
     "name": "stdout",
     "output_type": "stream",
     "text": [
      "Prediction of samples:  [12.74396457  9.37431075 12.5479508  10.07626346 10.14108394 11.63528202\n",
      " 11.87450389 10.9814044  11.15237165 10.96889035 10.94454406  8.64728915\n",
      " 10.86301511  8.23614245 12.11409677 12.86382229 11.25412797  8.7958176\n",
      " 10.71289788 11.46140159 10.53186656]\n",
      "Actual Labels of samples:  [12.740874527805232, 9.074749717669835, 12.53135753651081, 9.54809749706027, 9.962275194019217, 11.598414850985643, 12.047551596202045, 11.244496849440335, 11.167741390246988, 11.267434049992112, 10.887343470572707, 8.184513753033722, 10.999479745081548, 7.752764808851328, 12.052455156864575, 12.859543008937221, 11.544395061839623, 8.416267272826277, 10.880101684393388, 11.621564600076658, 9.570110520822217]\n",
      "RMSE in Log Transform Values of: Random Forest Regressor Model is: 0.32887002655943365\n"
     ]
    }
   ],
   "source": [
    "# Getting Predictions and RMSE in Log Transform Values\n",
    "get_rmse_log_transformed(forest_reg, sample_data_prepared, sample_labels, \"Random Forest Regressor Model\")"
   ]
  },
  {
   "cell_type": "code",
   "execution_count": 132,
   "metadata": {},
   "outputs": [
    {
     "name": "stdout",
     "output_type": "stream",
     "text": [
      "Prediction of samples:  [342478.63951045  11781.79409307 281517.75656921  23771.99449003\n",
      "  25363.94468992 113015.69957506 143559.36090576  58771.03460618\n",
      "  69729.00468595  58040.15355981  56644.15353661   5694.68833247\n",
      "  52209.257823     3774.95014178 182425.43099325 386088.65241907\n",
      "  77197.93339653   6606.5548638   44931.65695332  94978.09701252\n",
      "  37491.38893646]\n",
      "Actual Labels of samples:  [341422.   8732. 276885.  14018.  21211. 108925. 170681.  76458.  70809.\n",
      "  78232.  53495.   3585.  59843.   2328. 171520. 384440. 103197.   4520.\n",
      "  53109. 111476.  14330.]\n",
      "Actual RMSE (Log Transform Reversed) of: Random Forest Regressor Model is: 12668.817027698684\n"
     ]
    }
   ],
   "source": [
    "# Getting Predictions and RMSE in Actual Values (Log Transformed Inversed)\n",
    "rmse_actual = get_actual_predictions(forest_reg, sample_data_prepared, sample_labels, \"Random Forest Regressor Model\")"
   ]
  },
  {
   "cell_type": "markdown",
   "metadata": {
    "id": "He98v9XS66lZ"
   },
   "source": [
    "### 4. Support Vector Machine Regressor"
   ]
  },
  {
   "cell_type": "code",
   "execution_count": 133,
   "metadata": {
    "colab": {
     "base_uri": "https://localhost:8080/"
    },
    "executionInfo": {
     "elapsed": 620,
     "status": "ok",
     "timestamp": 1628454968272,
     "user": {
      "displayName": "Isaac Mwendwa",
      "photoUrl": "https://lh3.googleusercontent.com/a-/AOh14Gik6eW-t_ttT93CxBiHADNOLtLhMyJGtlZTYPwGBQ=s64",
      "userId": "14986221937983786022"
     },
     "user_tz": -180
    },
    "id": "pTH1_AFI6557",
    "outputId": "9c2c7140-5d3b-4b00-b0a0-9919e0ceed40"
   },
   "outputs": [
    {
     "data": {
      "text/plain": [
       "SVR(C=1.0, cache_size=200, coef0=0.0, degree=3, epsilon=0.1,\n",
       "    gamma='auto_deprecated', kernel='linear', max_iter=-1, shrinking=True,\n",
       "    tol=0.001, verbose=False)"
      ]
     },
     "execution_count": 133,
     "metadata": {},
     "output_type": "execute_result"
    }
   ],
   "source": [
    "from sklearn.svm import SVR\n",
    "\n",
    "svm_reg = SVR(kernel='linear')\n",
    "svm_reg.fit(prepared_data_train, data_train_labels)"
   ]
  },
  {
   "cell_type": "code",
   "execution_count": 134,
   "metadata": {},
   "outputs": [
    {
     "name": "stdout",
     "output_type": "stream",
     "text": [
      "Prediction of samples:  [12.74646363  9.8157738  12.36995333  9.11386561 10.26688043 10.93912301\n",
      " 12.35127869 11.33182468 11.0671445  10.711846   12.20002364 10.86252586\n",
      " 11.13129268 10.66243672 11.96307518 11.65166947 11.82330454 11.48832294\n",
      " 10.84528471 11.38446486 12.15662412]\n",
      "Actual Labels of samples:  [12.740874527805232, 9.074749717669835, 12.53135753651081, 9.54809749706027, 9.962275194019217, 11.598414850985643, 12.047551596202045, 11.244496849440335, 11.167741390246988, 11.267434049992112, 10.887343470572707, 8.184513753033722, 10.999479745081548, 7.752764808851328, 12.052455156864575, 12.859543008937221, 11.544395061839623, 8.416267272826277, 10.880101684393388, 11.621564600076658, 9.570110520822217]\n",
      "RMSE in Log Transform Values of: Support Vector Machine Regressor Model is: 1.324100216382354\n"
     ]
    }
   ],
   "source": [
    "# Getting Predictions and RMSE in Log Transform Values\n",
    "get_rmse_log_transformed(svm_reg, sample_data_prepared, sample_labels, \"Support Vector Machine Regressor Model\")"
   ]
  },
  {
   "cell_type": "code",
   "execution_count": 136,
   "metadata": {},
   "outputs": [
    {
     "name": "stdout",
     "output_type": "stream",
     "text": [
      "Prediction of samples:  [343335.58656357  18320.46101466 235614.74962609   9080.32813042\n",
      "  28764.01566643  56337.91341955 231255.55858401  83435.12606471\n",
      "  64032.40121541  44884.41891955 198793.84975577  52183.72051266\n",
      "  68274.5718358   42720.60855039 156854.70070714 114882.99645538\n",
      " 136394.20461397  97569.76543824  51291.72486177  87944.82061135\n",
      " 190350.83013983]\n",
      "Actual Labels of samples:  [341422.   8732. 276885.  14018.  21211. 108925. 170681.  76458.  70809.\n",
      "  78232.  53495.   3585.  59843.   2328. 171520. 384440. 103197.   4520.\n",
      "  53109. 111476.  14330.]\n",
      "Actual RMSE (Log Transform Reversed) of: Support Vector Machine Regressor Model is: 84197.77305194428\n"
     ]
    }
   ],
   "source": [
    "# Getting Predictions and RMSE in Actual Values (Log Transformed Inversed)\n",
    "rmse_actual = get_actual_predictions(svm_reg, sample_data_prepared, sample_labels, \"Support Vector Machine Regressor Model\")"
   ]
  },
  {
   "cell_type": "markdown",
   "metadata": {},
   "source": [
    "#### Model Evaluation of the Random Forest and SVM Models using Cross Validation"
   ]
  },
  {
   "cell_type": "code",
   "execution_count": 137,
   "metadata": {},
   "outputs": [
    {
     "data": {
      "text/plain": [
       "0.5146084197529339"
      ]
     },
     "execution_count": 137,
     "metadata": {},
     "output_type": "execute_result"
    }
   ],
   "source": [
    "# Cross Validation in Random Forest\n",
    "\n",
    "forest_reg_cv_scores = cross_val_score(forest_reg,\n",
    "                                         prepared_data_train,\n",
    "                                         data_train_labels,\n",
    "                                         scoring='neg_mean_squared_error',\n",
    "                                         cv = 10)\n",
    "\n",
    "forest_reg_rmse_scores = np.sqrt(-forest_reg_cv_scores)\n",
    "forest_reg_rmse_scores.mean()"
   ]
  },
  {
   "cell_type": "code",
   "execution_count": 138,
   "metadata": {},
   "outputs": [
    {
     "data": {
      "text/plain": [
       "1.1588174188231692"
      ]
     },
     "execution_count": 138,
     "metadata": {},
     "output_type": "execute_result"
    }
   ],
   "source": [
    "svm_cv_scores = cross_val_score(svm_reg, \n",
    "                                prepared_data_train, \n",
    "                                data_train_labels,\n",
    "                                scoring='neg_mean_squared_error',\n",
    "                                cv = 10)\n",
    "\n",
    "svm_rmse_scores = np.sqrt(-svm_cv_scores)\n",
    "svm_rmse_scores.mean()"
   ]
  },
  {
   "cell_type": "markdown",
   "metadata": {},
   "source": [
    "### Comparing Trained Models Metrics"
   ]
  },
  {
   "cell_type": "code",
   "execution_count": 148,
   "metadata": {},
   "outputs": [
    {
     "data": {
      "text/html": [
       "<div>\n",
       "<style scoped>\n",
       "    .dataframe tbody tr th:only-of-type {\n",
       "        vertical-align: middle;\n",
       "    }\n",
       "\n",
       "    .dataframe tbody tr th {\n",
       "        vertical-align: top;\n",
       "    }\n",
       "\n",
       "    .dataframe thead th {\n",
       "        text-align: right;\n",
       "    }\n",
       "</style>\n",
       "<table border=\"1\" class=\"dataframe\">\n",
       "  <thead>\n",
       "    <tr style=\"text-align: right;\">\n",
       "      <th></th>\n",
       "      <th>ML Model</th>\n",
       "      <th>RMSE in 1 Train Year Data (Actual Values)</th>\n",
       "    </tr>\n",
       "  </thead>\n",
       "  <tbody>\n",
       "    <tr>\n",
       "      <th>0</th>\n",
       "      <td>Linear Regression</td>\n",
       "      <td>76655</td>\n",
       "    </tr>\n",
       "    <tr>\n",
       "      <th>1</th>\n",
       "      <td>Decision Trees</td>\n",
       "      <td>2176</td>\n",
       "    </tr>\n",
       "    <tr>\n",
       "      <th>2</th>\n",
       "      <td>Random Forest</td>\n",
       "      <td>12668</td>\n",
       "    </tr>\n",
       "    <tr>\n",
       "      <th>3</th>\n",
       "      <td>Support Vector Machines</td>\n",
       "      <td>84197</td>\n",
       "    </tr>\n",
       "  </tbody>\n",
       "</table>\n",
       "</div>"
      ],
      "text/plain": [
       "                  ML Model  RMSE in 1 Train Year Data (Actual Values)\n",
       "0        Linear Regression                                      76655\n",
       "1           Decision Trees                                       2176\n",
       "2            Random Forest                                      12668\n",
       "3  Support Vector Machines                                      84197"
      ]
     },
     "execution_count": 148,
     "metadata": {},
     "output_type": "execute_result"
    }
   ],
   "source": [
    "# 1. RMSE Actual Values in 1 Year Training Data\n",
    "rmse_df = pd.DataFrame({\n",
    "    \"ML Model\": ['Linear Regression', 'Decision Trees', 'Random Forest', 'Support Vector Machines'],\n",
    "    \"RMSE in 1 Train Year Data (Actual Values)\": [76655, 2176, 12668, 84197],\n",
    "})\n",
    "\n",
    "rmse_df"
   ]
  },
  {
   "cell_type": "code",
   "execution_count": 149,
   "metadata": {},
   "outputs": [
    {
     "data": {
      "text/html": [
       "<div>\n",
       "<style scoped>\n",
       "    .dataframe tbody tr th:only-of-type {\n",
       "        vertical-align: middle;\n",
       "    }\n",
       "\n",
       "    .dataframe tbody tr th {\n",
       "        vertical-align: top;\n",
       "    }\n",
       "\n",
       "    .dataframe thead th {\n",
       "        text-align: right;\n",
       "    }\n",
       "</style>\n",
       "<table border=\"1\" class=\"dataframe\">\n",
       "  <thead>\n",
       "    <tr style=\"text-align: right;\">\n",
       "      <th></th>\n",
       "      <th>ML Model</th>\n",
       "      <th>RMSE in Cross Validation (Log Transformed)</th>\n",
       "    </tr>\n",
       "  </thead>\n",
       "  <tbody>\n",
       "    <tr>\n",
       "      <th>0</th>\n",
       "      <td>Linear Regression</td>\n",
       "      <td>1.09</td>\n",
       "    </tr>\n",
       "    <tr>\n",
       "      <th>1</th>\n",
       "      <td>Decision Trees</td>\n",
       "      <td>0.49</td>\n",
       "    </tr>\n",
       "    <tr>\n",
       "      <th>2</th>\n",
       "      <td>Random Forest</td>\n",
       "      <td>0.51</td>\n",
       "    </tr>\n",
       "    <tr>\n",
       "      <th>3</th>\n",
       "      <td>Support Vector Machines</td>\n",
       "      <td>1.15</td>\n",
       "    </tr>\n",
       "  </tbody>\n",
       "</table>\n",
       "</div>"
      ],
      "text/plain": [
       "                  ML Model  RMSE in Cross Validation (Log Transformed)\n",
       "0        Linear Regression                                        1.09\n",
       "1           Decision Trees                                        0.49\n",
       "2            Random Forest                                        0.51\n",
       "3  Support Vector Machines                                        1.15"
      ]
     },
     "execution_count": 149,
     "metadata": {},
     "output_type": "execute_result"
    }
   ],
   "source": [
    "# RMSE in Cross Validation (Log Transformed)\n",
    "rmse_cv_df = pd.DataFrame({\n",
    "    \"ML Model\": ['Linear Regression', 'Decision Trees', 'Random Forest', 'Support Vector Machines'],\n",
    "    \"RMSE in Cross Validation (Log Transformed)\": [1.09, 0.49, 0.51, 1.15],\n",
    "})\n",
    "rmse_cv_df"
   ]
  },
  {
   "cell_type": "markdown",
   "metadata": {
    "id": "5SWMIiaJewhe"
   },
   "source": [
    "* After comparing the four models, I found out that the **RandomForestRegressor had the least valid RMSE (12668)\n",
    "* The Decision Tree Regressor has a very low RMSE as compared to range of data and other model's RMSE, which means that it overfitted the data greatly, as no model is perfect (Decision Trees are prone to overfitting)\n",
    "* **The Random Forest's model hyperparameters still need to be fine-tuned**"
   ]
  },
  {
   "cell_type": "markdown",
   "metadata": {
    "id": "W5XDrKcO_a5K"
   },
   "source": [
    "### Hyperparameter Tuning of Random Forest Model using Random Search CV and Grid Search CV"
   ]
  },
  {
   "cell_type": "markdown",
   "metadata": {},
   "source": [
    "#### Checking Random Forest Model's Default Hyperparameters"
   ]
  },
  {
   "cell_type": "code",
   "execution_count": 150,
   "metadata": {},
   "outputs": [
    {
     "name": "stdout",
     "output_type": "stream",
     "text": [
      "Parameters currently in use:\n",
      "\n",
      "{'bootstrap': True,\n",
      " 'criterion': 'mse',\n",
      " 'max_depth': None,\n",
      " 'max_features': 'auto',\n",
      " 'max_leaf_nodes': None,\n",
      " 'min_impurity_decrease': 0.0,\n",
      " 'min_impurity_split': None,\n",
      " 'min_samples_leaf': 1,\n",
      " 'min_samples_split': 2,\n",
      " 'min_weight_fraction_leaf': 0.0,\n",
      " 'n_estimators': 10,\n",
      " 'n_jobs': None,\n",
      " 'oob_score': False,\n",
      " 'random_state': None,\n",
      " 'verbose': 0,\n",
      " 'warm_start': False}\n"
     ]
    }
   ],
   "source": [
    "forest_reg = RandomForestRegressor()\n",
    "forest_reg.fit(prepared_data_train, data_train_labels)\n",
    "\n",
    "# Look at parameters used by our current forest\n",
    "print('Parameters currently in use:\\n')\n",
    "pprint(forest_reg.get_params())"
   ]
  },
  {
   "cell_type": "markdown",
   "metadata": {},
   "source": [
    "* The hyperparameters we will adjust include:\n",
    "    * n_estimators = number of trees in the forest\n",
    "    * max_features = max number of features considered for splitting a node\n",
    "    * max_depth = max number of levels in each decision tree\n",
    "    * min_samples_split = min number of data points placed in a node before the node is split\n",
    "    * min_samples_leaf = min number of data points allowed in a leaf node\n",
    "    * bootstrap = method for sampling data points (with or without replacement)"
   ]
  },
  {
   "cell_type": "markdown",
   "metadata": {},
   "source": [
    "### Random Search Cross Validation in Scikit-Learn\n",
    "* Using Scikit-Learn’s RandomizedSearchCV method, we can define a grid of hyperparameter ranges\n",
    "* We then randomly sample from the grid, performing K-Fold CV with each combination of values"
   ]
  },
  {
   "cell_type": "code",
   "execution_count": 151,
   "metadata": {},
   "outputs": [
    {
     "name": "stdout",
     "output_type": "stream",
     "text": [
      "{'bootstrap': [True, False],\n",
      " 'max_depth': [10, 20, 30, 40, 50, 60, 70, 80, 90, 100, 110, None],\n",
      " 'max_features': ['auto', 'sqrt'],\n",
      " 'min_samples_leaf': [1, 2, 4],\n",
      " 'min_samples_split': [2, 5, 10],\n",
      " 'n_estimators': [200, 400, 600, 800, 1000, 1200, 1400, 1600, 1800, 2000]}\n"
     ]
    }
   ],
   "source": [
    "# Creating a parameter grid to sample from during fitting\n",
    "\n",
    "# Number of trees in random forest\n",
    "n_estimators = [int(x) for x in np.linspace(start = 200, stop = 2000, num = 10)]\n",
    "\n",
    "# Number of features to consider at every split\n",
    "max_features = ['auto', 'sqrt']\n",
    "\n",
    "# Maximum number of levels in tree\n",
    "max_depth = [int(x) for x in np.linspace(10, 110, num = 11)]\n",
    "max_depth.append(None)\n",
    "\n",
    "# Minimum number of samples required to split a node\n",
    "min_samples_split = [2, 5, 10]\n",
    "\n",
    "# Minimum number of samples required at each leaf node\n",
    "min_samples_leaf = [1, 2, 4]\n",
    "\n",
    "# Method of selecting samples for training each tree\n",
    "bootstrap = [True, False]\n",
    "\n",
    "# Create the random grid\n",
    "random_grid = {'n_estimators': n_estimators,\n",
    "               'max_features': max_features,\n",
    "               'max_depth': max_depth,\n",
    "               'min_samples_split': min_samples_split,\n",
    "               'min_samples_leaf': min_samples_leaf,\n",
    "               'bootstrap': bootstrap}\n",
    "\n",
    "pprint(random_grid)"
   ]
  },
  {
   "cell_type": "markdown",
   "metadata": {},
   "source": [
    "* On each iteration, the algorithm will choose a difference combination of the features. Altogether, there are 2 * 12 * 2 * 3 * 3 * 10 = 4320 settings\n",
    "* However, the benefit of a random search is that we are not trying every combination, but selecting at random to sample a wide range of values"
   ]
  },
  {
   "cell_type": "code",
   "execution_count": 152,
   "metadata": {},
   "outputs": [
    {
     "name": "stdout",
     "output_type": "stream",
     "text": [
      "Fitting 5 folds for each of 100 candidates, totalling 500 fits\n"
     ]
    },
    {
     "name": "stderr",
     "output_type": "stream",
     "text": [
      "[Parallel(n_jobs=-1)]: Using backend LokyBackend with 12 concurrent workers.\n",
      "[Parallel(n_jobs=-1)]: Done  17 tasks      | elapsed:   43.4s\n",
      "[Parallel(n_jobs=-1)]: Done 138 tasks      | elapsed:  2.5min\n",
      "[Parallel(n_jobs=-1)]: Done 341 tasks      | elapsed:  4.9min\n",
      "[Parallel(n_jobs=-1)]: Done 500 out of 500 | elapsed:  6.7min finished\n"
     ]
    },
    {
     "data": {
      "text/plain": [
       "RandomizedSearchCV(cv=5, error_score='raise-deprecating',\n",
       "                   estimator=RandomForestRegressor(bootstrap=True,\n",
       "                                                   criterion='mse',\n",
       "                                                   max_depth=None,\n",
       "                                                   max_features='auto',\n",
       "                                                   max_leaf_nodes=None,\n",
       "                                                   min_impurity_decrease=0.0,\n",
       "                                                   min_impurity_split=None,\n",
       "                                                   min_samples_leaf=1,\n",
       "                                                   min_samples_split=2,\n",
       "                                                   min_weight_fraction_leaf=0.0,\n",
       "                                                   n_estimators='warn',\n",
       "                                                   n_jobs=None, oob_score=False,\n",
       "                                                   random_sta...\n",
       "                   param_distributions={'bootstrap': [True, False],\n",
       "                                        'max_depth': [10, 20, 30, 40, 50, 60,\n",
       "                                                      70, 80, 90, 100, 110,\n",
       "                                                      None],\n",
       "                                        'max_features': ['auto', 'sqrt'],\n",
       "                                        'min_samples_leaf': [1, 2, 4],\n",
       "                                        'min_samples_split': [2, 5, 10],\n",
       "                                        'n_estimators': [200, 400, 600, 800,\n",
       "                                                         1000, 1200, 1400, 1600,\n",
       "                                                         1800, 2000]},\n",
       "                   pre_dispatch='2*n_jobs', random_state=42, refit=True,\n",
       "                   return_train_score=False, scoring=None, verbose=2)"
      ]
     },
     "execution_count": 152,
     "metadata": {},
     "output_type": "execute_result"
    }
   ],
   "source": [
    "# Use the random grid to search for best hyperparameters\n",
    "# First create the base model to tune\n",
    "rf = RandomForestRegressor()\n",
    "\n",
    "# Random search of parameters, using 3 fold cross validation, \n",
    "# search across 100 different combinations, and use all available cores\n",
    "rf_random = RandomizedSearchCV(estimator = rf, param_distributions = random_grid, n_iter = 100, cv = 5, verbose=2, random_state=42, n_jobs = -1)\n",
    "\n",
    "# Fit the random search model\n",
    "rf_random.fit(prepared_data_train, data_train_labels)"
   ]
  },
  {
   "cell_type": "code",
   "execution_count": 153,
   "metadata": {},
   "outputs": [
    {
     "data": {
      "text/plain": [
       "{'n_estimators': 1000,\n",
       " 'min_samples_split': 2,\n",
       " 'min_samples_leaf': 1,\n",
       " 'max_features': 'sqrt',\n",
       " 'max_depth': 110,\n",
       " 'bootstrap': True}"
      ]
     },
     "execution_count": 153,
     "metadata": {},
     "output_type": "execute_result"
    }
   ],
   "source": [
    "# Viewing the best parameters from fitting the random search\n",
    "rf_random.best_params_"
   ]
  },
  {
   "cell_type": "code",
   "execution_count": 154,
   "metadata": {},
   "outputs": [],
   "source": [
    "# implementation of NRMSE with standard deviation\n",
    "def normalized_root_mean_squared_error(true, pred):\n",
    "    squared_error = np.square((true - pred))\n",
    "    sum_squared_error = np.sum(squared_error)\n",
    "    rmse = np.sqrt(sum_squared_error / true.size)\n",
    "    nrmse_loss = rmse/np.std(pred)\n",
    "    print(\"NRMSE of model: \" + str(nrmse_loss))"
   ]
  },
  {
   "cell_type": "code",
   "execution_count": 159,
   "metadata": {},
   "outputs": [
    {
     "name": "stdout",
     "output_type": "stream",
     "text": [
      "Prediction of samples:  [336796.01078267  18796.82324383 290204.16288808  20445.9998314\n",
      "  24670.63436145 167074.74657112 242728.01362915  76643.06117297\n",
      "  78300.42562698  86482.82726292  65413.86406679   8867.82191005\n",
      "  71631.07311029   5328.56890496  16298.00210187 436854.76518613\n",
      " 135430.43530443   8464.7896612   33015.98382679 118410.21137679\n",
      "  15124.21804443]\n",
      "Actual Labels of samples:  [336607.  19550. 307591.  20792.  28340. 173245. 260427.  90649.  81553.\n",
      " 123290.  79798.   4335.  76608.   6066. 295009. 576831. 150434.   8922.\n",
      "  38012. 121703. 118655.]\n",
      "Actual RMSE (Log Transform Reversed) of: Final Random Forest Regressor Model is: 72616.08122084846\n",
      "NRMSE of model: 0.6104534007756396\n"
     ]
    }
   ],
   "source": [
    "# Checking metrics of base model (forest_reg)\n",
    "\n",
    "forest_reg = RandomForestRegressor()\n",
    "forest_reg.fit(prepared_data_train, data_train_labels)\n",
    "\n",
    "pred, true = get_actual_predictions(forest_reg, prepared_X_test, y_test, \"Final Random Forest Regressor Model\")\n",
    "\n",
    "base_model_nrmse = normalized_root_mean_squared_error(true, pred)"
   ]
  },
  {
   "cell_type": "code",
   "execution_count": 160,
   "metadata": {},
   "outputs": [
    {
     "name": "stdout",
     "output_type": "stream",
     "text": [
      "Prediction of samples:  [333570.07143683  18209.63290822 243627.16952416  20627.20421856\n",
      "  25315.17212722 166426.22459766 242053.668829    74954.14516307\n",
      "  76585.70847389  95009.27229009  64344.91350799   4994.92941578\n",
      "  53766.74583223   5921.81025204 105605.51167114 438603.53400466\n",
      " 131969.65431478   8454.39353789  32629.20501053  88269.85861077\n",
      "  14522.69406153]\n",
      "Actual Labels of samples:  [336607.  19550. 307591.  20792.  28340. 173245. 260427.  90649.  81553.\n",
      " 123290.  79798.   4335.  76608.   6066. 295009. 576831. 150434.   8922.\n",
      "  38012. 121703. 118655.]\n",
      "Actual RMSE (Log Transform Reversed) of: Best Random Search Estimator for Random Forest Model is: 59216.86253561283\n",
      "NRMSE of model: 0.5166383767057033\n"
     ]
    }
   ],
   "source": [
    "# Checking Performance of Best Estimator from RandomSearch\n",
    "best_random = rf_random.best_estimator_\n",
    "\n",
    "pred, true = get_actual_predictions(best_random, prepared_X_test, y_test, \"Best Random Search Estimator for Random Forest Model\")\n",
    "\n",
    "#best_rs_acc = evaluate(best_random, prepared_X_test, y_test)\n",
    "\n",
    "best_rs_nmrse = normalized_root_mean_squared_error(true, pred)"
   ]
  },
  {
   "cell_type": "code",
   "execution_count": 161,
   "metadata": {},
   "outputs": [
    {
     "data": {
      "text/plain": [
       "{'n_estimators': 1000,\n",
       " 'min_samples_split': 2,\n",
       " 'min_samples_leaf': 1,\n",
       " 'max_features': 'sqrt',\n",
       " 'max_depth': 110,\n",
       " 'bootstrap': True}"
      ]
     },
     "execution_count": 161,
     "metadata": {},
     "output_type": "execute_result"
    }
   ],
   "source": [
    "# Viewing the best parameters from fitting the random search\n",
    "rf_random.best_params_"
   ]
  },
  {
   "cell_type": "code",
   "execution_count": 213,
   "metadata": {},
   "outputs": [],
   "source": [
    "# Grid Search CV\n",
    "# Create the parameter grid based on the results of random search \n",
    "param_grid = {\n",
    "    'bootstrap': [True, False],\n",
    "    'max_depth': [100, 110, 120],\n",
    "    'max_features': ['sqrt'],\n",
    "    'min_samples_leaf': [1, 2, 3],\n",
    "    'min_samples_split': [2, 3, 4],\n",
    "    'n_estimators': [950, 1000, 1050]\n",
    "}\n",
    "\n",
    "# Create a base model\n",
    "rf = RandomForestRegressor(random_state = 42)\n",
    "\n",
    "# Instantiate the grid search model\n",
    "grid_search = GridSearchCV(estimator = rf, param_grid = param_grid, \n",
    "                          cv = 5, n_jobs = -1, verbose = 2, return_train_score=True)"
   ]
  },
  {
   "cell_type": "code",
   "execution_count": 214,
   "metadata": {},
   "outputs": [
    {
     "name": "stdout",
     "output_type": "stream",
     "text": [
      "Fitting 5 folds for each of 162 candidates, totalling 810 fits\n"
     ]
    },
    {
     "name": "stderr",
     "output_type": "stream",
     "text": [
      "[Parallel(n_jobs=-1)]: Using backend LokyBackend with 12 concurrent workers.\n",
      "[Parallel(n_jobs=-1)]: Done  17 tasks      | elapsed:    1.3s\n",
      "[Parallel(n_jobs=-1)]: Done 138 tasks      | elapsed:    9.0s\n",
      "[Parallel(n_jobs=-1)]: Done 341 tasks      | elapsed:   23.2s\n",
      "[Parallel(n_jobs=-1)]: Done 624 tasks      | elapsed:   44.2s\n",
      "[Parallel(n_jobs=-1)]: Done 810 out of 810 | elapsed:   58.4s finished\n"
     ]
    }
   ],
   "source": [
    "# Fit the grid search to the data\n",
    "grid_search.fit(prepared_data_train, data_train_labels);"
   ]
  },
  {
   "cell_type": "code",
   "execution_count": 215,
   "metadata": {},
   "outputs": [
    {
     "data": {
      "text/plain": [
       "{'bootstrap': False,\n",
       " 'max_depth': 100,\n",
       " 'max_features': 'sqrt',\n",
       " 'min_samples_leaf': 1,\n",
       " 'min_samples_split': 2,\n",
       " 'n_estimators': 1050}"
      ]
     },
     "execution_count": 215,
     "metadata": {},
     "output_type": "execute_result"
    }
   ],
   "source": [
    "grid_search.best_params_"
   ]
  },
  {
   "cell_type": "code",
   "execution_count": 216,
   "metadata": {},
   "outputs": [
    {
     "name": "stdout",
     "output_type": "stream",
     "text": [
      "Prediction of samples:  [332104.99999991  18528.38487582 293737.48723074  20615.\n",
      "  25156.48433548 170119.2068375  250758.00000004  75740.51130672\n",
      "  78561.71317505 117133.          65849.           4379.44555945\n",
      "  45984.03258957   5583.02840131  55955.95152869 524605.99999995\n",
      " 133414.35320902   8457.92133311  32572.44997727  82268.02069614\n",
      "  14453.0196359 ]\n",
      "Actual Labels of samples:  [336607.  19550. 307591.  20792.  28340. 173245. 260427.  90649.  81553.\n",
      " 123290.  79798.   4335.  76608.   6066. 295009. 576831. 150434.   8922.\n",
      "  38012. 121703. 118655.]\n",
      "Actual RMSE (Log Transform Reversed) of: Best Grid Search Estimator for Random Forest Model is: 59495.845322966496\n",
      "NRMSE of model: 0.4532364965538807\n"
     ]
    }
   ],
   "source": [
    "# Checking Performance of Best Grid from GridSearch\n",
    "best_grid = grid_search.best_estimator_\n",
    "\n",
    "pred, true = get_actual_predictions(best_grid, prepared_X_test, y_test, \"Best Grid Search Estimator for Random Forest Model\")\n",
    "\n",
    "best_gs_nmrse = normalized_root_mean_squared_error(true, pred)"
   ]
  },
  {
   "cell_type": "markdown",
   "metadata": {},
   "source": [
    "### Cross Validation Evaluation Results for Base Model, Random Best Model and Grid Search Best Model"
   ]
  },
  {
   "cell_type": "code",
   "execution_count": 217,
   "metadata": {},
   "outputs": [
    {
     "data": {
      "text/html": [
       "<div>\n",
       "<style scoped>\n",
       "    .dataframe tbody tr th:only-of-type {\n",
       "        vertical-align: middle;\n",
       "    }\n",
       "\n",
       "    .dataframe tbody tr th {\n",
       "        vertical-align: top;\n",
       "    }\n",
       "\n",
       "    .dataframe thead th {\n",
       "        text-align: right;\n",
       "    }\n",
       "</style>\n",
       "<table border=\"1\" class=\"dataframe\">\n",
       "  <thead>\n",
       "    <tr style=\"text-align: right;\">\n",
       "      <th></th>\n",
       "      <th>Hyperparameters and Metrics(RMSE, NRMSE)</th>\n",
       "      <th>Base Model</th>\n",
       "      <th>Best Random Search Model</th>\n",
       "      <th>Best Grid Search Model</th>\n",
       "    </tr>\n",
       "  </thead>\n",
       "  <tbody>\n",
       "    <tr>\n",
       "      <th>0</th>\n",
       "      <td>n_estimators</td>\n",
       "      <td>10</td>\n",
       "      <td>1000</td>\n",
       "      <td>1600</td>\n",
       "    </tr>\n",
       "    <tr>\n",
       "      <th>1</th>\n",
       "      <td>max_features</td>\n",
       "      <td>auto</td>\n",
       "      <td>sqrt</td>\n",
       "      <td>sqrt</td>\n",
       "    </tr>\n",
       "    <tr>\n",
       "      <th>2</th>\n",
       "      <td>max_depth</td>\n",
       "      <td>None</td>\n",
       "      <td>110</td>\n",
       "      <td>8</td>\n",
       "    </tr>\n",
       "    <tr>\n",
       "      <th>3</th>\n",
       "      <td>min_samples_split</td>\n",
       "      <td>2</td>\n",
       "      <td>2</td>\n",
       "      <td>5</td>\n",
       "    </tr>\n",
       "    <tr>\n",
       "      <th>4</th>\n",
       "      <td>min_samples_leaf</td>\n",
       "      <td>1</td>\n",
       "      <td>1</td>\n",
       "      <td>2</td>\n",
       "    </tr>\n",
       "    <tr>\n",
       "      <th>5</th>\n",
       "      <td>bootstrap</td>\n",
       "      <td>True</td>\n",
       "      <td>True</td>\n",
       "      <td>False</td>\n",
       "    </tr>\n",
       "    <tr>\n",
       "      <th>6</th>\n",
       "      <td>Evaluation Metric: RMSE</td>\n",
       "      <td>72616</td>\n",
       "      <td>59216</td>\n",
       "      <td>59495</td>\n",
       "    </tr>\n",
       "    <tr>\n",
       "      <th>7</th>\n",
       "      <td>Evaluation Metric: NRMSE</td>\n",
       "      <td>0.61</td>\n",
       "      <td>0.51</td>\n",
       "      <td>0.45</td>\n",
       "    </tr>\n",
       "  </tbody>\n",
       "</table>\n",
       "</div>"
      ],
      "text/plain": [
       "  Hyperparameters and Metrics(RMSE, NRMSE) Base Model  \\\n",
       "0                             n_estimators         10   \n",
       "1                             max_features       auto   \n",
       "2                                max_depth       None   \n",
       "3                        min_samples_split          2   \n",
       "4                         min_samples_leaf          1   \n",
       "5                                bootstrap       True   \n",
       "6                  Evaluation Metric: RMSE      72616   \n",
       "7                 Evaluation Metric: NRMSE       0.61   \n",
       "\n",
       "  Best Random Search Model Best Grid Search Model  \n",
       "0                     1000                   1600  \n",
       "1                     sqrt                   sqrt  \n",
       "2                      110                      8  \n",
       "3                        2                      5  \n",
       "4                        1                      2  \n",
       "5                     True                  False  \n",
       "6                    59216                  59495  \n",
       "7                     0.51                   0.45  "
      ]
     },
     "execution_count": 217,
     "metadata": {},
     "output_type": "execute_result"
    }
   ],
   "source": [
    "# RMSE in Cross Validation Results for Base Model, Random Search Best Model and Grid Search Best Model\n",
    "rmse_cv_df = pd.DataFrame({\n",
    "    \"Hyperparameters and Metrics(RMSE, NRMSE)\": ['n_estimators','max_features', 'max_depth', \n",
    "                                                 'min_samples_split', 'min_samples_leaf', 'bootstrap', \n",
    "                                                 'Evaluation Metric: RMSE', 'Evaluation Metric: NRMSE'],\n",
    "    \n",
    "    \"Base Model\": [10, 'auto', None, 2, 1, True, 72616, 0.61],\n",
    "    \n",
    "    \"Best Random Search Model\": [1000, 'sqrt', 110, 2, 1, True, 59216, 0.51],\n",
    "    \n",
    "    \"Best Grid Search Model\": [1600, 'sqrt', 8, 5, 2, False, 59495, 0.45]\n",
    "})\n",
    "\n",
    "rmse_cv_df"
   ]
  },
  {
   "cell_type": "markdown",
   "metadata": {},
   "source": [
    "* The results show that **there is an improvement due to hyperparameter tuning in the evaluation metrics (decrease in error metrics - RMSE and NRMSE), from the Base Model, to the Best Random Search Model, and finally to the Best Grid Search Model**\n",
    "* We will thus **adopt the Best Grid Search Model as our final tuned model, which has the lowest error metrics (NRMSE = 0.45)**"
   ]
  },
  {
   "cell_type": "markdown",
   "metadata": {
    "id": "xIUK8VMGhaq-"
   },
   "source": [
    "### Evaluating entire system on test data"
   ]
  },
  {
   "cell_type": "code",
   "execution_count": 218,
   "metadata": {
    "colab": {
     "base_uri": "https://localhost:8080/"
    },
    "executionInfo": {
     "elapsed": 876,
     "status": "ok",
     "timestamp": 1628455729911,
     "user": {
      "displayName": "Isaac Mwendwa",
      "photoUrl": "https://lh3.googleusercontent.com/a-/AOh14Gik6eW-t_ttT93CxBiHADNOLtLhMyJGtlZTYPwGBQ=s64",
      "userId": "14986221937983786022"
     },
     "user_tz": -180
    },
    "id": "nmtd4zdqhkM_",
    "outputId": "b3db87c5-25d0-4431-8484-4d07afbf4f6a"
   },
   "outputs": [
    {
     "data": {
      "text/plain": [
       "(21, 3)"
      ]
     },
     "execution_count": 218,
     "metadata": {},
     "output_type": "execute_result"
    }
   ],
   "source": [
    "test_set.shape"
   ]
  },
  {
   "cell_type": "code",
   "execution_count": 219,
   "metadata": {
    "colab": {
     "base_uri": "https://localhost:8080/"
    },
    "executionInfo": {
     "elapsed": 387,
     "status": "ok",
     "timestamp": 1628455869843,
     "user": {
      "displayName": "Isaac Mwendwa",
      "photoUrl": "https://lh3.googleusercontent.com/a-/AOh14Gik6eW-t_ttT93CxBiHADNOLtLhMyJGtlZTYPwGBQ=s64",
      "userId": "14986221937983786022"
     },
     "user_tz": -180
    },
    "id": "s_HpwNz6hYyg",
    "outputId": "d210da53-d615-4e04-baeb-2e591a6ef361"
   },
   "outputs": [
    {
     "data": {
      "text/plain": [
       "0.607943122160144"
      ]
     },
     "execution_count": 219,
     "metadata": {},
     "output_type": "execute_result"
    }
   ],
   "source": [
    "# getting final model after hyperparameter tuning\n",
    "final_model = grid_search.best_estimator_\n",
    "\n",
    "X_test = test_set.drop(\"Total_number_in_wage_employment\", axis=1)\n",
    "y_test = test_set[\"Total_number_in_wage_employment\"].copy()\n",
    "\n",
    "# Preparing data using pipeline_transformer()\n",
    "prepared_X_test = pipeline_transformer(X_test)\n",
    "\n",
    "final_predictions = final_model.predict(prepared_X_test)\n",
    "final_mse = mean_squared_error(y_test, final_predictions)\n",
    "final_rmse = np.sqrt(final_mse)\n",
    "final_rmse"
   ]
  },
  {
   "cell_type": "code",
   "execution_count": 220,
   "metadata": {},
   "outputs": [
    {
     "name": "stdout",
     "output_type": "stream",
     "text": [
      "Prediction of samples:  [12.71320646  9.82705915 12.59044175  9.93377425 10.13287097 12.04425469\n",
      " 12.43224361 11.23506845 11.27163975 11.67106532 11.09511952  8.38467741\n",
      " 10.7360495   8.62748663 10.93232008 13.17040278 11.801215    9.04285872\n",
      " 10.39122212 11.31773774  9.57865864]\n",
      "Actual Labels of samples:  [12.726671356719871, 9.880730565413511, 12.636526257407946, 9.942323576321327, 10.252029513244672, 12.062462056606831, 12.470077870577407, 11.414750184682548, 11.309008394619614, 11.722294582862599, 11.287253720467184, 8.374476889214643, 11.246456788917644, 8.710454688248527, 12.594761143331159, 13.265304608307567, 11.921279728779087, 9.09627541568821, 10.545657178331206, 11.709338929452402, 11.68397540172612]\n",
      "RMSE in Log Transform Values of: Final Random Forest Regressor Model is: 0.607943122160144\n"
     ]
    }
   ],
   "source": [
    "# Getting Predictions and RMSE in Log Transform Values\n",
    "get_rmse_log_transformed(final_model, prepared_X_test, y_test, \"Final Random Forest Regressor Model\")"
   ]
  },
  {
   "cell_type": "code",
   "execution_count": 255,
   "metadata": {},
   "outputs": [
    {
     "name": "stdout",
     "output_type": "stream",
     "text": [
      "Prediction of samples:  [332104.99999991  18528.38487582 293737.48723074  20615.\n",
      "  25156.48433548 170119.2068375  250758.00000004  75740.51130672\n",
      "  78561.71317505 117133.          65849.           4379.44555945\n",
      "  45984.03258957   5583.02840131  55955.95152869 524605.99999995\n",
      " 133414.35320902   8457.92133311  32572.44997727  82268.02069614\n",
      "  14453.0196359 ]\n",
      "Actual Labels of samples:  [336607.  19550. 307591.  20792.  28340. 173245. 260427.  90649.  81553.\n",
      " 123290.  79798.   4335.  76608.   6066. 295009. 576831. 150434.   8922.\n",
      "  38012. 121703. 118655.]\n",
      "Actual RMSE (Log Transform Reversed) of: Final Random Forest Regressor Model is: 59495.845322966496\n"
     ]
    }
   ],
   "source": [
    "# Getting Predictions and RMSE in Actual Values (Log Transformed Inversed)\n",
    "final_rmse = get_actual_predictions(final_model, prepared_X_test, y_test, \"Final Random Forest Regressor Model\")"
   ]
  },
  {
   "cell_type": "markdown",
   "metadata": {
    "id": "XiMtUHrzj4z7"
   },
   "source": [
    "### Saving the model"
   ]
  },
  {
   "cell_type": "code",
   "execution_count": 233,
   "metadata": {
    "id": "8Ozn9oDM79Oz"
   },
   "outputs": [],
   "source": [
    "# Defining model path\n",
    "path_model = 'C:/Users/Isaac.Mwendwa/Documents/Productive_Employment_Prediction/Model Building/'\n",
    "\n",
    "# path to model\n",
    "total_employment_model_path = path_model + \"total_number_in_employment.bin\""
   ]
  },
  {
   "cell_type": "code",
   "execution_count": 256,
   "metadata": {
    "id": "d05x1Va6kBZ2"
   },
   "outputs": [],
   "source": [
    "##saving the model\n",
    "with open(total_employment_model_path, 'wb') as f_out:\n",
    "    pickle.dump(final_model, f_out)\n",
    "    f_out.close()"
   ]
  },
  {
   "cell_type": "markdown",
   "metadata": {},
   "source": [
    "### Creating prediction function"
   ]
  },
  {
   "cell_type": "code",
   "execution_count": 263,
   "metadata": {},
   "outputs": [],
   "source": [
    "# function to get predictions from input dataframe\n",
    "def get_predictions(input_df, model):\n",
    "    \n",
    "    #Removing skewness from data\n",
    "    input_df['Contribution_to_GDP'] = input_df[\"Contribution_to_GDP\"].map(\n",
    "                                        lambda i: np.log(i) if i > 0 else 0)\n",
    "    \n",
    "    # Preparing data using pipeline_transformer()\n",
    "    prepared_df = pipeline_transformer(input_df)\n",
    "    \n",
    "    # Getting Predictions from Model\n",
    "    pred_results = model.predict(prepared_df)\n",
    "    \n",
    "    # Reversing log transform to get actual results\n",
    "    pred_results = np.exp(pred_results)\n",
    "    \n",
    "    # Creating list of predictions\n",
    "    pred_list = pred_results.tolist()\n",
    "    pred_list.sort(reverse = True)\n",
    "    \n",
    "    \n",
    "    # Create Dictionary of Industry and Predicted Values\n",
    "    pred_dict = {industry_cols[i]: pred_list[i] for i in range(len(industry_cols))}\n",
    "    \n",
    "    return pred_dict\n"
   ]
  },
  {
   "cell_type": "code",
   "execution_count": 258,
   "metadata": {
    "id": "bgvRS8SwkQlk"
   },
   "outputs": [],
   "source": [
    "# getting test dataset predictors only \n",
    "df_test = test_set.drop(\"Total_number_in_wage_employment\", axis=1)"
   ]
  },
  {
   "cell_type": "code",
   "execution_count": 259,
   "metadata": {
    "colab": {
     "base_uri": "https://localhost:8080/"
    },
    "executionInfo": {
     "elapsed": 8,
     "status": "ok",
     "timestamp": 1628456700148,
     "user": {
      "displayName": "Isaac Mwendwa",
      "photoUrl": "https://lh3.googleusercontent.com/a-/AOh14Gik6eW-t_ttT93CxBiHADNOLtLhMyJGtlZTYPwGBQ=s64",
      "userId": "14986221937983786022"
     },
     "user_tz": -180
    },
    "id": "SiQJH562ksEv",
    "outputId": "b82d1a99-04d0-4be1-8ec2-ccb194c7c28c"
   },
   "outputs": [
    {
     "data": {
      "text/plain": [
       "(21, 2)"
      ]
     },
     "execution_count": 259,
     "metadata": {},
     "output_type": "execute_result"
    }
   ],
   "source": [
    "df_test.shape"
   ]
  },
  {
   "cell_type": "code",
   "execution_count": 260,
   "metadata": {},
   "outputs": [
    {
     "data": {
      "text/html": [
       "<div>\n",
       "<style scoped>\n",
       "    .dataframe tbody tr th:only-of-type {\n",
       "        vertical-align: middle;\n",
       "    }\n",
       "\n",
       "    .dataframe tbody tr th {\n",
       "        vertical-align: top;\n",
       "    }\n",
       "\n",
       "    .dataframe thead th {\n",
       "        text-align: right;\n",
       "    }\n",
       "</style>\n",
       "<table border=\"1\" class=\"dataframe\">\n",
       "  <thead>\n",
       "    <tr style=\"text-align: right;\">\n",
       "      <th></th>\n",
       "      <th>Industry</th>\n",
       "      <th>Contribution_to_GDP</th>\n",
       "    </tr>\n",
       "  </thead>\n",
       "  <tbody>\n",
       "    <tr>\n",
       "      <th>147</th>\n",
       "      <td>Agriculture, Forestry And Fishing</td>\n",
       "      <td>3.532226</td>\n",
       "    </tr>\n",
       "    <tr>\n",
       "      <th>148</th>\n",
       "      <td>Mining And Quarrying</td>\n",
       "      <td>-0.223144</td>\n",
       "    </tr>\n",
       "    <tr>\n",
       "      <th>149</th>\n",
       "      <td>Manufacturing</td>\n",
       "      <td>2.041220</td>\n",
       "    </tr>\n",
       "    <tr>\n",
       "      <th>150</th>\n",
       "      <td>Electricity, Gas, Steam And Air Conditioning S...</td>\n",
       "      <td>0.587787</td>\n",
       "    </tr>\n",
       "    <tr>\n",
       "      <th>151</th>\n",
       "      <td>Water Supply; Sewerage, Waste Management And R...</td>\n",
       "      <td>-0.356675</td>\n",
       "    </tr>\n",
       "  </tbody>\n",
       "</table>\n",
       "</div>"
      ],
      "text/plain": [
       "                                              Industry  Contribution_to_GDP\n",
       "147                  Agriculture, Forestry And Fishing             3.532226\n",
       "148                               Mining And Quarrying            -0.223144\n",
       "149                                      Manufacturing             2.041220\n",
       "150  Electricity, Gas, Steam And Air Conditioning S...             0.587787\n",
       "151  Water Supply; Sewerage, Waste Management And R...            -0.356675"
      ]
     },
     "execution_count": 260,
     "metadata": {},
     "output_type": "execute_result"
    }
   ],
   "source": [
    "df_test.head()"
   ]
  },
  {
   "cell_type": "code",
   "execution_count": 261,
   "metadata": {
    "id": "tZPvobytkMuW"
   },
   "outputs": [],
   "source": [
    "##loading the model from the saved file\n",
    "\n",
    "with open(total_employment_model_path, 'rb') as f_in:\n",
    "    model = pickle.load(f_in)"
   ]
  },
  {
   "cell_type": "markdown",
   "metadata": {},
   "source": [
    "### Getting predictions from model: Total Number in Wage Employment per Industry"
   ]
  },
  {
   "cell_type": "code",
   "execution_count": 264,
   "metadata": {},
   "outputs": [
    {
     "data": {
      "text/plain": [
       "{'Agriculture, Forestry And Fishing': 149900.60515709702,\n",
       " 'Mining And Quarrying': 121231.0000000158,\n",
       " 'Manufacturing': 75558.58661870318,\n",
       " 'Electricity, Gas, Steam And Air Conditioning Supply': 74026.11386925737,\n",
       " 'Water Supply; Sewerage, Waste Management And Remediation Activities': 71774.51795800467,\n",
       " 'Construction': 64890.768303130964,\n",
       " 'Wholesale And Retail Trade; Repair Of Motor Vehicles And Motorcycles': 56910.38925640615,\n",
       " 'Transportation And Storage': 40766.735651051575,\n",
       " 'Accommodation And Food Service Activities': 38453.40351671154,\n",
       " 'Information And Communication': 35541.55516176553,\n",
       " 'Financial And Insurance Activities': 34136.64561024128,\n",
       " 'Real Estate Activities': 31319.132595534582,\n",
       " 'Professional, Scientific And Technical Activities': 26257.98502074831,\n",
       " 'Administrative And Support Service Activities': 22180.018914657398,\n",
       " 'Public Administration And Defence; Compulsory Social Security': 16960.000000001182,\n",
       " 'Education': 14453.019635897515,\n",
       " 'Human Health And Social Work Activities': 14385.94434501644,\n",
       " 'Arts, Entertainment And Recreation': 10208.49357679307,\n",
       " 'Other Service Activities': 9005.331588896703,\n",
       " 'Activities Of Households As Employers; Undifferentiated Goods- And Services-Producing Activities Of Households For Own Use': 5442.000000000744,\n",
       " 'Activities Of Extraterritorial Organizations And Bodies': 4913.523433536579}"
      ]
     },
     "execution_count": 264,
     "metadata": {},
     "output_type": "execute_result"
    }
   ],
   "source": [
    "input_df = df_test\n",
    "\n",
    "# calling prediction function\n",
    "pred_dict = get_predictions(input_df, model)\n",
    "\n",
    "# Displaying prediction dictionary\n",
    "pred_dict"
   ]
  },
  {
   "cell_type": "code",
   "execution_count": null,
   "metadata": {},
   "outputs": [],
   "source": [
    "########################################################################################"
   ]
  },
  {
   "cell_type": "code",
   "execution_count": 272,
   "metadata": {},
   "outputs": [
    {
     "ename": "NameError",
     "evalue": "name 'train_data' is not defined",
     "output_type": "error",
     "traceback": [
      "\u001b[1;31m---------------------------------------------------------------------------\u001b[0m",
      "\u001b[1;31mNameError\u001b[0m                                 Traceback (most recent call last)",
      "\u001b[1;32m<ipython-input-272-c4dda1b59424>\u001b[0m in \u001b[0;36m<module>\u001b[1;34m\u001b[0m\n\u001b[1;32m----> 1\u001b[1;33m \u001b[0mtrain_data\u001b[0m\u001b[1;33m.\u001b[0m\u001b[0mhead\u001b[0m\u001b[1;33m(\u001b[0m\u001b[1;33m)\u001b[0m\u001b[1;33m\u001b[0m\u001b[1;33m\u001b[0m\u001b[0m\n\u001b[0m",
      "\u001b[1;31mNameError\u001b[0m: name 'train_data' is not defined"
     ]
    }
   ],
   "source": [
    "train_data.head()"
   ]
  },
  {
   "cell_type": "code",
   "execution_count": 276,
   "metadata": {},
   "outputs": [
    {
     "ename": "ImportError",
     "evalue": "cannot import name 'mean_absolute_percentage_error'",
     "output_type": "error",
     "traceback": [
      "\u001b[1;31m---------------------------------------------------------------------------\u001b[0m",
      "\u001b[1;31mImportError\u001b[0m                               Traceback (most recent call last)",
      "\u001b[1;32m<ipython-input-276-1be42fea36cb>\u001b[0m in \u001b[0;36m<module>\u001b[1;34m\u001b[0m\n\u001b[0;32m      8\u001b[0m \u001b[1;31m#from evidently.report import Report\u001b[0m\u001b[1;33m\u001b[0m\u001b[1;33m\u001b[0m\u001b[1;33m\u001b[0m\u001b[0m\n\u001b[0;32m      9\u001b[0m \u001b[1;32mfrom\u001b[0m \u001b[0mevidently\u001b[0m\u001b[1;33m.\u001b[0m\u001b[0mmetrics\u001b[0m\u001b[1;33m.\u001b[0m\u001b[0mbase_metric\u001b[0m \u001b[1;32mimport\u001b[0m \u001b[0mgenerate_column_metrics\u001b[0m\u001b[1;33m\u001b[0m\u001b[1;33m\u001b[0m\u001b[0m\n\u001b[1;32m---> 10\u001b[1;33m \u001b[1;32mfrom\u001b[0m \u001b[0mevidently\u001b[0m\u001b[1;33m.\u001b[0m\u001b[0mmetric_preset\u001b[0m \u001b[1;32mimport\u001b[0m \u001b[0mDataDriftPreset\u001b[0m\u001b[1;33m,\u001b[0m \u001b[0mTargetDriftPreset\u001b[0m\u001b[1;33m\u001b[0m\u001b[1;33m\u001b[0m\u001b[0m\n\u001b[0m\u001b[0;32m     11\u001b[0m \u001b[1;32mfrom\u001b[0m \u001b[0mevidently\u001b[0m\u001b[1;33m.\u001b[0m\u001b[0mmetrics\u001b[0m \u001b[1;32mimport\u001b[0m \u001b[1;33m*\u001b[0m\u001b[1;33m\u001b[0m\u001b[1;33m\u001b[0m\u001b[0m\n\u001b[0;32m     12\u001b[0m \u001b[1;33m\u001b[0m\u001b[0m\n",
      "\u001b[1;32m~\\AppData\\Local\\anaconda3\\envs\\productive_employment_prediction\\lib\\site-packages\\evidently\\metric_preset\\__init__.py\u001b[0m in \u001b[0;36m<module>\u001b[1;34m\u001b[0m\n\u001b[1;32m----> 1\u001b[1;33m \u001b[1;32mfrom\u001b[0m \u001b[1;33m.\u001b[0m\u001b[0mclassification_performance\u001b[0m \u001b[1;32mimport\u001b[0m \u001b[0mClassificationPreset\u001b[0m\u001b[1;33m\u001b[0m\u001b[1;33m\u001b[0m\u001b[0m\n\u001b[0m\u001b[0;32m      2\u001b[0m \u001b[1;32mfrom\u001b[0m \u001b[1;33m.\u001b[0m\u001b[0mdata_drift\u001b[0m \u001b[1;32mimport\u001b[0m \u001b[0mDataDriftPreset\u001b[0m\u001b[1;33m\u001b[0m\u001b[1;33m\u001b[0m\u001b[0m\n\u001b[0;32m      3\u001b[0m \u001b[1;32mfrom\u001b[0m \u001b[1;33m.\u001b[0m\u001b[0mdata_quality\u001b[0m \u001b[1;32mimport\u001b[0m \u001b[0mDataQualityPreset\u001b[0m\u001b[1;33m\u001b[0m\u001b[1;33m\u001b[0m\u001b[0m\n\u001b[0;32m      4\u001b[0m \u001b[1;32mfrom\u001b[0m \u001b[1;33m.\u001b[0m\u001b[0mregression_performance\u001b[0m \u001b[1;32mimport\u001b[0m \u001b[0mRegressionPreset\u001b[0m\u001b[1;33m\u001b[0m\u001b[1;33m\u001b[0m\u001b[0m\n\u001b[0;32m      5\u001b[0m \u001b[1;32mfrom\u001b[0m \u001b[1;33m.\u001b[0m\u001b[0mtarget_drift\u001b[0m \u001b[1;32mimport\u001b[0m \u001b[0mTargetDriftPreset\u001b[0m\u001b[1;33m\u001b[0m\u001b[1;33m\u001b[0m\u001b[0m\n",
      "\u001b[1;32m~\\AppData\\Local\\anaconda3\\envs\\productive_employment_prediction\\lib\\site-packages\\evidently\\metric_preset\\classification_performance.py\u001b[0m in \u001b[0;36m<module>\u001b[1;34m\u001b[0m\n\u001b[0;32m      4\u001b[0m \u001b[1;32mfrom\u001b[0m \u001b[0mevidently\u001b[0m\u001b[1;33m.\u001b[0m\u001b[0mcalculations\u001b[0m\u001b[1;33m.\u001b[0m\u001b[0mclassification_performance\u001b[0m \u001b[1;32mimport\u001b[0m \u001b[0mget_prediction_data\u001b[0m\u001b[1;33m\u001b[0m\u001b[1;33m\u001b[0m\u001b[0m\n\u001b[0;32m      5\u001b[0m \u001b[1;32mfrom\u001b[0m \u001b[0mevidently\u001b[0m\u001b[1;33m.\u001b[0m\u001b[0mmetric_preset\u001b[0m\u001b[1;33m.\u001b[0m\u001b[0mmetric_preset\u001b[0m \u001b[1;32mimport\u001b[0m \u001b[0mMetricPreset\u001b[0m\u001b[1;33m\u001b[0m\u001b[1;33m\u001b[0m\u001b[0m\n\u001b[1;32m----> 6\u001b[1;33m \u001b[1;32mfrom\u001b[0m \u001b[0mevidently\u001b[0m\u001b[1;33m.\u001b[0m\u001b[0mmetrics\u001b[0m \u001b[1;32mimport\u001b[0m \u001b[0mClassificationClassBalance\u001b[0m\u001b[1;33m\u001b[0m\u001b[1;33m\u001b[0m\u001b[0m\n\u001b[0m\u001b[0;32m      7\u001b[0m \u001b[1;32mfrom\u001b[0m \u001b[0mevidently\u001b[0m\u001b[1;33m.\u001b[0m\u001b[0mmetrics\u001b[0m \u001b[1;32mimport\u001b[0m \u001b[0mClassificationClassSeparationPlot\u001b[0m\u001b[1;33m\u001b[0m\u001b[1;33m\u001b[0m\u001b[0m\n\u001b[0;32m      8\u001b[0m \u001b[1;32mfrom\u001b[0m \u001b[0mevidently\u001b[0m\u001b[1;33m.\u001b[0m\u001b[0mmetrics\u001b[0m \u001b[1;32mimport\u001b[0m \u001b[0mClassificationConfusionMatrix\u001b[0m\u001b[1;33m\u001b[0m\u001b[1;33m\u001b[0m\u001b[0m\n",
      "\u001b[1;32m~\\AppData\\Local\\anaconda3\\envs\\productive_employment_prediction\\lib\\site-packages\\evidently\\metrics\\__init__.py\u001b[0m in \u001b[0;36m<module>\u001b[1;34m\u001b[0m\n\u001b[0;32m     42\u001b[0m \u001b[1;32mfrom\u001b[0m \u001b[1;33m.\u001b[0m\u001b[0mregression_performance\u001b[0m\u001b[1;33m.\u001b[0m\u001b[0mpredicted_and_actual_in_time\u001b[0m \u001b[1;32mimport\u001b[0m \u001b[0mRegressionPredictedVsActualPlot\u001b[0m\u001b[1;33m\u001b[0m\u001b[1;33m\u001b[0m\u001b[0m\n\u001b[0;32m     43\u001b[0m \u001b[1;32mfrom\u001b[0m \u001b[1;33m.\u001b[0m\u001b[0mregression_performance\u001b[0m\u001b[1;33m.\u001b[0m\u001b[0mpredicted_vs_actual\u001b[0m \u001b[1;32mimport\u001b[0m \u001b[0mRegressionPredictedVsActualScatter\u001b[0m\u001b[1;33m\u001b[0m\u001b[1;33m\u001b[0m\u001b[0m\n\u001b[1;32m---> 44\u001b[1;33m \u001b[1;32mfrom\u001b[0m \u001b[1;33m.\u001b[0m\u001b[0mregression_performance\u001b[0m\u001b[1;33m.\u001b[0m\u001b[0mregression_dummy_metric\u001b[0m \u001b[1;32mimport\u001b[0m \u001b[0mRegressionDummyMetric\u001b[0m\u001b[1;33m\u001b[0m\u001b[1;33m\u001b[0m\u001b[0m\n\u001b[0m\u001b[0;32m     45\u001b[0m \u001b[1;32mfrom\u001b[0m \u001b[1;33m.\u001b[0m\u001b[0mregression_performance\u001b[0m\u001b[1;33m.\u001b[0m\u001b[0mregression_performance_metrics\u001b[0m \u001b[1;32mimport\u001b[0m \u001b[0mRegressionPerformanceMetrics\u001b[0m\u001b[1;33m\u001b[0m\u001b[1;33m\u001b[0m\u001b[0m\n\u001b[0;32m     46\u001b[0m \u001b[1;32mfrom\u001b[0m \u001b[1;33m.\u001b[0m\u001b[0mregression_performance\u001b[0m\u001b[1;33m.\u001b[0m\u001b[0mregression_quality\u001b[0m \u001b[1;32mimport\u001b[0m \u001b[0mRegressionQualityMetric\u001b[0m\u001b[1;33m\u001b[0m\u001b[1;33m\u001b[0m\u001b[0m\n",
      "\u001b[1;32m~\\AppData\\Local\\anaconda3\\envs\\productive_employment_prediction\\lib\\site-packages\\evidently\\metrics\\regression_performance\\regression_dummy_metric.py\u001b[0m in \u001b[0;36m<module>\u001b[1;34m\u001b[0m\n\u001b[0;32m      6\u001b[0m \u001b[1;32mimport\u001b[0m \u001b[0mpandas\u001b[0m \u001b[1;32mas\u001b[0m \u001b[0mpd\u001b[0m\u001b[1;33m\u001b[0m\u001b[1;33m\u001b[0m\u001b[0m\n\u001b[0;32m      7\u001b[0m \u001b[1;32mfrom\u001b[0m \u001b[0msklearn\u001b[0m\u001b[1;33m.\u001b[0m\u001b[0mmetrics\u001b[0m \u001b[1;32mimport\u001b[0m \u001b[0mmean_absolute_error\u001b[0m\u001b[1;33m\u001b[0m\u001b[1;33m\u001b[0m\u001b[0m\n\u001b[1;32m----> 8\u001b[1;33m \u001b[1;32mfrom\u001b[0m \u001b[0msklearn\u001b[0m\u001b[1;33m.\u001b[0m\u001b[0mmetrics\u001b[0m \u001b[1;32mimport\u001b[0m \u001b[0mmean_absolute_percentage_error\u001b[0m\u001b[1;33m\u001b[0m\u001b[1;33m\u001b[0m\u001b[0m\n\u001b[0m\u001b[0;32m      9\u001b[0m \u001b[1;32mfrom\u001b[0m \u001b[0msklearn\u001b[0m\u001b[1;33m.\u001b[0m\u001b[0mmetrics\u001b[0m \u001b[1;32mimport\u001b[0m \u001b[0mmean_squared_error\u001b[0m\u001b[1;33m\u001b[0m\u001b[1;33m\u001b[0m\u001b[0m\n\u001b[0;32m     10\u001b[0m \u001b[1;33m\u001b[0m\u001b[0m\n",
      "\u001b[1;31mImportError\u001b[0m: cannot import name 'mean_absolute_percentage_error'"
     ]
    }
   ],
   "source": [
    "import pandas as pd\n",
    "import numpy as np\n",
    "\n",
    "#from sklearn.datasets import fetch_california_housing\n",
    "\n",
    "from evidently import ColumnMapping\n",
    "\n",
    "#from evidently.report import Report\n",
    "from evidently.metrics.base_metric import generate_column_metrics\n",
    "from evidently.metric_preset import DataDriftPreset, TargetDriftPreset\n",
    "from evidently.metrics import *\n",
    "\n",
    "from evidently.test_suite import TestSuite\n",
    "from evidently.tests.base_test import generate_column_tests\n",
    "from evidently.test_preset import DataStabilityTestPreset, NoTargetPerformanceTestPreset\n",
    "from evidently.tests import *"
   ]
  },
  {
   "cell_type": "code",
   "execution_count": null,
   "metadata": {},
   "outputs": [],
   "source": [
    "# load dataset\n",
    "path = 'C:/Users/Isaac.Mwendwa/Documents/Productive_Employment_Prediction/Model Building/Datasets/'\n",
    "\n",
    "final_df = pd.read_csv(path + 'Total Number in Wage Employment Model Dataset.csv', header=0, index_col=None)\n",
    "\n",
    "dataset = final_df.copy()\n",
    "print(dataset.columns)\n",
    "\n"
   ]
  },
  {
   "cell_type": "code",
   "execution_count": null,
   "metadata": {},
   "outputs": [],
   "source": [
    "# Setting training data to be the first 7 years of data\n",
    "n_train_years = 7*21\n",
    "\n",
    "# split into train and test sets\n",
    "train_set = dataset[:n_train_years]\n",
    "test_set = dataset[n_train_years:]"
   ]
  },
  {
   "cell_type": "code",
   "execution_count": 275,
   "metadata": {},
   "outputs": [
    {
     "ename": "ImportError",
     "evalue": "cannot import name 'mean_absolute_percentage_error'",
     "output_type": "error",
     "traceback": [
      "\u001b[1;31m---------------------------------------------------------------------------\u001b[0m",
      "\u001b[1;31mImportError\u001b[0m                               Traceback (most recent call last)",
      "\u001b[1;32m<ipython-input-275-6c95b1f00cdd>\u001b[0m in \u001b[0;36m<module>\u001b[1;34m\u001b[0m\n\u001b[1;32m----> 1\u001b[1;33m \u001b[1;32mfrom\u001b[0m \u001b[0msklearn\u001b[0m\u001b[1;33m.\u001b[0m\u001b[0mmetrics\u001b[0m \u001b[1;32mimport\u001b[0m \u001b[0mmean_absolute_percentage_error\u001b[0m\u001b[1;33m\u001b[0m\u001b[1;33m\u001b[0m\u001b[0m\n\u001b[0m",
      "\u001b[1;31mImportError\u001b[0m: cannot import name 'mean_absolute_percentage_error'"
     ]
    }
   ],
   "source": [
    "from sklearn.metrics import mean_absolute_percentage_error"
   ]
  },
  {
   "cell_type": "code",
   "execution_count": null,
   "metadata": {},
   "outputs": [],
   "source": []
  },
  {
   "cell_type": "code",
   "execution_count": null,
   "metadata": {},
   "outputs": [],
   "source": []
  },
  {
   "cell_type": "code",
   "execution_count": null,
   "metadata": {},
   "outputs": [],
   "source": []
  },
  {
   "cell_type": "code",
   "execution_count": null,
   "metadata": {},
   "outputs": [],
   "source": []
  },
  {
   "cell_type": "code",
   "execution_count": null,
   "metadata": {},
   "outputs": [],
   "source": []
  },
  {
   "cell_type": "markdown",
   "metadata": {
    "id": "CZbCPQTE3NwI"
   },
   "source": [
    "# Part 7: Model Deployment\n",
    "\n",
    "---\n",
    "\n"
   ]
  },
  {
   "cell_type": "code",
   "execution_count": null,
   "metadata": {
    "colab": {
     "base_uri": "https://localhost:8080/"
    },
    "executionInfo": {
     "elapsed": 3621,
     "status": "ok",
     "timestamp": 1628598101207,
     "user": {
      "displayName": "Isaac Mwendwa",
      "photoUrl": "https://lh3.googleusercontent.com/a-/AOh14Gik6eW-t_ttT93CxBiHADNOLtLhMyJGtlZTYPwGBQ=s64",
      "userId": "14986221937983786022"
     },
     "user_tz": -180
    },
    "id": "rlnruQtRBzxZ",
    "outputId": "c04bd183-1c54-4837-e590-95c200c37048"
   },
   "outputs": [],
   "source": [
    "!pip install flask"
   ]
  },
  {
   "cell_type": "code",
   "execution_count": null,
   "metadata": {
    "colab": {
     "base_uri": "https://localhost:8080/"
    },
    "executionInfo": {
     "elapsed": 3682,
     "status": "ok",
     "timestamp": 1628598107390,
     "user": {
      "displayName": "Isaac Mwendwa",
      "photoUrl": "https://lh3.googleusercontent.com/a-/AOh14Gik6eW-t_ttT93CxBiHADNOLtLhMyJGtlZTYPwGBQ=s64",
      "userId": "14986221937983786022"
     },
     "user_tz": -180
    },
    "id": "sBdSQ58gvNXr",
    "outputId": "b5ae12cf-7e14-482d-af2c-06b227279034"
   },
   "outputs": [],
   "source": [
    "!pip install flask-wtf"
   ]
  },
  {
   "cell_type": "code",
   "execution_count": null,
   "metadata": {
    "colab": {
     "base_uri": "https://localhost:8080/"
    },
    "executionInfo": {
     "elapsed": 3430,
     "status": "ok",
     "timestamp": 1628598118420,
     "user": {
      "displayName": "Isaac Mwendwa",
      "photoUrl": "https://lh3.googleusercontent.com/a-/AOh14Gik6eW-t_ttT93CxBiHADNOLtLhMyJGtlZTYPwGBQ=s64",
      "userId": "14986221937983786022"
     },
     "user_tz": -180
    },
    "id": "A1179oiQvSfh",
    "outputId": "11e90284-54d4-4f39-bb62-c2b298a387df"
   },
   "outputs": [],
   "source": [
    "!pip install gunicorn"
   ]
  },
  {
   "cell_type": "code",
   "execution_count": null,
   "metadata": {
    "id": "ClbvSVKsvh2M"
   },
   "outputs": [],
   "source": [
    "!pip freeze > requirements.txt"
   ]
  },
  {
   "cell_type": "code",
   "execution_count": null,
   "metadata": {
    "id": "VXNpgdsLxn4W"
   },
   "outputs": [],
   "source": []
  },
  {
   "cell_type": "code",
   "execution_count": null,
   "metadata": {},
   "outputs": [],
   "source": []
  }
 ],
 "metadata": {
  "kernelspec": {
   "display_name": "Python 3",
   "language": "python",
   "name": "python3"
  },
  "language_info": {
   "codemirror_mode": {
    "name": "ipython",
    "version": 3
   },
   "file_extension": ".py",
   "mimetype": "text/x-python",
   "name": "python",
   "nbconvert_exporter": "python",
   "pygments_lexer": "ipython3",
   "version": "3.6.9"
  }
 },
 "nbformat": 4,
 "nbformat_minor": 2
}
