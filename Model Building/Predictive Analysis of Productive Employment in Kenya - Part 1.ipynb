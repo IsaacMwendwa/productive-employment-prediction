{
 "cells": [
  {
   "cell_type": "code",
   "execution_count": null,
   "metadata": {
    "id": "T4sC6s7vUzmV"
   },
   "outputs": [],
   "source": [
    "# Author: Isaac Mwendwa\n",
    "# Reg. No: SCT211-0087/2016\n",
    "# Computer Systems Project\n",
    "# BSc. Computer Science 4.2\n",
    "# SCIT -- JKUAT"
   ]
  },
  {
   "cell_type": "markdown",
   "metadata": {
    "id": "ygHP9ypq9nIo"
   },
   "source": [
    "## Workflow of Project\n",
    "This project utilizes the Data Science Project Life Cycle, which has the following steps:\n",
    "\n",
    "1. Business Understanding\n",
    "2. Data Collection\n",
    "3. Data Preparation\n",
    "4. Exploratory Data Analysis\n",
    "5. Feature Engineering\n",
    "6. Model Building\n",
    "7. Model Evaluation\n",
    "8. Model Deployment\n",
    "9. Model Monitoring and Maintenance\n",
    "\n",
    "\n",
    "\n"
   ]
  },
  {
   "cell_type": "markdown",
   "metadata": {
    "id": "cyBf6kXW_VTb"
   },
   "source": [
    "# Part 1: Business Understanding"
   ]
  },
  {
   "cell_type": "markdown",
   "metadata": {
    "id": "mDEsGgrI_d8r"
   },
   "source": [
    "### Background Information\n",
    "\n",
    "* According to the United Nations, **300 million workers around the globe lived below the USD 1.25 a day poverty line in 2015.** \n",
    "> Moreover, in 2015, the number of employed young people aged 15-24 reduced to four in every ten people, down from five in every ten in 1991 ([UN Poverty Statistics](https://www.un.org/millenniumgoals/poverty.shtml)). \n",
    "* This is in contrast to the **steady growth of the World Gross Product by 2.5 percent in 2013 to a projected 3.1 percent growth in 2015**.\n",
    "* This disparity is contrary to an economic theory known as **Okun’s Law, which points out that there is an inverse relation between growth and unemployment**. \n",
    "* Thus, economic growth should have a positive relation with employment, that is, more employment opportunities should be created with the growing of an economy\n",
    "* However, if we compare the working poverty rates and poverty rates, there is a small difference, implying that employment is not always a guarantee against poverty: \n",
    "> * In 2015 for example, 10 per cent of the world’s population were poor, while 9 per cent of the world’s workers lived in poverty, with almost half in Sub-Saharan Africa ([The Working Poor](https://www.ilo.org/wcmsp5/groups/public/---dgreports/---stat/documents/publication/wcms_696387.pdf))\n",
    "> * In 2022, 2 Billion Workers globally were in informal jobs without social protection ([UN SDG Goal 8](https://sdgs.un.org/goals/goal8))\n",
    "* Thus, employed persons are just as vulnerable to poverty as everyone else, pointing to the need for renewed efforts to ensure decent work for all\n",
    "* This predictive analysis project is aimed at providing insights to achieve Sustainable Development Goal (SDG) number 8, which is:\n",
    "> **“Promote sustained, inclusive and sustainable economic growth, full and productive employment and decent work for all”** ([UN SDG Goal 8](https://sdgs.un.org/goals/goal8))\n",
    "\n",
    "\n",
    "\n",
    "### Problem Statement\n",
    "* The United Nations Development Program (UNDP) oversees the SDG goals which are a “universal call to action to end poverty, protect the planet and ensure that all people enjoy peace and prosperity by 2030”\n",
    "* These goals were adopted in 2015 by all United Nations Member States, including the Republic of Kenya\n",
    "* However, little work, if any, has been done to model the creation and sustenance of productive employment, based on the economic growth in Kenya\n",
    "* The current situation of no analytics to provide actionable insights poses a challenge to the attainment of Sustainable Development Goal (SDG) number 8, which is to “promote sustained, inclusive and sustainable economic growth, full and productive employment and decent work for all”\n",
    "* This project aims to:\n",
    "> **Provide a real-time solution utilizing predictive analytics to predict the Number of People in Non-productive Employment, and the Total Number of People in Employment per Industry, given Economic Growth Metrics per Industry**\n",
    "* The solution will provide actionable insights into which areas/sectors of the economy need remedial measures, to lead to the achievement of SDG 8\n",
    "\n",
    "\n",
    "### Objectives of Project\n",
    "(A). Main Objectives\n",
    "1. To use predictive analytics to predict the number of people in non-productive employment in Kenya\n",
    "2. To use predictive analysis to predict the total number of people in wage employment in Kenya\n",
    "\n",
    "(B). Sub-Objectives\n",
    "1. To estimate the correlation between economic growth and productive employment in Kenya\n",
    "2. To determine the features which contribute to the relationship between the two variables (Feature Engineering)\n",
    "\n",
    "### Introduction to concepts of Economic Growth and Productive Employment\n",
    "\n",
    "* Gross Domestic Product(GDP) as a measure of Economic Growth\n",
    "> * GDP = value of goods and services produced by the nations economy - value of goods and services used up in production\n",
    "> * Two measures of GDP will be used in this study, the Contribution_to_GDP and Growth_by_GDP\n",
    "\n",
    "* Productive Employment\n",
    "> * Productive Employment is **employment yielding sufficient returns to labour, to permit a worker and his/her dependents a level of consumption above the poverty line**\n",
    "> * The International Labour Organization (ILO) has set the International Poverty Line to **USD 2 (USD 1.90) a day**; hence any person earning below USD 2 a day is considered poor, a group the ILO refers to as the **'Working Poor'**\n",
    "> * The working poor in this study will be the people earning **below KSh 10,000 a month (Wage_bracket_0_to_9999)**\n",
    "\n"
   ]
  },
  {
   "cell_type": "markdown",
   "metadata": {
    "id": "fO_mb0KODBqK"
   },
   "source": [
    "### --------------------------------------------------- End of Business Understanding Section (Part 1)----------------------------------------"
   ]
  },
  {
   "cell_type": "markdown",
   "metadata": {
    "id": "7e8FREFM8G4O"
   },
   "source": [
    "# Part 2: Data Collection\n",
    "\n",
    "---\n",
    "\n",
    "\n",
    "\n",
    "---\n",
    "\n",
    "\n",
    "\n",
    "---\n",
    "\n",
    "\n",
    "### Perform Data Extraction from PDF Files using camelot-py Module"
   ]
  },
  {
   "cell_type": "markdown",
   "metadata": {
    "id": "x_mebJS77pQn"
   },
   "source": [
    "### Prerequisites\n",
    "\n",
    "\n",
    "* Installing dependecies for camelot-py, which include GhostScript and TKinter, on local machine\n",
    "* Installing camelot-py module\n",
    "* Testing camelot-py module\n",
    "* Downloading yearly Statistical Abstract files from Kenya National Bureau of Statitics (KNBS)\n",
    "\n"
   ]
  },
  {
   "cell_type": "markdown",
   "metadata": {
    "id": "YXoRoq-33GiK"
   },
   "source": [
    "#### Sources of data (PDF files, courtesy of KNBS)\n",
    "\n",
    "\n",
    "* Statistical Abstract 2013\n",
    "* Statistical Abstract 2014\n",
    "* Statistical Abstract 2015\n",
    "* Statistical Abstract 2017\n",
    "* Statistical Abstract 2019\n",
    "\n"
   ]
  },
  {
   "cell_type": "markdown",
   "metadata": {
    "id": "gGVM51gNuhs6"
   },
   "source": [
    "To extract data from the pdf files, I connect to local runtime, which has camelot-py module installed; to use the module for extraction"
   ]
  },
  {
   "cell_type": "markdown",
   "metadata": {
    "id": "hg9sgozMtXbT"
   },
   "source": [
    "### Workflow\n",
    "1. Set up notebook server to allow connection to local runtime; using the command provided in the next section\n",
    "2. Look up for desired tables in pdf files, noting page numbers\n",
    "3. Extract tables from the pdf files using the page numbers\n",
    "4. Export tables to csv files, which will then be used in the data preparation section"
   ]
  },
  {
   "cell_type": "markdown",
   "metadata": {
    "id": "lr-m6Nstlkgu"
   },
   "source": [
    "#### Command for starting notebook server\n",
    "\n",
    "jupyter notebook \\ --NotebookApp.allow_origin='https://colab.research.google.com' \\ --port=8888 \\ --NotebookApp.port_retries=0"
   ]
  },
  {
   "cell_type": "markdown",
   "metadata": {
    "id": "GwRjkJehzKWD"
   },
   "source": [
    "Import camelot-py module"
   ]
  },
  {
   "cell_type": "code",
   "execution_count": null,
   "metadata": {
    "id": "H10m3otmzGBv"
   },
   "outputs": [],
   "source": [
    "import camelot"
   ]
  },
  {
   "cell_type": "markdown",
   "metadata": {
    "id": "e3VYxqXMwL4Z"
   },
   "source": [
    "Extracting tables from Statistical Abstract 2013"
   ]
  },
  {
   "cell_type": "code",
   "execution_count": null,
   "metadata": {
    "colab": {
     "base_uri": "https://localhost:8080/",
     "height": 72
    },
    "executionInfo": {
     "elapsed": 16065,
     "status": "ok",
     "timestamp": 1602839883305,
     "user": {
      "displayName": "Isaac Mwendwa",
      "photoUrl": "",
      "userId": "14986221937983786022"
     },
     "user_tz": -180
    },
    "id": "thVDZi3Ei-pv",
    "outputId": "59fe0c6b-4c94-400a-f084-8de89a4e9251"
   },
   "outputs": [
    {
     "name": "stdout",
     "output_type": "stream",
     "text": [
      "Number of tables: 1\n",
      "PARSING REPORT\n",
      "{'accuracy': 95.47, 'whitespace': 11.79, 'order': 1, 'page': 285}\n"
     ]
    }
   ],
   "source": [
    "# Statistical Abstract 2013\n",
    "pathPdf = 'F:/1Workspace/1Data/STATISTICAL ABSTRACT 2013.pdf'\n",
    "pathDataset = 'F:/1Workspace/1Data/'\n",
    "tables = camelot.read_pdf(pathPdf, pages='285', flavor='stream', strip_text='*+')\n",
    "\n",
    "numOfTables=tables.n\n",
    "print('Number of tables: ' + str(numOfTables))\n",
    "\n",
    "#Parsing Report\n",
    "print('PARSING REPORT')\n",
    "print(tables[0].parsing_report)"
   ]
  },
  {
   "cell_type": "code",
   "execution_count": null,
   "metadata": {
    "id": "BbV9sC2qwcSI"
   },
   "outputs": [],
   "source": [
    "tables[0].to_csv(pathDataset + '/Wage Employment 2011.csv')"
   ]
  },
  {
   "cell_type": "markdown",
   "metadata": {
    "id": "vXyOXQhHwdsy"
   },
   "source": [
    "Extracting tables from Statistical Abstract 2014"
   ]
  },
  {
   "cell_type": "code",
   "execution_count": null,
   "metadata": {
    "colab": {
     "base_uri": "https://localhost:8080/",
     "height": 164
    },
    "executionInfo": {
     "elapsed": 83471,
     "status": "ok",
     "timestamp": 1602338209503,
     "user": {
      "displayName": "Isaac Mwendwa",
      "photoUrl": "",
      "userId": "14986221937983786022"
     },
     "user_tz": -180
    },
    "id": "_l6CeEsfwc4c",
    "outputId": "4bb6fe35-53e3-4eec-bae6-5beb6d4af07c"
   },
   "outputs": [
    {
     "name": "stdout",
     "output_type": "stream",
     "text": [
      "Number of tables: 6\n",
      "PARSING REPORT\n",
      "{'accuracy': 99.36, 'whitespace': 8.12, 'order': 1, 'page': 74}\n",
      "{'accuracy': 99.63, 'whitespace': 10.68, 'order': 1, 'page': 77}\n",
      "{'accuracy': 91.57, 'whitespace': 31.06, 'order': 1, 'page': 265}\n",
      "{'accuracy': 97.76, 'whitespace': 14.48, 'order': 1, 'page': 266}\n",
      "{'accuracy': 99.17, 'whitespace': 14.48, 'order': 1, 'page': 267}\n",
      "{'accuracy': 99.65, 'whitespace': 18.93, 'order': 1, 'page': 268}\n"
     ]
    }
   ],
   "source": [
    "# Statistical Abstract 2014\n",
    "pathPdf = 'F:/1Workspace/1Data/STATISTICAL-ABSTRACT-2014.pdf'\n",
    "pathDataset = 'F:/1Workspace/1Data/'\n",
    "tables = camelot.read_pdf(pathPdf, pages='74,77,265,266,267,268', flavor='stream', strip_text='*+\\n')\n",
    "\n",
    "numOfTables=tables.n\n",
    "print('Number of tables: ' + str(numOfTables))\n",
    "\n",
    "#Parsing Report\n",
    "print('PARSING REPORT')\n",
    "i=0\n",
    "while i < numOfTables:\n",
    "    print(tables[i].parsing_report)\n",
    "    i+=1"
   ]
  },
  {
   "cell_type": "code",
   "execution_count": null,
   "metadata": {
    "id": "O9BB4UMjxbHy"
   },
   "outputs": [],
   "source": [
    "#Exporting Tables to CSV Files\n",
    "tables[0].to_csv(pathDataset + '/Contribution to GDP by Percent 2009-2013.csv')\n",
    "tables[1].to_csv(pathDataset + '/Growth  of GDP by Activity 2009-2013.csv')\n",
    "tables[2].to_csv(pathDataset + '/Wage Employment 2010-2013.csv')\n",
    "tables[3].to_csv(pathDataset + '/Wage Employment 2012.csv')\n",
    "tables[4].to_csv(pathDataset + '/Wage Employment 2013.csv')\n",
    "tables[5].to_csv(pathDataset + '/Wage Employment by Sex and Income 2010-2013.csv')"
   ]
  },
  {
   "cell_type": "markdown",
   "metadata": {
    "id": "Kf7ZtMXKvDay"
   },
   "source": [
    "Extracting tables from Statistical Abstract 2015"
   ]
  },
  {
   "cell_type": "code",
   "execution_count": null,
   "metadata": {
    "colab": {
     "base_uri": "https://localhost:8080/",
     "height": 72
    },
    "executionInfo": {
     "elapsed": 23543,
     "status": "ok",
     "timestamp": 1602772385826,
     "user": {
      "displayName": "Isaac Mwendwa",
      "photoUrl": "",
      "userId": "14986221937983786022"
     },
     "user_tz": -180
    },
    "id": "0VcYdQwFg6MT",
    "outputId": "e91761d1-fb05-4859-a105-bcc5c3d248ae"
   },
   "outputs": [
    {
     "name": "stdout",
     "output_type": "stream",
     "text": [
      "Number of tables: 1\n",
      "PARSING REPORT\n",
      "{'accuracy': 93.42, 'whitespace': 27.43, 'order': 1, 'page': 262}\n"
     ]
    }
   ],
   "source": [
    "# Statistical Abstract 2015\n",
    "pathPdf = 'F:/1Workspace/1Data/STATISTICAL ABSTRACT 2015.pdf'\n",
    "pathDataset = 'F:/1Workspace/1Data/'\n",
    "tables = camelot.read_pdf(pathPdf, pages='262', flavor='stream', strip_text='*+')\n",
    "\n",
    "numOfTables=tables.n\n",
    "print('Number of tables: ' + str(numOfTables))\n",
    "\n",
    "#Parsing Report\n",
    "print('PARSING REPORT')\n",
    "print(tables[0].parsing_report)"
   ]
  },
  {
   "cell_type": "code",
   "execution_count": null,
   "metadata": {
    "id": "xQVN8bQ4yLUe"
   },
   "outputs": [],
   "source": [
    "tables[0].to_csv(pathDataset + '/Wage Employment 2014.csv')"
   ]
  },
  {
   "cell_type": "markdown",
   "metadata": {
    "id": "KxGfJjFNvqmR"
   },
   "source": [
    "Extracting tables from Statistical Abstract 2017"
   ]
  },
  {
   "cell_type": "code",
   "execution_count": null,
   "metadata": {
    "colab": {
     "base_uri": "https://localhost:8080/",
     "height": 127
    },
    "executionInfo": {
     "elapsed": 69299,
     "status": "ok",
     "timestamp": 1602774812068,
     "user": {
      "displayName": "Isaac Mwendwa",
      "photoUrl": "",
      "userId": "14986221937983786022"
     },
     "user_tz": -180
    },
    "id": "eRLrh58HiLZq",
    "outputId": "8dce15f9-697f-46d0-fe8b-faed83f686d5"
   },
   "outputs": [
    {
     "name": "stdout",
     "output_type": "stream",
     "text": [
      "Number of tables: 4\n",
      "PARSING REPORT\n",
      "{'accuracy': 93.23, 'whitespace': 19.68, 'order': 1, 'page': 101}\n",
      "{'accuracy': 99.8, 'whitespace': 19.67, 'order': 2, 'page': 101}\n",
      "{'accuracy': 93.23, 'whitespace': 19.68, 'order': 1, 'page': 102}\n",
      "{'accuracy': 99.8, 'whitespace': 19.67, 'order': 2, 'page': 102}\n"
     ]
    }
   ],
   "source": [
    "# Statistical Abstract 2017\n",
    "pathPdf = 'F:/1Workspace/1Data/STATISTICAL ABSTRACT 2017.pdf'\n",
    "pathDataset = 'F:/1Workspace/1Data/'\n",
    "tables = camelot.read_pdf(pathPdf, pages='101,102', flavor='stream', strip_text='*+\\n')\n",
    "\n",
    "numOfTables=tables.n\n",
    "print('Number of tables: ' + str(numOfTables))\n",
    "\n",
    "#Parsing Report\n",
    "print('PARSING REPORT')\n",
    "i=0\n",
    "while i < numOfTables:\n",
    "    print(tables[i].parsing_report)\n",
    "    i+=1"
   ]
  },
  {
   "cell_type": "code",
   "execution_count": null,
   "metadata": {
    "id": "3exnDi9O089t"
   },
   "outputs": [],
   "source": [
    "tables[1].to_csv(pathDataset + '/Wage Employment 2015.csv')\n",
    "tables[3].to_csv(pathDataset + '/Wage Employment 2016.csv')"
   ]
  },
  {
   "cell_type": "markdown",
   "metadata": {
    "id": "eNTIqZfIykWl"
   },
   "source": [
    "Extracting tables from Statistical Abstract 2019"
   ]
  },
  {
   "cell_type": "code",
   "execution_count": null,
   "metadata": {
    "colab": {
     "base_uri": "https://localhost:8080/",
     "height": 164
    },
    "executionInfo": {
     "elapsed": 57720,
     "status": "ok",
     "timestamp": 1602338183557,
     "user": {
      "displayName": "Isaac Mwendwa",
      "photoUrl": "",
      "userId": "14986221937983786022"
     },
     "user_tz": -180
    },
    "id": "N-Y_xcQGteX3",
    "outputId": "86cd8d9b-c466-4f0b-bc88-5837b9b82ecf"
   },
   "outputs": [
    {
     "name": "stdout",
     "output_type": "stream",
     "text": [
      "Number of tables: 6\n",
      "PARSING REPORT\n",
      "{'accuracy': 99.55, 'whitespace': 9.21, 'order': 1, 'page': 30}\n",
      "{'accuracy': 99.62, 'whitespace': 8.97, 'order': 1, 'page': 32}\n",
      "{'accuracy': 88.77, 'whitespace': 29.29, 'order': 1, 'page': 63}\n",
      "{'accuracy': 99.95, 'whitespace': 17.24, 'order': 1, 'page': 64}\n",
      "{'accuracy': 99.96, 'whitespace': 19.67, 'order': 1, 'page': 65}\n",
      "{'accuracy': 99.44, 'whitespace': 19.71, 'order': 1, 'page': 66}\n"
     ]
    }
   ],
   "source": [
    "# Statistical Abstract 2019\n",
    "pathPdf = 'F:/1Workspace/1Data/Statistical_Abstract_2019.pdf'\n",
    "pathDataset = 'F:/1Workspace/1Data/'\n",
    "tables = camelot.read_pdf(pathPdf, pages='30,32,63,64,65,66', flavor='stream', strip_text='*+\\n')\n",
    "\n",
    "numOfTables=tables.n\n",
    "print('Number of tables: ' + str(numOfTables))\n",
    "\n",
    "#Parsing Report\n",
    "print('PARSING REPORT')\n",
    "i=0\n",
    "while i < numOfTables:\n",
    "    print(tables[i].parsing_report)\n",
    "    i+=1"
   ]
  },
  {
   "cell_type": "code",
   "execution_count": null,
   "metadata": {
    "id": "drLVbe96yyvx"
   },
   "outputs": [],
   "source": [
    "#Exporting Tables to CSV Files\n",
    "tables[0].to_csv(pathDataset + '/Contribution to GDP by Percent 2012-2018.csv')\n",
    "tables[1].to_csv(pathDataset + '/Growth  of GDP by Activity 2012-2018.csv')\n",
    "tables[2].to_csv(pathDataset + '/Wage Employment 2014-2018.csv')\n",
    "tables[3].to_csv(pathDataset + '/Wage Employment 2017.csv')\n",
    "tables[4].to_csv(pathDataset + '/Wage Employment 2018.csv')\n",
    "tables[5].to_csv(pathDataset + '/Wage Employment by Sex and Income 2014-2018.csv')"
   ]
  },
  {
   "cell_type": "markdown",
   "metadata": {
    "id": "-BTk8sOrrKdG"
   },
   "source": [
    "After performing data collection, we can now disconnect local runtime and switch to hosted runtime for the next sections "
   ]
  },
  {
   "cell_type": "markdown",
   "metadata": {
    "id": "-qNNTK95qqTF"
   },
   "source": [
    "### --------------------------------------------------- End of Data Collection Section (Part 2)--------------------------------------------\n",
    "\n",
    "---"
   ]
  },
  {
   "cell_type": "markdown",
   "metadata": {
    "id": "SOAIU9WsgPay"
   },
   "source": [
    "# Part 3: Data Preparation\n",
    "\n",
    "---\n",
    "\n"
   ]
  },
  {
   "cell_type": "markdown",
   "metadata": {
    "id": "zrfn3WutrSKq"
   },
   "source": [
    "### Prerequisites\n",
    "1. Preparing datasets using Microsoft Excel\n",
    "2. Connection to hosted runtime\n",
    "3. Migrating prepared datasets from local disk to Google Drive\n",
    "4. Mounting Google Drive"
   ]
  },
  {
   "cell_type": "markdown",
   "metadata": {
    "id": "E07jwRHogW8U"
   },
   "source": [
    "### Workflow\n",
    "\n",
    "1.   Joining yearly datasets to a single dataset spanning all the years (2011 -2018)\n",
    "2.   Data Pre-processing"
   ]
  },
  {
   "cell_type": "markdown",
   "metadata": {
    "id": "VKBGB58f5z6C"
   },
   "source": [
    "### Mounting Google Drive"
   ]
  },
  {
   "cell_type": "code",
   "execution_count": null,
   "metadata": {
    "colab": {
     "base_uri": "https://localhost:8080/"
    },
    "executionInfo": {
     "elapsed": 80748,
     "status": "ok",
     "timestamp": 1626945576414,
     "user": {
      "displayName": "Isaac Mwendwa",
      "photoUrl": "https://lh3.googleusercontent.com/a-/AOh14Gik6eW-t_ttT93CxBiHADNOLtLhMyJGtlZTYPwGBQ=s64",
      "userId": "14986221937983786022"
     },
     "user_tz": -180
    },
    "id": "_e6hMqJu5xiH",
    "outputId": "4b567edf-8388-41f1-b496-1eee4b7c20bf"
   },
   "outputs": [
    {
     "name": "stdout",
     "output_type": "stream",
     "text": [
      "Mounted at /content/drive\n"
     ]
    }
   ],
   "source": [
    "from google.colab import drive\n",
    "drive.mount('/content/drive')"
   ]
  },
  {
   "cell_type": "markdown",
   "metadata": {
    "id": "qDy0fLaw55Yv"
   },
   "source": [
    "### Importing all packages needed"
   ]
  },
  {
   "cell_type": "code",
   "execution_count": null,
   "metadata": {
    "id": "x4aSXoH6nTrV"
   },
   "outputs": [],
   "source": [
    "#imports\n",
    "import sys \n",
    "import numpy as np # linear algebra\n",
    "from scipy.stats import randint\n",
    "import pandas as pd # data processing, CSV file I/O \n",
    "import matplotlib.pyplot as plt # this is used for the plot the graph \n",
    "import seaborn as sns # used for plot interactive graph. "
   ]
  },
  {
   "cell_type": "markdown",
   "metadata": {
    "id": "kdtIugXwgqYh"
   },
   "source": [
    "#### 3.1 Joining yearly datasets to a single dataset spanning all the years"
   ]
  },
  {
   "cell_type": "markdown",
   "metadata": {
    "id": "ppFFJ4N_Ug4W"
   },
   "source": []
  },
  {
   "cell_type": "code",
   "execution_count": null,
   "metadata": {
    "id": "NaSuJ6s12oxW"
   },
   "outputs": [],
   "source": [
    "df2011 = pd.read_csv('/content/drive/My Drive/ColabNotebooks/Project/Wage_Employment_and_GDP_2011.csv')\n",
    "df2012 = pd.read_csv('/content/drive/My Drive/ColabNotebooks/Project/Wage_Employment_and_GDP_2012.csv')\n",
    "df2013 = pd.read_csv('/content/drive/My Drive/ColabNotebooks/Project/Wage_Employment_and_GDP_2013.csv')\n",
    "df2014 = pd.read_csv('/content/drive/My Drive/ColabNotebooks/Project/Wage_Employment_and_GDP_2014.csv')\n",
    "df2015 = pd.read_csv('/content/drive/My Drive/ColabNotebooks/Project/Wage_Employment_and_GDP_2015.csv')\n",
    "df2016 = pd.read_csv('/content/drive/My Drive/ColabNotebooks/Project/Wage_Employment_and_GDP_2016.csv')\n",
    "df2017 = pd.read_csv('/content/drive/My Drive/ColabNotebooks/Project/Wage_Employment_and_GDP_2017.csv')\n",
    "df2018 = pd.read_csv('/content/drive/My Drive/ColabNotebooks/Project/Wage_Employment_and_GDP_2018.csv')"
   ]
  },
  {
   "cell_type": "markdown",
   "metadata": {
    "id": "1HamjaWmg9ey"
   },
   "source": [
    "Checking shape of Yearly dataframes"
   ]
  },
  {
   "cell_type": "code",
   "execution_count": null,
   "metadata": {
    "colab": {
     "base_uri": "https://localhost:8080/"
    },
    "executionInfo": {
     "elapsed": 492,
     "status": "ok",
     "timestamp": 1626948769491,
     "user": {
      "displayName": "Isaac Mwendwa",
      "photoUrl": "https://lh3.googleusercontent.com/a-/AOh14Gik6eW-t_ttT93CxBiHADNOLtLhMyJGtlZTYPwGBQ=s64",
      "userId": "14986221937983786022"
     },
     "user_tz": -180
    },
    "id": "5-q4G7Nwg8Bk",
    "outputId": "c79b5ce4-c24c-478d-aa1e-95d8e6e06a57"
   },
   "outputs": [
    {
     "name": "stdout",
     "output_type": "stream",
     "text": [
      "21 13\n",
      "21 13\n",
      "21 13\n",
      "21 13\n",
      "21 13\n",
      "21 13\n",
      "21 13\n",
      "21 13\n"
     ]
    }
   ],
   "source": [
    "list_df = [df2011, df2012, df2013, df2014, df2015, df2016, df2017, df2018]\n",
    "\n",
    "for i in list_df:\n",
    "  r,c = i.shape\n",
    "  print(r,c)"
   ]
  },
  {
   "cell_type": "code",
   "execution_count": null,
   "metadata": {
    "id": "zOTqNZETDl7x"
   },
   "outputs": [],
   "source": [
    "#Joining datasets along the row\n",
    "pathDataset = '/content/drive/My Drive/ColabNotebooks/Project/'\n",
    "df = df2011.append([df2012, df2013, df2014, df2015, df2016, df2017, df2018],ignore_index=True, sort=False)\n",
    "df.to_csv(pathDataset + 'Wage_Employment_and_GDP_2011_to_2018.csv')\n"
   ]
  },
  {
   "cell_type": "markdown",
   "metadata": {
    "id": "TLC2bzTdhFib"
   },
   "source": [
    "### 3.2 Data Preprocessing"
   ]
  },
  {
   "cell_type": "code",
   "execution_count": null,
   "metadata": {
    "id": "ISYGEvDldnLO"
   },
   "outputs": [],
   "source": [
    "import pandas as pd\n",
    "\n",
    "#path to dataset\n",
    "pathDataset = '/content/drive/My Drive/ColabNotebooks/Project/Wage_Employment_and_GDP_2011_to_2018.csv'"
   ]
  },
  {
   "cell_type": "code",
   "execution_count": null,
   "metadata": {
    "colab": {
     "base_uri": "https://localhost:8080/",
     "height": 306
    },
    "executionInfo": {
     "elapsed": 403,
     "status": "ok",
     "timestamp": 1626953851227,
     "user": {
      "displayName": "Isaac Mwendwa",
      "photoUrl": "https://lh3.googleusercontent.com/a-/AOh14Gik6eW-t_ttT93CxBiHADNOLtLhMyJGtlZTYPwGBQ=s64",
      "userId": "14986221937983786022"
     },
     "user_tz": -180
    },
    "id": "N4-Bkp5zZe0D",
    "outputId": "f7474cf1-81cc-4e3c-b152-6896479153c7"
   },
   "outputs": [
    {
     "data": {
      "text/html": [
       "<div>\n",
       "<style scoped>\n",
       "    .dataframe tbody tr th:only-of-type {\n",
       "        vertical-align: middle;\n",
       "    }\n",
       "\n",
       "    .dataframe tbody tr th {\n",
       "        vertical-align: top;\n",
       "    }\n",
       "\n",
       "    .dataframe thead th {\n",
       "        text-align: right;\n",
       "    }\n",
       "</style>\n",
       "<table border=\"1\" class=\"dataframe\">\n",
       "  <thead>\n",
       "    <tr style=\"text-align: right;\">\n",
       "      <th></th>\n",
       "      <th>Unnamed: 0</th>\n",
       "      <th>Industry</th>\n",
       "      <th>Year</th>\n",
       "      <th>Contribution_by_Gdp</th>\n",
       "      <th>Growth_of_GDP</th>\n",
       "      <th>0 - 9,999</th>\n",
       "      <th>10,000 - 14999</th>\n",
       "      <th>15,000 - 19999</th>\n",
       "      <th>20,000 - 24999</th>\n",
       "      <th>25,000 - 29999</th>\n",
       "      <th>30,000 - 49999</th>\n",
       "      <th>50,000 - 99999</th>\n",
       "      <th>100000+</th>\n",
       "      <th>TOTAL</th>\n",
       "    </tr>\n",
       "  </thead>\n",
       "  <tbody>\n",
       "    <tr>\n",
       "      <th>0</th>\n",
       "      <td>0</td>\n",
       "      <td>Agriculture, Forestry And Fishing</td>\n",
       "      <td>2011</td>\n",
       "      <td>23.8</td>\n",
       "      <td>1.5</td>\n",
       "      <td>12,141</td>\n",
       "      <td>36,238</td>\n",
       "      <td>111,549</td>\n",
       "      <td>100,240</td>\n",
       "      <td>37,712</td>\n",
       "      <td>23,976</td>\n",
       "      <td>12,935</td>\n",
       "      <td>6,631</td>\n",
       "      <td>341,422</td>\n",
       "    </tr>\n",
       "    <tr>\n",
       "      <th>1</th>\n",
       "      <td>1</td>\n",
       "      <td>Mining And Quarrying</td>\n",
       "      <td>2011</td>\n",
       "      <td>0.7</td>\n",
       "      <td>7.1</td>\n",
       "      <td>59</td>\n",
       "      <td>101</td>\n",
       "      <td>944</td>\n",
       "      <td>1,586</td>\n",
       "      <td>1,965</td>\n",
       "      <td>2,312</td>\n",
       "      <td>1,752</td>\n",
       "      <td>13</td>\n",
       "      <td>8,732</td>\n",
       "    </tr>\n",
       "    <tr>\n",
       "      <th>2</th>\n",
       "      <td>2</td>\n",
       "      <td>Manufacturing</td>\n",
       "      <td>2011</td>\n",
       "      <td>9.6</td>\n",
       "      <td>3.4</td>\n",
       "      <td>632</td>\n",
       "      <td>1,723</td>\n",
       "      <td>17,205</td>\n",
       "      <td>50,949</td>\n",
       "      <td>54,427</td>\n",
       "      <td>76,329</td>\n",
       "      <td>70,040</td>\n",
       "      <td>5,580</td>\n",
       "      <td>276,885</td>\n",
       "    </tr>\n",
       "    <tr>\n",
       "      <th>3</th>\n",
       "      <td>3</td>\n",
       "      <td>Electricity, Gas, Steam And Air Conditioning S...</td>\n",
       "      <td>2011</td>\n",
       "      <td>0.4</td>\n",
       "      <td>-4.4</td>\n",
       "      <td>-</td>\n",
       "      <td>101</td>\n",
       "      <td>45</td>\n",
       "      <td>3,229</td>\n",
       "      <td>690</td>\n",
       "      <td>1,413</td>\n",
       "      <td>6,830</td>\n",
       "      <td>30</td>\n",
       "      <td>12,338</td>\n",
       "    </tr>\n",
       "    <tr>\n",
       "      <th>4</th>\n",
       "      <td>4</td>\n",
       "      <td>Water Supply; Sewerage, Waste Management And R...</td>\n",
       "      <td>2011</td>\n",
       "      <td>0.7</td>\n",
       "      <td>3.0</td>\n",
       "      <td>-</td>\n",
       "      <td>-</td>\n",
       "      <td>-</td>\n",
       "      <td>3,036</td>\n",
       "      <td>1,983</td>\n",
       "      <td>1,970</td>\n",
       "      <td>818</td>\n",
       "      <td>83</td>\n",
       "      <td>7,890</td>\n",
       "    </tr>\n",
       "  </tbody>\n",
       "</table>\n",
       "</div>"
      ],
      "text/plain": [
       "   Unnamed: 0  ...    TOTAL\n",
       "0           0  ...  341,422\n",
       "1           1  ...    8,732\n",
       "2           2  ...  276,885\n",
       "3           3  ...   12,338\n",
       "4           4  ...    7,890\n",
       "\n",
       "[5 rows x 14 columns]"
      ]
     },
     "execution_count": 10,
     "metadata": {
      "tags": []
     },
     "output_type": "execute_result"
    }
   ],
   "source": [
    "#Reading dataset\n",
    "df = pd.read_csv(pathDataset)\n",
    "df.head()"
   ]
  },
  {
   "cell_type": "code",
   "execution_count": null,
   "metadata": {
    "colab": {
     "base_uri": "https://localhost:8080/",
     "height": 109
    },
    "executionInfo": {
     "elapsed": 6114,
     "status": "ok",
     "timestamp": 1603442498379,
     "user": {
      "displayName": "Isaac Mwendwa",
      "photoUrl": "",
      "userId": "14986221937983786022"
     },
     "user_tz": -180
    },
    "id": "VHSg_-Ikhfr4",
    "outputId": "a1f1a820-9a58-4145-865f-7f87e130b14e"
   },
   "outputs": [
    {
     "data": {
      "text/plain": [
       "Index(['Unnamed: 0', 'Industry', 'Year', 'Contribution_by_Gdp',\n",
       "       'Growth_of_GDP', '0 - 9,999', '10,000 - 14999', '15,000 - 19999',\n",
       "       '20,000 - 24999', '25,000 - 29999', '30,000 - 49999', '50,000 - 99999',\n",
       "       '100000+', 'TOTAL'],\n",
       "      dtype='object')"
      ]
     },
     "execution_count": 55,
     "metadata": {
      "tags": []
     },
     "output_type": "execute_result"
    }
   ],
   "source": [
    "df.columns"
   ]
  },
  {
   "cell_type": "code",
   "execution_count": null,
   "metadata": {
    "id": "H5G9hXqewTRD"
   },
   "outputs": [],
   "source": [
    "df.drop('Unnamed: 0', axis=1, inplace=True)"
   ]
  },
  {
   "cell_type": "markdown",
   "metadata": {
    "id": "udwbkjH-q2Cn"
   },
   "source": [
    "#### Renaming columns"
   ]
  },
  {
   "cell_type": "code",
   "execution_count": null,
   "metadata": {
    "id": "A-gqTKshq7HG"
   },
   "outputs": [],
   "source": [
    "df.columns = ['Industry', 'Year', 'Contribution_to_GDP', 'Growth_of_GDP',\n",
    "       'Wage_bracket_0_to_9999', 'Wage_bracket_10000_to_14999',\n",
    "       'Wage_bracket_15000_to_19999', 'Wage_bracket_20000_to_24999',\n",
    "       'Wage_bracket_25000_to_29999', 'Wage_bracket_30000_to_49999',\n",
    "       'Wage_bracket_50000_to_99999', 'Wage_bracket_100000_plus', 'TOTAL']"
   ]
  },
  {
   "cell_type": "code",
   "execution_count": null,
   "metadata": {
    "colab": {
     "base_uri": "https://localhost:8080/",
     "height": 417
    },
    "executionInfo": {
     "elapsed": 6090,
     "status": "ok",
     "timestamp": 1603442498390,
     "user": {
      "displayName": "Isaac Mwendwa",
      "photoUrl": "",
      "userId": "14986221937983786022"
     },
     "user_tz": -180
    },
    "id": "osjifPMzvO86",
    "outputId": "479201ca-66ed-40ff-a058-495af4eeaf65"
   },
   "outputs": [
    {
     "data": {
      "text/html": [
       "<div>\n",
       "<style scoped>\n",
       "    .dataframe tbody tr th:only-of-type {\n",
       "        vertical-align: middle;\n",
       "    }\n",
       "\n",
       "    .dataframe tbody tr th {\n",
       "        vertical-align: top;\n",
       "    }\n",
       "\n",
       "    .dataframe thead th {\n",
       "        text-align: right;\n",
       "    }\n",
       "</style>\n",
       "<table border=\"1\" class=\"dataframe\">\n",
       "  <thead>\n",
       "    <tr style=\"text-align: right;\">\n",
       "      <th></th>\n",
       "      <th>Industry</th>\n",
       "      <th>Year</th>\n",
       "      <th>Contribution_to_GDP</th>\n",
       "      <th>Growth_of_GDP</th>\n",
       "      <th>Wage_bracket_0_to_9999</th>\n",
       "      <th>Wage_bracket_10000_to_14999</th>\n",
       "      <th>Wage_bracket_15000_to_19999</th>\n",
       "      <th>Wage_bracket_20000_to_24999</th>\n",
       "      <th>Wage_bracket_25000_to_29999</th>\n",
       "      <th>Wage_bracket_30000_to_49999</th>\n",
       "      <th>Wage_bracket_50000_to_99999</th>\n",
       "      <th>Wage_bracket_100000_plus</th>\n",
       "      <th>TOTAL</th>\n",
       "    </tr>\n",
       "  </thead>\n",
       "  <tbody>\n",
       "    <tr>\n",
       "      <th>0</th>\n",
       "      <td>Agriculture, Forestry And Fishing</td>\n",
       "      <td>2011</td>\n",
       "      <td>23.8</td>\n",
       "      <td>1.5</td>\n",
       "      <td>12,141</td>\n",
       "      <td>36,238</td>\n",
       "      <td>111,549</td>\n",
       "      <td>100,240</td>\n",
       "      <td>37,712</td>\n",
       "      <td>23,976</td>\n",
       "      <td>12,935</td>\n",
       "      <td>6,631</td>\n",
       "      <td>341,422</td>\n",
       "    </tr>\n",
       "    <tr>\n",
       "      <th>1</th>\n",
       "      <td>Mining And Quarrying</td>\n",
       "      <td>2011</td>\n",
       "      <td>0.7</td>\n",
       "      <td>7.1</td>\n",
       "      <td>59</td>\n",
       "      <td>101</td>\n",
       "      <td>944</td>\n",
       "      <td>1,586</td>\n",
       "      <td>1,965</td>\n",
       "      <td>2,312</td>\n",
       "      <td>1,752</td>\n",
       "      <td>13</td>\n",
       "      <td>8,732</td>\n",
       "    </tr>\n",
       "    <tr>\n",
       "      <th>2</th>\n",
       "      <td>Manufacturing</td>\n",
       "      <td>2011</td>\n",
       "      <td>9.6</td>\n",
       "      <td>3.4</td>\n",
       "      <td>632</td>\n",
       "      <td>1,723</td>\n",
       "      <td>17,205</td>\n",
       "      <td>50,949</td>\n",
       "      <td>54,427</td>\n",
       "      <td>76,329</td>\n",
       "      <td>70,040</td>\n",
       "      <td>5,580</td>\n",
       "      <td>276,885</td>\n",
       "    </tr>\n",
       "    <tr>\n",
       "      <th>3</th>\n",
       "      <td>Electricity, Gas, Steam And Air Conditioning S...</td>\n",
       "      <td>2011</td>\n",
       "      <td>0.4</td>\n",
       "      <td>-4.4</td>\n",
       "      <td>-</td>\n",
       "      <td>101</td>\n",
       "      <td>45</td>\n",
       "      <td>3,229</td>\n",
       "      <td>690</td>\n",
       "      <td>1,413</td>\n",
       "      <td>6,830</td>\n",
       "      <td>30</td>\n",
       "      <td>12,338</td>\n",
       "    </tr>\n",
       "    <tr>\n",
       "      <th>4</th>\n",
       "      <td>Water Supply; Sewerage, Waste Management And R...</td>\n",
       "      <td>2011</td>\n",
       "      <td>0.7</td>\n",
       "      <td>3.0</td>\n",
       "      <td>-</td>\n",
       "      <td>-</td>\n",
       "      <td>-</td>\n",
       "      <td>3,036</td>\n",
       "      <td>1,983</td>\n",
       "      <td>1,970</td>\n",
       "      <td>818</td>\n",
       "      <td>83</td>\n",
       "      <td>7,890</td>\n",
       "    </tr>\n",
       "  </tbody>\n",
       "</table>\n",
       "</div>"
      ],
      "text/plain": [
       "                                            Industry  ...    TOTAL\n",
       "0                  Agriculture, Forestry And Fishing  ...  341,422\n",
       "1                               Mining And Quarrying  ...    8,732\n",
       "2                                      Manufacturing  ...  276,885\n",
       "3  Electricity, Gas, Steam And Air Conditioning S...  ...   12,338\n",
       "4  Water Supply; Sewerage, Waste Management And R...  ...    7,890\n",
       "\n",
       "[5 rows x 13 columns]"
      ]
     },
     "execution_count": 58,
     "metadata": {
      "tags": []
     },
     "output_type": "execute_result"
    }
   ],
   "source": [
    "df.head()"
   ]
  },
  {
   "cell_type": "markdown",
   "metadata": {
    "id": "NksObz3vBBRE"
   },
   "source": [
    "Checking number of unique Industry columns"
   ]
  },
  {
   "cell_type": "code",
   "execution_count": null,
   "metadata": {
    "id": "LouAJKSAAeHk"
   },
   "outputs": [],
   "source": [
    "industry_col_unique = df.Industry.unique()"
   ]
  },
  {
   "cell_type": "code",
   "execution_count": null,
   "metadata": {
    "colab": {
     "base_uri": "https://localhost:8080/"
    },
    "executionInfo": {
     "elapsed": 456,
     "status": "ok",
     "timestamp": 1626953991759,
     "user": {
      "displayName": "Isaac Mwendwa",
      "photoUrl": "https://lh3.googleusercontent.com/a-/AOh14Gik6eW-t_ttT93CxBiHADNOLtLhMyJGtlZTYPwGBQ=s64",
      "userId": "14986221937983786022"
     },
     "user_tz": -180
    },
    "id": "k6q5f-fUA3_8",
    "outputId": "802afaa2-3853-42f3-a0ca-88f621a3af51"
   },
   "outputs": [
    {
     "name": "stdout",
     "output_type": "stream",
     "text": [
      "21\n"
     ]
    }
   ],
   "source": [
    "print(len(industry_col_unique))"
   ]
  },
  {
   "cell_type": "markdown",
   "metadata": {
    "id": "bj5cUvjTBfUT"
   },
   "source": [
    "There are 21 unique columns in the compiled dataset as shown by the result above, which is as expected"
   ]
  },
  {
   "cell_type": "markdown",
   "metadata": {
    "id": "9EYhOeuziikS"
   },
   "source": [
    "#### Removing special characters from Wage_bracket columns"
   ]
  },
  {
   "cell_type": "code",
   "execution_count": null,
   "metadata": {
    "id": "haIQfMlRg02y"
   },
   "outputs": [],
   "source": [
    "\n",
    "cols = ['Wage_bracket_0_to_9999', 'Wage_bracket_10000_to_14999',\n",
    "       'Wage_bracket_15000_to_19999', 'Wage_bracket_20000_to_24999',\n",
    "       'Wage_bracket_25000_to_29999', 'Wage_bracket_30000_to_49999',\n",
    "       'Wage_bracket_50000_to_99999', 'Wage_bracket_100000_plus', 'TOTAL']\n",
    "\n",
    "df[cols] = df[cols].astype(str)  # cast to string\n",
    "\n",
    "# Removing special characters\n",
    "df[cols] = df[cols].replace({'\\$': '', ',': '', '-': ''}, regex=True)\n",
    "\n",
    "# Renaming Contribution_by_GDP column\n",
    "#df.rename(columns = {'Contribution_by_Gdp':'Contribution_to_GDP'}, inplace = True)\n",
    "\n",
    "# path to dataset\n",
    "path = '/content/drive/My Drive/ColabNotebooks/Project/'\n",
    "df.to_csv(path + 'Wage_Employment_and_GDP_2011_to_2018_Final.csv')\n"
   ]
  },
  {
   "cell_type": "markdown",
   "metadata": {
    "id": "PNiyqA11mhjs"
   },
   "source": [
    "#### Reading sanitized dataset"
   ]
  },
  {
   "cell_type": "code",
   "execution_count": null,
   "metadata": {
    "colab": {
     "base_uri": "https://localhost:8080/",
     "height": 909
    },
    "executionInfo": {
     "elapsed": 6078,
     "status": "ok",
     "timestamp": 1603442498402,
     "user": {
      "displayName": "Isaac Mwendwa",
      "photoUrl": "",
      "userId": "14986221937983786022"
     },
     "user_tz": -180
    },
    "id": "MMOKhi8vmP5x",
    "outputId": "5aa9da6a-a737-421f-caaa-3b547dbef498"
   },
   "outputs": [
    {
     "data": {
      "text/html": [
       "<div>\n",
       "<style scoped>\n",
       "    .dataframe tbody tr th:only-of-type {\n",
       "        vertical-align: middle;\n",
       "    }\n",
       "\n",
       "    .dataframe tbody tr th {\n",
       "        vertical-align: top;\n",
       "    }\n",
       "\n",
       "    .dataframe thead th {\n",
       "        text-align: right;\n",
       "    }\n",
       "</style>\n",
       "<table border=\"1\" class=\"dataframe\">\n",
       "  <thead>\n",
       "    <tr style=\"text-align: right;\">\n",
       "      <th></th>\n",
       "      <th>Unnamed: 0</th>\n",
       "      <th>Industry</th>\n",
       "      <th>Contribution_to_GDP</th>\n",
       "      <th>Growth_of_GDP</th>\n",
       "      <th>Wage_bracket_0_to_9999</th>\n",
       "      <th>Wage_bracket_10000_to_14999</th>\n",
       "      <th>Wage_bracket_15000_to_19999</th>\n",
       "      <th>Wage_bracket_20000_to_24999</th>\n",
       "      <th>Wage_bracket_25000_to_29999</th>\n",
       "      <th>Wage_bracket_30000_to_49999</th>\n",
       "      <th>Wage_bracket_50000_to_99999</th>\n",
       "      <th>Wage_bracket_100000_plus</th>\n",
       "      <th>TOTAL</th>\n",
       "    </tr>\n",
       "    <tr>\n",
       "      <th>Year</th>\n",
       "      <th></th>\n",
       "      <th></th>\n",
       "      <th></th>\n",
       "      <th></th>\n",
       "      <th></th>\n",
       "      <th></th>\n",
       "      <th></th>\n",
       "      <th></th>\n",
       "      <th></th>\n",
       "      <th></th>\n",
       "      <th></th>\n",
       "      <th></th>\n",
       "      <th></th>\n",
       "    </tr>\n",
       "  </thead>\n",
       "  <tbody>\n",
       "    <tr>\n",
       "      <th>2011-01-01</th>\n",
       "      <td>0</td>\n",
       "      <td>Agriculture, Forestry And Fishing</td>\n",
       "      <td>23.8</td>\n",
       "      <td>1.5</td>\n",
       "      <td>12141.0</td>\n",
       "      <td>36238.0</td>\n",
       "      <td>111549.0</td>\n",
       "      <td>100240.0</td>\n",
       "      <td>37712.0</td>\n",
       "      <td>23976.0</td>\n",
       "      <td>12935.0</td>\n",
       "      <td>6631.0</td>\n",
       "      <td>341422.0</td>\n",
       "    </tr>\n",
       "    <tr>\n",
       "      <th>2011-01-01</th>\n",
       "      <td>1</td>\n",
       "      <td>Mining And Quarrying</td>\n",
       "      <td>0.7</td>\n",
       "      <td>7.1</td>\n",
       "      <td>59.0</td>\n",
       "      <td>101.0</td>\n",
       "      <td>944.0</td>\n",
       "      <td>1586.0</td>\n",
       "      <td>1965.0</td>\n",
       "      <td>2312.0</td>\n",
       "      <td>1752.0</td>\n",
       "      <td>13.0</td>\n",
       "      <td>8732.0</td>\n",
       "    </tr>\n",
       "    <tr>\n",
       "      <th>2011-01-01</th>\n",
       "      <td>2</td>\n",
       "      <td>Manufacturing</td>\n",
       "      <td>9.6</td>\n",
       "      <td>3.4</td>\n",
       "      <td>632.0</td>\n",
       "      <td>1723.0</td>\n",
       "      <td>17205.0</td>\n",
       "      <td>50949.0</td>\n",
       "      <td>54427.0</td>\n",
       "      <td>76329.0</td>\n",
       "      <td>70040.0</td>\n",
       "      <td>5580.0</td>\n",
       "      <td>276885.0</td>\n",
       "    </tr>\n",
       "    <tr>\n",
       "      <th>2011-01-01</th>\n",
       "      <td>3</td>\n",
       "      <td>Electricity, Gas, Steam And Air Conditioning S...</td>\n",
       "      <td>0.4</td>\n",
       "      <td>-4.4</td>\n",
       "      <td>NaN</td>\n",
       "      <td>101.0</td>\n",
       "      <td>45.0</td>\n",
       "      <td>3229.0</td>\n",
       "      <td>690.0</td>\n",
       "      <td>1413.0</td>\n",
       "      <td>6830.0</td>\n",
       "      <td>30.0</td>\n",
       "      <td>12338.0</td>\n",
       "    </tr>\n",
       "    <tr>\n",
       "      <th>2011-01-01</th>\n",
       "      <td>4</td>\n",
       "      <td>Water Supply; Sewerage, Waste Management And R...</td>\n",
       "      <td>0.7</td>\n",
       "      <td>3.0</td>\n",
       "      <td>NaN</td>\n",
       "      <td>NaN</td>\n",
       "      <td>NaN</td>\n",
       "      <td>3036.0</td>\n",
       "      <td>1983.0</td>\n",
       "      <td>1970.0</td>\n",
       "      <td>818.0</td>\n",
       "      <td>83.0</td>\n",
       "      <td>7890.0</td>\n",
       "    </tr>\n",
       "    <tr>\n",
       "      <th>...</th>\n",
       "      <td>...</td>\n",
       "      <td>...</td>\n",
       "      <td>...</td>\n",
       "      <td>...</td>\n",
       "      <td>...</td>\n",
       "      <td>...</td>\n",
       "      <td>...</td>\n",
       "      <td>...</td>\n",
       "      <td>...</td>\n",
       "      <td>...</td>\n",
       "      <td>...</td>\n",
       "      <td>...</td>\n",
       "      <td>...</td>\n",
       "    </tr>\n",
       "    <tr>\n",
       "      <th>2018-01-01</th>\n",
       "      <td>163</td>\n",
       "      <td>Human Health And Social Work Activities</td>\n",
       "      <td>1.5</td>\n",
       "      <td>4.5</td>\n",
       "      <td>NaN</td>\n",
       "      <td>960.0</td>\n",
       "      <td>6108.0</td>\n",
       "      <td>17810.0</td>\n",
       "      <td>36788.0</td>\n",
       "      <td>65229.0</td>\n",
       "      <td>17572.0</td>\n",
       "      <td>4287.0</td>\n",
       "      <td>148755.0</td>\n",
       "    </tr>\n",
       "    <tr>\n",
       "      <th>2018-01-01</th>\n",
       "      <td>164</td>\n",
       "      <td>Arts, Entertainment And Recreation</td>\n",
       "      <td>0.1</td>\n",
       "      <td>6.4</td>\n",
       "      <td>NaN</td>\n",
       "      <td>46.0</td>\n",
       "      <td>857.0</td>\n",
       "      <td>1446.0</td>\n",
       "      <td>2277.0</td>\n",
       "      <td>1188.0</td>\n",
       "      <td>878.0</td>\n",
       "      <td>550.0</td>\n",
       "      <td>7243.0</td>\n",
       "    </tr>\n",
       "    <tr>\n",
       "      <th>2018-01-01</th>\n",
       "      <td>165</td>\n",
       "      <td>Other Service Activities</td>\n",
       "      <td>0.6</td>\n",
       "      <td>6.7</td>\n",
       "      <td>NaN</td>\n",
       "      <td>552.0</td>\n",
       "      <td>1735.0</td>\n",
       "      <td>4490.0</td>\n",
       "      <td>11270.0</td>\n",
       "      <td>11251.0</td>\n",
       "      <td>6312.0</td>\n",
       "      <td>722.0</td>\n",
       "      <td>36332.0</td>\n",
       "    </tr>\n",
       "    <tr>\n",
       "      <th>2018-01-01</th>\n",
       "      <td>166</td>\n",
       "      <td>Activities Of Households As Employers; Undiffe...</td>\n",
       "      <td>0.4</td>\n",
       "      <td>1.6</td>\n",
       "      <td>NaN</td>\n",
       "      <td>316.0</td>\n",
       "      <td>911.0</td>\n",
       "      <td>17245.0</td>\n",
       "      <td>15082.0</td>\n",
       "      <td>53200.0</td>\n",
       "      <td>29083.0</td>\n",
       "      <td>NaN</td>\n",
       "      <td>NaN</td>\n",
       "    </tr>\n",
       "    <tr>\n",
       "      <th>2018-01-01</th>\n",
       "      <td>167</td>\n",
       "      <td>Activities Of Extraterritorial Organizations A...</td>\n",
       "      <td>-1.9</td>\n",
       "      <td>1.1</td>\n",
       "      <td>NaN</td>\n",
       "      <td>NaN</td>\n",
       "      <td>NaN</td>\n",
       "      <td>NaN</td>\n",
       "      <td>NaN</td>\n",
       "      <td>NaN</td>\n",
       "      <td>NaN</td>\n",
       "      <td>NaN</td>\n",
       "      <td>115836.0</td>\n",
       "    </tr>\n",
       "  </tbody>\n",
       "</table>\n",
       "<p>168 rows × 13 columns</p>\n",
       "</div>"
      ],
      "text/plain": [
       "            Unnamed: 0  ...     TOTAL\n",
       "Year                    ...          \n",
       "2011-01-01           0  ...  341422.0\n",
       "2011-01-01           1  ...    8732.0\n",
       "2011-01-01           2  ...  276885.0\n",
       "2011-01-01           3  ...   12338.0\n",
       "2011-01-01           4  ...    7890.0\n",
       "...                ...  ...       ...\n",
       "2018-01-01         163  ...  148755.0\n",
       "2018-01-01         164  ...    7243.0\n",
       "2018-01-01         165  ...   36332.0\n",
       "2018-01-01         166  ...       NaN\n",
       "2018-01-01         167  ...  115836.0\n",
       "\n",
       "[168 rows x 13 columns]"
      ]
     },
     "execution_count": 60,
     "metadata": {
      "tags": []
     },
     "output_type": "execute_result"
    }
   ],
   "source": [
    "pathDataset = '/content/drive/My Drive/ColabNotebooks/Project/Wage_Employment_and_GDP_2011_to_2018_Final.csv'\n",
    "df = pd.read_csv(pathDataset,\n",
    "                 parse_dates=['Year'],\n",
    "                 index_col=['Year'],\n",
    "                 na_values=['nan','?','-'])\n",
    "#df = df.set_index(['Year']) # Setting index to Year\n",
    "#df.index = pd.to_datetime(df.index, format='%Y')  # Converting index to datetime\n",
    "df"
   ]
  },
  {
   "cell_type": "markdown",
   "metadata": {
    "id": "Z89fxhadGhxr"
   },
   "source": []
  },
  {
   "cell_type": "code",
   "execution_count": null,
   "metadata": {
    "colab": {
     "base_uri": "https://localhost:8080/",
     "height": 384
    },
    "executionInfo": {
     "elapsed": 6066,
     "status": "ok",
     "timestamp": 1603442498407,
     "user": {
      "displayName": "Isaac Mwendwa",
      "photoUrl": "",
      "userId": "14986221937983786022"
     },
     "user_tz": -180
    },
    "id": "3M76Gt0CszEm",
    "outputId": "4e43c42a-8e4e-48f3-a7ec-3dea208f317e"
   },
   "outputs": [
    {
     "name": "stdout",
     "output_type": "stream",
     "text": [
      "<class 'pandas.core.frame.DataFrame'>\n",
      "DatetimeIndex: 168 entries, 2011-01-01 to 2018-01-01\n",
      "Data columns (total 13 columns):\n",
      " #   Column                       Non-Null Count  Dtype  \n",
      "---  ------                       --------------  -----  \n",
      " 0   Unnamed: 0                   168 non-null    int64  \n",
      " 1   Industry                     168 non-null    object \n",
      " 2   Contribution_to_GDP          166 non-null    float64\n",
      " 3   Growth_of_GDP                161 non-null    float64\n",
      " 4   Wage_bracket_0_to_9999       96 non-null     float64\n",
      " 5   Wage_bracket_10000_to_14999  144 non-null    float64\n",
      " 6   Wage_bracket_15000_to_19999  152 non-null    float64\n",
      " 7   Wage_bracket_20000_to_24999  167 non-null    float64\n",
      " 8   Wage_bracket_25000_to_29999  167 non-null    float64\n",
      " 9   Wage_bracket_30000_to_49999  167 non-null    float64\n",
      " 10  Wage_bracket_50000_to_99999  167 non-null    float64\n",
      " 11  Wage_bracket_100000_plus     154 non-null    float64\n",
      " 12  TOTAL                        167 non-null    float64\n",
      "dtypes: float64(11), int64(1), object(1)\n",
      "memory usage: 18.4+ KB\n"
     ]
    }
   ],
   "source": [
    "df.info()"
   ]
  },
  {
   "cell_type": "code",
   "execution_count": null,
   "metadata": {
    "colab": {
     "base_uri": "https://localhost:8080/",
     "height": 274
    },
    "executionInfo": {
     "elapsed": 6060,
     "status": "ok",
     "timestamp": 1603442498410,
     "user": {
      "displayName": "Isaac Mwendwa",
      "photoUrl": "",
      "userId": "14986221937983786022"
     },
     "user_tz": -180
    },
    "id": "w89EZL63fTKX",
    "outputId": "195185c8-b085-4cb8-9dd1-efe9256dad90"
   },
   "outputs": [
    {
     "data": {
      "text/plain": [
       "Unnamed: 0                       int64\n",
       "Industry                        object\n",
       "Contribution_to_GDP            float64\n",
       "Growth_of_GDP                  float64\n",
       "Wage_bracket_0_to_9999         float64\n",
       "Wage_bracket_10000_to_14999    float64\n",
       "Wage_bracket_15000_to_19999    float64\n",
       "Wage_bracket_20000_to_24999    float64\n",
       "Wage_bracket_25000_to_29999    float64\n",
       "Wage_bracket_30000_to_49999    float64\n",
       "Wage_bracket_50000_to_99999    float64\n",
       "Wage_bracket_100000_plus       float64\n",
       "TOTAL                          float64\n",
       "dtype: object"
      ]
     },
     "execution_count": 62,
     "metadata": {
      "tags": []
     },
     "output_type": "execute_result"
    }
   ],
   "source": [
    "df.dtypes"
   ]
  },
  {
   "cell_type": "code",
   "execution_count": null,
   "metadata": {
    "colab": {
     "base_uri": "https://localhost:8080/",
     "height": 35
    },
    "executionInfo": {
     "elapsed": 6055,
     "status": "ok",
     "timestamp": 1603442498415,
     "user": {
      "displayName": "Isaac Mwendwa",
      "photoUrl": "",
      "userId": "14986221937983786022"
     },
     "user_tz": -180
    },
    "id": "507BVbywfbW5",
    "outputId": "ac175b21-04a1-4f62-9bfd-60523245e957"
   },
   "outputs": [
    {
     "data": {
      "text/plain": [
       "(168, 13)"
      ]
     },
     "execution_count": 63,
     "metadata": {
      "tags": []
     },
     "output_type": "execute_result"
    }
   ],
   "source": [
    "df.shape"
   ]
  },
  {
   "cell_type": "code",
   "execution_count": null,
   "metadata": {
    "colab": {
     "base_uri": "https://localhost:8080/",
     "height": 127
    },
    "executionInfo": {
     "elapsed": 6048,
     "status": "ok",
     "timestamp": 1603442498418,
     "user": {
      "displayName": "Isaac Mwendwa",
      "photoUrl": "",
      "userId": "14986221937983786022"
     },
     "user_tz": -180
    },
    "id": "bgYvNMoVTPLz",
    "outputId": "5b531e4c-20f6-450b-b1e0-deb07321b293"
   },
   "outputs": [
    {
     "data": {
      "text/plain": [
       "Index(['Unnamed: 0', 'Industry', 'Contribution_to_GDP', 'Growth_of_GDP',\n",
       "       'Wage_bracket_0_to_9999', 'Wage_bracket_10000_to_14999',\n",
       "       'Wage_bracket_15000_to_19999', 'Wage_bracket_20000_to_24999',\n",
       "       'Wage_bracket_25000_to_29999', 'Wage_bracket_30000_to_49999',\n",
       "       'Wage_bracket_50000_to_99999', 'Wage_bracket_100000_plus', 'TOTAL'],\n",
       "      dtype='object')"
      ]
     },
     "execution_count": 64,
     "metadata": {
      "tags": []
     },
     "output_type": "execute_result"
    }
   ],
   "source": [
    "df.columns"
   ]
  },
  {
   "cell_type": "markdown",
   "metadata": {
    "id": "Xyk_AnimkBkr"
   },
   "source": [
    "### Dealing with nan values -- filling nan with mean in the columns"
   ]
  },
  {
   "cell_type": "code",
   "execution_count": null,
   "metadata": {
    "colab": {
     "base_uri": "https://localhost:8080/",
     "height": 35
    },
    "executionInfo": {
     "elapsed": 6042,
     "status": "ok",
     "timestamp": 1603442498421,
     "user": {
      "displayName": "Isaac Mwendwa",
      "photoUrl": "",
      "userId": "14986221937983786022"
     },
     "user_tz": -180
    },
    "id": "aPVWU6aqTcPV",
    "outputId": "996dd6de-d622-46b4-83f9-66d2a2643b08"
   },
   "outputs": [
    {
     "data": {
      "text/plain": [
       "[2, 3, 4, 5, 6, 7, 8, 9, 10, 11, 12]"
      ]
     },
     "execution_count": 65,
     "metadata": {
      "tags": []
     },
     "output_type": "execute_result"
    }
   ],
   "source": [
    "# finding all columns that have nan:\n",
    "nan_list =[]  #list of columns with nan values\n",
    "for j in range(2,13):\n",
    "    if not df.iloc[:, j].notnull().all():\n",
    "        nan_list.append(j)\n",
    "nan_list"
   ]
  },
  {
   "cell_type": "code",
   "execution_count": null,
   "metadata": {
    "id": "UuTaxe0HUDix"
   },
   "outputs": [],
   "source": [
    "# filling nan with mean in any columns\n",
    "for j in range(2,13):        \n",
    "        df.iloc[:,j]=df.iloc[:,j].fillna(df.iloc[:,j].mean())"
   ]
  },
  {
   "cell_type": "markdown",
   "metadata": {
    "id": "0aRaZOOH29NS"
   },
   "source": [
    "#### Verifying no column has NaN now"
   ]
  },
  {
   "cell_type": "code",
   "execution_count": null,
   "metadata": {
    "colab": {
     "base_uri": "https://localhost:8080/",
     "height": 274
    },
    "executionInfo": {
     "elapsed": 6025,
     "status": "ok",
     "timestamp": 1603442498426,
     "user": {
      "displayName": "Isaac Mwendwa",
      "photoUrl": "",
      "userId": "14986221937983786022"
     },
     "user_tz": -180
    },
    "id": "1q_Bb6y8UNhb",
    "outputId": "d99b5926-893f-47f0-9b32-61182d8134e0"
   },
   "outputs": [
    {
     "data": {
      "text/plain": [
       "Unnamed: 0                     0\n",
       "Industry                       0\n",
       "Contribution_to_GDP            0\n",
       "Growth_of_GDP                  0\n",
       "Wage_bracket_0_to_9999         0\n",
       "Wage_bracket_10000_to_14999    0\n",
       "Wage_bracket_15000_to_19999    0\n",
       "Wage_bracket_20000_to_24999    0\n",
       "Wage_bracket_25000_to_29999    0\n",
       "Wage_bracket_30000_to_49999    0\n",
       "Wage_bracket_50000_to_99999    0\n",
       "Wage_bracket_100000_plus       0\n",
       "TOTAL                          0\n",
       "dtype: int64"
      ]
     },
     "execution_count": 67,
     "metadata": {
      "tags": []
     },
     "output_type": "execute_result"
    }
   ],
   "source": [
    "# Checking if any column has nan\n",
    "df.isnull().sum()"
   ]
  },
  {
   "cell_type": "markdown",
   "metadata": {
    "id": "FAplh3gin9mq"
   },
   "source": [
    "Checking dtypes of columns"
   ]
  },
  {
   "cell_type": "code",
   "execution_count": null,
   "metadata": {
    "colab": {
     "base_uri": "https://localhost:8080/",
     "height": 274
    },
    "executionInfo": {
     "elapsed": 6015,
     "status": "ok",
     "timestamp": 1603442498429,
     "user": {
      "displayName": "Isaac Mwendwa",
      "photoUrl": "",
      "userId": "14986221937983786022"
     },
     "user_tz": -180
    },
    "id": "miYVLz-DVmmr",
    "outputId": "15186688-a5be-49bc-e4a8-53c7ac1f0a7c"
   },
   "outputs": [
    {
     "data": {
      "text/plain": [
       "Unnamed: 0                       int64\n",
       "Industry                        object\n",
       "Contribution_to_GDP            float64\n",
       "Growth_of_GDP                  float64\n",
       "Wage_bracket_0_to_9999         float64\n",
       "Wage_bracket_10000_to_14999    float64\n",
       "Wage_bracket_15000_to_19999    float64\n",
       "Wage_bracket_20000_to_24999    float64\n",
       "Wage_bracket_25000_to_29999    float64\n",
       "Wage_bracket_30000_to_49999    float64\n",
       "Wage_bracket_50000_to_99999    float64\n",
       "Wage_bracket_100000_plus       float64\n",
       "TOTAL                          float64\n",
       "dtype: object"
      ]
     },
     "execution_count": 68,
     "metadata": {
      "tags": []
     },
     "output_type": "execute_result"
    }
   ],
   "source": [
    "df.dtypes"
   ]
  },
  {
   "cell_type": "markdown",
   "metadata": {
    "id": "2MyCZI1SoaBH"
   },
   "source": [
    "#### Casting Wage_bracket_ columns from float64 to int64"
   ]
  },
  {
   "cell_type": "code",
   "execution_count": null,
   "metadata": {
    "id": "CsXsIPDVV1v9"
   },
   "outputs": [],
   "source": [
    "cols = ['Wage_bracket_0_to_9999', 'Wage_bracket_10000_to_14999',\n",
    "       'Wage_bracket_15000_to_19999', 'Wage_bracket_20000_to_24999',\n",
    "       'Wage_bracket_25000_to_29999', 'Wage_bracket_30000_to_49999',\n",
    "       'Wage_bracket_50000_to_99999', 'Wage_bracket_100000_plus']\n",
    "\n",
    "\n",
    "df[cols] = df[cols].astype(int)  # cast to int"
   ]
  },
  {
   "cell_type": "markdown",
   "metadata": {
    "id": "o00GsEdeoJUg"
   },
   "source": [
    "#### Confirming that the dtypes of Wage_bracket_ columns have been converted from float to int"
   ]
  },
  {
   "cell_type": "code",
   "execution_count": null,
   "metadata": {
    "colab": {
     "base_uri": "https://localhost:8080/",
     "height": 274
    },
    "executionInfo": {
     "elapsed": 6008,
     "status": "ok",
     "timestamp": 1603442498436,
     "user": {
      "displayName": "Isaac Mwendwa",
      "photoUrl": "",
      "userId": "14986221937983786022"
     },
     "user_tz": -180
    },
    "id": "VD5_d6OHWB-n",
    "outputId": "99fea336-44f9-45f4-8f29-7e0ce7c04a36"
   },
   "outputs": [
    {
     "data": {
      "text/plain": [
       "Unnamed: 0                       int64\n",
       "Industry                        object\n",
       "Contribution_to_GDP            float64\n",
       "Growth_of_GDP                  float64\n",
       "Wage_bracket_0_to_9999           int64\n",
       "Wage_bracket_10000_to_14999      int64\n",
       "Wage_bracket_15000_to_19999      int64\n",
       "Wage_bracket_20000_to_24999      int64\n",
       "Wage_bracket_25000_to_29999      int64\n",
       "Wage_bracket_30000_to_49999      int64\n",
       "Wage_bracket_50000_to_99999      int64\n",
       "Wage_bracket_100000_plus         int64\n",
       "TOTAL                          float64\n",
       "dtype: object"
      ]
     },
     "execution_count": 70,
     "metadata": {
      "tags": []
     },
     "output_type": "execute_result"
    }
   ],
   "source": [
    "df.dtypes\n",
    "#df.head()"
   ]
  },
  {
   "cell_type": "code",
   "execution_count": null,
   "metadata": {
    "colab": {
     "base_uri": "https://localhost:8080/",
     "height": 338
    },
    "executionInfo": {
     "elapsed": 6002,
     "status": "ok",
     "timestamp": 1603442498439,
     "user": {
      "displayName": "Isaac Mwendwa",
      "photoUrl": "",
      "userId": "14986221937983786022"
     },
     "user_tz": -180
    },
    "id": "yhQA8ep4WRds",
    "outputId": "77a4c676-2677-4c88-e618-c859b8cea95d"
   },
   "outputs": [
    {
     "data": {
      "text/html": [
       "<div>\n",
       "<style scoped>\n",
       "    .dataframe tbody tr th:only-of-type {\n",
       "        vertical-align: middle;\n",
       "    }\n",
       "\n",
       "    .dataframe tbody tr th {\n",
       "        vertical-align: top;\n",
       "    }\n",
       "\n",
       "    .dataframe thead th {\n",
       "        text-align: right;\n",
       "    }\n",
       "</style>\n",
       "<table border=\"1\" class=\"dataframe\">\n",
       "  <thead>\n",
       "    <tr style=\"text-align: right;\">\n",
       "      <th></th>\n",
       "      <th>Unnamed: 0</th>\n",
       "      <th>Contribution_to_GDP</th>\n",
       "      <th>Growth_of_GDP</th>\n",
       "      <th>Wage_bracket_0_to_9999</th>\n",
       "      <th>Wage_bracket_10000_to_14999</th>\n",
       "      <th>Wage_bracket_15000_to_19999</th>\n",
       "      <th>Wage_bracket_20000_to_24999</th>\n",
       "      <th>Wage_bracket_25000_to_29999</th>\n",
       "      <th>Wage_bracket_30000_to_49999</th>\n",
       "      <th>Wage_bracket_50000_to_99999</th>\n",
       "      <th>Wage_bracket_100000_plus</th>\n",
       "      <th>TOTAL</th>\n",
       "    </tr>\n",
       "  </thead>\n",
       "  <tbody>\n",
       "    <tr>\n",
       "      <th>count</th>\n",
       "      <td>168.000000</td>\n",
       "      <td>168.000000</td>\n",
       "      <td>168.000000</td>\n",
       "      <td>168.000000</td>\n",
       "      <td>168.000000</td>\n",
       "      <td>168.000000</td>\n",
       "      <td>168.000000</td>\n",
       "      <td>168.000000</td>\n",
       "      <td>168.000000</td>\n",
       "      <td>168.000000</td>\n",
       "      <td>168.000000</td>\n",
       "      <td>168.000000</td>\n",
       "    </tr>\n",
       "    <tr>\n",
       "      <th>mean</th>\n",
       "      <td>83.500000</td>\n",
       "      <td>4.403012</td>\n",
       "      <td>5.354037</td>\n",
       "      <td>1680.553571</td>\n",
       "      <td>2498.755952</td>\n",
       "      <td>9143.380952</td>\n",
       "      <td>17074.642857</td>\n",
       "      <td>20948.005952</td>\n",
       "      <td>34258.625000</td>\n",
       "      <td>28868.702381</td>\n",
       "      <td>4186.000000</td>\n",
       "      <td>116453.365269</td>\n",
       "    </tr>\n",
       "    <tr>\n",
       "      <th>std</th>\n",
       "      <td>48.641546</td>\n",
       "      <td>6.463415</td>\n",
       "      <td>4.126909</td>\n",
       "      <td>2308.034773</td>\n",
       "      <td>5485.628377</td>\n",
       "      <td>19421.986836</td>\n",
       "      <td>22994.028045</td>\n",
       "      <td>27002.516428</td>\n",
       "      <td>40714.966114</td>\n",
       "      <td>38148.329144</td>\n",
       "      <td>6741.704946</td>\n",
       "      <td>127518.568458</td>\n",
       "    </tr>\n",
       "    <tr>\n",
       "      <th>min</th>\n",
       "      <td>0.000000</td>\n",
       "      <td>-2.800000</td>\n",
       "      <td>-16.700000</td>\n",
       "      <td>23.000000</td>\n",
       "      <td>35.000000</td>\n",
       "      <td>45.000000</td>\n",
       "      <td>195.000000</td>\n",
       "      <td>71.000000</td>\n",
       "      <td>236.000000</td>\n",
       "      <td>275.000000</td>\n",
       "      <td>13.000000</td>\n",
       "      <td>1009.000000</td>\n",
       "    </tr>\n",
       "    <tr>\n",
       "      <th>25%</th>\n",
       "      <td>41.750000</td>\n",
       "      <td>0.800000</td>\n",
       "      <td>3.000000</td>\n",
       "      <td>406.000000</td>\n",
       "      <td>249.500000</td>\n",
       "      <td>800.000000</td>\n",
       "      <td>3144.750000</td>\n",
       "      <td>2233.000000</td>\n",
       "      <td>2380.750000</td>\n",
       "      <td>2009.750000</td>\n",
       "      <td>540.000000</td>\n",
       "      <td>13902.250000</td>\n",
       "    </tr>\n",
       "    <tr>\n",
       "      <th>50%</th>\n",
       "      <td>83.500000</td>\n",
       "      <td>1.700000</td>\n",
       "      <td>5.354037</td>\n",
       "      <td>1680.000000</td>\n",
       "      <td>889.000000</td>\n",
       "      <td>1773.000000</td>\n",
       "      <td>8038.000000</td>\n",
       "      <td>14603.000000</td>\n",
       "      <td>22798.000000</td>\n",
       "      <td>18818.000000</td>\n",
       "      <td>2585.000000</td>\n",
       "      <td>76407.500000</td>\n",
       "    </tr>\n",
       "    <tr>\n",
       "      <th>75%</th>\n",
       "      <td>125.250000</td>\n",
       "      <td>6.725000</td>\n",
       "      <td>7.025000</td>\n",
       "      <td>1680.000000</td>\n",
       "      <td>2498.000000</td>\n",
       "      <td>9143.000000</td>\n",
       "      <td>21628.750000</td>\n",
       "      <td>29698.000000</td>\n",
       "      <td>50732.000000</td>\n",
       "      <td>36935.250000</td>\n",
       "      <td>5052.750000</td>\n",
       "      <td>164204.250000</td>\n",
       "    </tr>\n",
       "    <tr>\n",
       "      <th>max</th>\n",
       "      <td>167.000000</td>\n",
       "      <td>34.800000</td>\n",
       "      <td>19.000000</td>\n",
       "      <td>13312.000000</td>\n",
       "      <td>36797.000000</td>\n",
       "      <td>113270.000000</td>\n",
       "      <td>101786.000000</td>\n",
       "      <td>140233.000000</td>\n",
       "      <td>265031.000000</td>\n",
       "      <td>282385.000000</td>\n",
       "      <td>56221.000000</td>\n",
       "      <td>576831.000000</td>\n",
       "    </tr>\n",
       "  </tbody>\n",
       "</table>\n",
       "</div>"
      ],
      "text/plain": [
       "       Unnamed: 0  Contribution_to_GDP  ...  Wage_bracket_100000_plus          TOTAL\n",
       "count  168.000000           168.000000  ...                168.000000     168.000000\n",
       "mean    83.500000             4.403012  ...               4186.000000  116453.365269\n",
       "std     48.641546             6.463415  ...               6741.704946  127518.568458\n",
       "min      0.000000            -2.800000  ...                 13.000000    1009.000000\n",
       "25%     41.750000             0.800000  ...                540.000000   13902.250000\n",
       "50%     83.500000             1.700000  ...               2585.000000   76407.500000\n",
       "75%    125.250000             6.725000  ...               5052.750000  164204.250000\n",
       "max    167.000000            34.800000  ...              56221.000000  576831.000000\n",
       "\n",
       "[8 rows x 12 columns]"
      ]
     },
     "execution_count": 71,
     "metadata": {
      "tags": []
     },
     "output_type": "execute_result"
    }
   ],
   "source": [
    "df.describe()"
   ]
  },
  {
   "cell_type": "code",
   "execution_count": null,
   "metadata": {
    "colab": {
     "base_uri": "https://localhost:8080/",
     "height": 127
    },
    "executionInfo": {
     "elapsed": 5996,
     "status": "ok",
     "timestamp": 1603442498442,
     "user": {
      "displayName": "Isaac Mwendwa",
      "photoUrl": "",
      "userId": "14986221937983786022"
     },
     "user_tz": -180
    },
    "id": "ryaG3OhA-fER",
    "outputId": "fa9e44b2-3337-4e22-8ac8-24b7bbd29631"
   },
   "outputs": [
    {
     "data": {
      "text/plain": [
       "Index(['Unnamed: 0', 'Industry', 'Contribution_to_GDP', 'Growth_of_GDP',\n",
       "       'Wage_bracket_0_to_9999', 'Wage_bracket_10000_to_14999',\n",
       "       'Wage_bracket_15000_to_19999', 'Wage_bracket_20000_to_24999',\n",
       "       'Wage_bracket_25000_to_29999', 'Wage_bracket_30000_to_49999',\n",
       "       'Wage_bracket_50000_to_99999', 'Wage_bracket_100000_plus', 'TOTAL'],\n",
       "      dtype='object')"
      ]
     },
     "execution_count": 72,
     "metadata": {
      "tags": []
     },
     "output_type": "execute_result"
    }
   ],
   "source": [
    "df.columns"
   ]
  },
  {
   "cell_type": "markdown",
   "metadata": {
    "id": "m5hd6vi5ybJU"
   },
   "source": [
    "#### Adding new column for total_number_in_wage_employment\n",
    "\n",
    "To accomodate changes made in wage_bracket columns, we need to have a column for the new total number of people in wage_bracket columns "
   ]
  },
  {
   "cell_type": "code",
   "execution_count": null,
   "metadata": {
    "colab": {
     "base_uri": "https://localhost:8080/",
     "height": 164
    },
    "executionInfo": {
     "elapsed": 5986,
     "status": "ok",
     "timestamp": 1603442498446,
     "user": {
      "displayName": "Isaac Mwendwa",
      "photoUrl": "",
      "userId": "14986221937983786022"
     },
     "user_tz": -180
    },
    "id": "hQf4DaF4yZKd",
    "outputId": "488dc0eb-c017-46e0-d258-29f25a62231e"
   },
   "outputs": [
    {
     "data": {
      "text/plain": [
       "['Wage_bracket_0_to_9999',\n",
       " 'Wage_bracket_10000_to_14999',\n",
       " 'Wage_bracket_15000_to_19999',\n",
       " 'Wage_bracket_20000_to_24999',\n",
       " 'Wage_bracket_25000_to_29999',\n",
       " 'Wage_bracket_30000_to_49999',\n",
       " 'Wage_bracket_50000_to_99999',\n",
       " 'Wage_bracket_100000_plus']"
      ]
     },
     "execution_count": 73,
     "metadata": {
      "tags": []
     },
     "output_type": "execute_result"
    }
   ],
   "source": [
    "# Removing unwanted columns, to remain with wage_bracket_cols\n",
    "col_list= list(df)\n",
    "unwanted = {'Unnamed: 0', 'Industry', 'Contribution_to_GDP', 'Growth_of_GDP', 'TOTAL'} # columns to remove\n",
    "wage_bracket_cols = [e for e in col_list if e not in unwanted] # Removing columns in unwanted\n",
    "wage_bracket_cols"
   ]
  },
  {
   "cell_type": "code",
   "execution_count": null,
   "metadata": {
    "colab": {
     "base_uri": "https://localhost:8080/",
     "height": 466
    },
    "executionInfo": {
     "elapsed": 5982,
     "status": "ok",
     "timestamp": 1603442498452,
     "user": {
      "displayName": "Isaac Mwendwa",
      "photoUrl": "",
      "userId": "14986221937983786022"
     },
     "user_tz": -180
    },
    "id": "Zc050_T6BYv3",
    "outputId": "acb75459-67da-47b6-ecd2-0dcec833eb7d"
   },
   "outputs": [
    {
     "data": {
      "text/html": [
       "<div>\n",
       "<style scoped>\n",
       "    .dataframe tbody tr th:only-of-type {\n",
       "        vertical-align: middle;\n",
       "    }\n",
       "\n",
       "    .dataframe tbody tr th {\n",
       "        vertical-align: top;\n",
       "    }\n",
       "\n",
       "    .dataframe thead th {\n",
       "        text-align: right;\n",
       "    }\n",
       "</style>\n",
       "<table border=\"1\" class=\"dataframe\">\n",
       "  <thead>\n",
       "    <tr style=\"text-align: right;\">\n",
       "      <th></th>\n",
       "      <th>Unnamed: 0</th>\n",
       "      <th>Industry</th>\n",
       "      <th>Contribution_to_GDP</th>\n",
       "      <th>Growth_of_GDP</th>\n",
       "      <th>Wage_bracket_0_to_9999</th>\n",
       "      <th>Wage_bracket_10000_to_14999</th>\n",
       "      <th>Wage_bracket_15000_to_19999</th>\n",
       "      <th>Wage_bracket_20000_to_24999</th>\n",
       "      <th>Wage_bracket_25000_to_29999</th>\n",
       "      <th>Wage_bracket_30000_to_49999</th>\n",
       "      <th>Wage_bracket_50000_to_99999</th>\n",
       "      <th>Wage_bracket_100000_plus</th>\n",
       "      <th>TOTAL</th>\n",
       "      <th>Total_number_in_wage_employment</th>\n",
       "    </tr>\n",
       "    <tr>\n",
       "      <th>Year</th>\n",
       "      <th></th>\n",
       "      <th></th>\n",
       "      <th></th>\n",
       "      <th></th>\n",
       "      <th></th>\n",
       "      <th></th>\n",
       "      <th></th>\n",
       "      <th></th>\n",
       "      <th></th>\n",
       "      <th></th>\n",
       "      <th></th>\n",
       "      <th></th>\n",
       "      <th></th>\n",
       "      <th></th>\n",
       "    </tr>\n",
       "  </thead>\n",
       "  <tbody>\n",
       "    <tr>\n",
       "      <th>2011-01-01</th>\n",
       "      <td>0</td>\n",
       "      <td>Agriculture, Forestry And Fishing</td>\n",
       "      <td>23.8</td>\n",
       "      <td>1.5</td>\n",
       "      <td>12141</td>\n",
       "      <td>36238</td>\n",
       "      <td>111549</td>\n",
       "      <td>100240</td>\n",
       "      <td>37712</td>\n",
       "      <td>23976</td>\n",
       "      <td>12935</td>\n",
       "      <td>6631</td>\n",
       "      <td>341422.0</td>\n",
       "      <td>341422</td>\n",
       "    </tr>\n",
       "    <tr>\n",
       "      <th>2011-01-01</th>\n",
       "      <td>1</td>\n",
       "      <td>Mining And Quarrying</td>\n",
       "      <td>0.7</td>\n",
       "      <td>7.1</td>\n",
       "      <td>59</td>\n",
       "      <td>101</td>\n",
       "      <td>944</td>\n",
       "      <td>1586</td>\n",
       "      <td>1965</td>\n",
       "      <td>2312</td>\n",
       "      <td>1752</td>\n",
       "      <td>13</td>\n",
       "      <td>8732.0</td>\n",
       "      <td>8732</td>\n",
       "    </tr>\n",
       "    <tr>\n",
       "      <th>2011-01-01</th>\n",
       "      <td>2</td>\n",
       "      <td>Manufacturing</td>\n",
       "      <td>9.6</td>\n",
       "      <td>3.4</td>\n",
       "      <td>632</td>\n",
       "      <td>1723</td>\n",
       "      <td>17205</td>\n",
       "      <td>50949</td>\n",
       "      <td>54427</td>\n",
       "      <td>76329</td>\n",
       "      <td>70040</td>\n",
       "      <td>5580</td>\n",
       "      <td>276885.0</td>\n",
       "      <td>276885</td>\n",
       "    </tr>\n",
       "    <tr>\n",
       "      <th>2011-01-01</th>\n",
       "      <td>3</td>\n",
       "      <td>Electricity, Gas, Steam And Air Conditioning S...</td>\n",
       "      <td>0.4</td>\n",
       "      <td>-4.4</td>\n",
       "      <td>1680</td>\n",
       "      <td>101</td>\n",
       "      <td>45</td>\n",
       "      <td>3229</td>\n",
       "      <td>690</td>\n",
       "      <td>1413</td>\n",
       "      <td>6830</td>\n",
       "      <td>30</td>\n",
       "      <td>12338.0</td>\n",
       "      <td>14018</td>\n",
       "    </tr>\n",
       "    <tr>\n",
       "      <th>2011-01-01</th>\n",
       "      <td>4</td>\n",
       "      <td>Water Supply; Sewerage, Waste Management And R...</td>\n",
       "      <td>0.7</td>\n",
       "      <td>3.0</td>\n",
       "      <td>1680</td>\n",
       "      <td>2498</td>\n",
       "      <td>9143</td>\n",
       "      <td>3036</td>\n",
       "      <td>1983</td>\n",
       "      <td>1970</td>\n",
       "      <td>818</td>\n",
       "      <td>83</td>\n",
       "      <td>7890.0</td>\n",
       "      <td>21211</td>\n",
       "    </tr>\n",
       "  </tbody>\n",
       "</table>\n",
       "</div>"
      ],
      "text/plain": [
       "            Unnamed: 0  ... Total_number_in_wage_employment\n",
       "Year                    ...                                \n",
       "2011-01-01           0  ...                          341422\n",
       "2011-01-01           1  ...                            8732\n",
       "2011-01-01           2  ...                          276885\n",
       "2011-01-01           3  ...                           14018\n",
       "2011-01-01           4  ...                           21211\n",
       "\n",
       "[5 rows x 14 columns]"
      ]
     },
     "execution_count": 74,
     "metadata": {
      "tags": []
     },
     "output_type": "execute_result"
    }
   ],
   "source": [
    "#  Adding new column for total, which is a sum of rows of wage_bracket_cols\n",
    "df['Total_number_in_wage_employment'] = df[wage_bracket_cols].sum(axis=1)\n",
    "df.head()"
   ]
  },
  {
   "cell_type": "code",
   "execution_count": null,
   "metadata": {
    "id": "ydogVnHx7ZcE"
   },
   "outputs": [],
   "source": []
  },
  {
   "cell_type": "markdown",
   "metadata": {
    "id": "dGu4Is4IDJyb"
   },
   "source": [
    "### Deleting old total column, saving dataframe to csv (updated dataset)"
   ]
  },
  {
   "cell_type": "code",
   "execution_count": null,
   "metadata": {
    "id": "WO-2BNQGCwUg"
   },
   "outputs": [],
   "source": [
    "#Deleting old total column\n",
    "df.drop('TOTAL', axis=1, inplace=True)\n",
    "\n",
    "#Saving dataset\n",
    "path = '/content/drive/My Drive/ColabNotebooks/Project/'  #path to dataset\n",
    "df.to_csv(path + 'Wage_Employment_and_GDP_2011_to_2018_Updated.csv')  #saving updated dataset\n"
   ]
  },
  {
   "cell_type": "markdown",
   "metadata": {
    "id": "gN2JlEoJpNJa"
   },
   "source": [
    "### ---------------------------------------------------- End of Data Preparation Section (Part 3) -----------------------\n",
    "\n",
    "\n",
    "---\n",
    "\n",
    "\n"
   ]
  }
 ],
 "metadata": {
  "colab": {
   "authorship_tag": "ABX9TyNqKqHJqhzvE+d+YrcsV2vO",
   "collapsed_sections": [
    "ygHP9ypq9nIo",
    "cyBf6kXW_VTb",
    "mDEsGgrI_d8r",
    "fO_mb0KODBqK",
    "7e8FREFM8G4O",
    "x_mebJS77pQn",
    "YXoRoq-33GiK",
    "-qNNTK95qqTF",
    "SOAIU9WsgPay",
    "zrfn3WutrSKq",
    "E07jwRHogW8U",
    "0aRaZOOH29NS",
    "o00GsEdeoJUg",
    "m5hd6vi5ybJU",
    "gN2JlEoJpNJa",
    "PUZLneG_0-hT",
    "Eow43W5XSiPV",
    "iFDXT6ODk5kr",
    "I50LjAA4F9-q",
    "QwYywP-00BPJ",
    "qt3gAaU4297m",
    "DDiugnx06hZz",
    "He98v9XS66lZ",
    "W5XDrKcO_a5K",
    "qsa_9gILxsVu",
    "zQYadi-Rye4Q",
    "rgUVCWSJzUIW",
    "V-dlJA_Fz0s_",
    "VUxsPm320OV8",
    "q8QUPS5q0fwy",
    "M1YXmbgp1nCC",
    "YU2RPyZr18Vv",
    "Oys8jB902JlM",
    "T8Hld4Om2hi7",
    "CZbCPQTE3NwI",
    "Awa172nh5Jn6"
   ],
   "mount_file_id": "1aEISjRYb0vViYxkV8Wrn1rxc_t0fAmo8",
   "name": "Predictive_Analysis_of_Productive_Employment_based_on_Economic_Growth.ipynb",
   "provenance": []
  },
  "kernelspec": {
   "display_name": "Python 3",
   "language": "python",
   "name": "python3"
  },
  "language_info": {
   "codemirror_mode": {
    "name": "ipython",
    "version": 3
   },
   "file_extension": ".py",
   "mimetype": "text/x-python",
   "name": "python",
   "nbconvert_exporter": "python",
   "pygments_lexer": "ipython3",
   "version": "3.6.9"
  }
 },
 "nbformat": 4,
 "nbformat_minor": 1
}
